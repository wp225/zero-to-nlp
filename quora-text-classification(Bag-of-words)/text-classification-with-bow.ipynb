{
 "cells": [
  {
   "metadata": {
    "ExecuteTime": {
     "end_time": "2024-07-18T07:39:56.247603Z",
     "start_time": "2024-07-18T07:39:56.240500Z"
    }
   },
   "cell_type": "code",
   "source": [
    "import pandas as pd \n",
    "import matplotlib.pyplot as plt\n",
    "import numpy as np\n",
    "import seaborn as sns\n",
    "import re"
   ],
   "id": "16ed1634174fedf0",
   "outputs": [],
   "execution_count": 75
  },
  {
   "metadata": {},
   "cell_type": "markdown",
   "source": "## Explore Data",
   "id": "495c524ebbdfacfd"
  },
  {
   "metadata": {},
   "cell_type": "markdown",
   "source": [
    "### Outline:\n",
    "1. Download data\n",
    "2. Perform EDA\n",
    "3. Create working sample"
   ],
   "id": "8febe73dcaeca8d0"
  },
  {
   "metadata": {
    "ExecuteTime": {
     "end_time": "2024-07-18T07:40:00.168131Z",
     "start_time": "2024-07-18T07:39:58.195458Z"
    }
   },
   "cell_type": "code",
   "source": [
    "train_frame = pd.read_csv('train.csv')\n",
    "test_frame = pd.read_csv('test.csv')"
   ],
   "id": "35c3bc44e880ae1d",
   "outputs": [],
   "execution_count": 76
  },
  {
   "metadata": {
    "ExecuteTime": {
     "end_time": "2024-07-18T07:40:00.807404Z",
     "start_time": "2024-07-18T07:40:00.734055Z"
    }
   },
   "cell_type": "code",
   "source": [
    "train_frame = train_frame.sample(frac=0.1,random_state=123)\n",
    "train_frame.shape"
   ],
   "id": "228eacda66e74e1f",
   "outputs": [
    {
     "data": {
      "text/plain": [
       "(130612, 3)"
      ]
     },
     "execution_count": 77,
     "metadata": {},
     "output_type": "execute_result"
    }
   ],
   "execution_count": 77
  },
  {
   "metadata": {
    "ExecuteTime": {
     "end_time": "2024-07-18T07:40:03.021127Z",
     "start_time": "2024-07-18T07:40:02.931419Z"
    }
   },
   "cell_type": "code",
   "source": [
    "counts = train_frame['target'].value_counts()\n",
    "plt.figure(figsize=(8,8))\n",
    "plt.pie(x=counts,labels=counts.index,autopct=\"%1.1f%%\")\n",
    "plt.show()"
   ],
   "id": "cfa61116ab2dba06",
   "outputs": [
    {
     "data": {
      "text/plain": [
       "<Figure size 800x800 with 1 Axes>"
      ],
      "image/png": "[encoded data removed]"
     },
     "metadata": {},
     "output_type": "display_data"
    }
   ],
   "execution_count": 78
  },
  {
   "metadata": {
    "ExecuteTime": {
     "end_time": "2024-07-18T07:02:47.611887Z",
     "start_time": "2024-07-18T07:02:47.492213Z"
    }
   },
   "cell_type": "code",
   "source": [
    "from collections import Counter\n",
    "sincere_question_list = list(train_frame[train_frame.target==1]['question_text'])\n",
    "sincere_question = ''.join(sincere_question_list)\n",
    "words = re.findall(r'\\b\\w+\\b', sincere_question.lower())\n",
    "word_counts = Counter(words)\n",
    "print(word_counts)\n"
   ],
   "id": "b362a0569bbfb506",
   "outputs": [
    {
     "name": "stdout",
     "output_type": "stream",
     "text": [
      "Counter({'the': 2548, 'to': 1815, 'why': 1769, 'and': 1430, 'a': 1328, 'is': 1287, 'of': 1225, 'do': 1214, 'are': 1101, 'in': 1051, 'that': 801, 'it': 733, 'they': 645, 'i': 622, 'for': 575, 'people': 559, 't': 519, 'you': 498, 'have': 482, 'with': 482, 'how': 464, 'so': 458, 'what': 453, 'their': 444, 's': 419, 'can': 418, 'or': 411, 'as': 411, 'if': 391, 'be': 384, 'on': 357, 'when': 349, 'not': 336, 'women': 321, 'trump': 304, 'does': 282, 'like': 277, 'my': 261, 'by': 255, 'from': 253, 'about': 247, 'who': 241, 'all': 224, 'men': 217, 'will': 217, 'don': 213, 'them': 205, 'more': 201, 'than': 199, 'an': 197, 'did': 194, 'this': 192, 'would': 192, 'many': 192, 'white': 186, 'there': 184, 'muslims': 183, 'think': 179, 'was': 178, 'get': 176, 'quora': 175, 'but': 174, 'should': 169, 'he': 168, 'has': 166, 'other': 166, 'we': 165, 'us': 161, 'india': 157, 'americans': 152, 'just': 152, 'black': 151, 'most': 144, 'indian': 133, 'indians': 129, 'his': 129, 'sex': 128, 'your': 127, 'me': 125, 'were': 118, 'chinese': 117, 'at': 116, 'being': 116, 'any': 116, 'liberals': 115, 'some': 113, 'want': 112, 'because': 111, 'up': 110, 'no': 109, 'country': 108, 'girls': 106, 'hate': 105, 'much': 105, 'muslim': 103, 'only': 102, 'out': 98, 'world': 98, 'one': 94, 'against': 93, 'make': 89, 'her': 88, 'old': 87, 'right': 86, 'american': 85, 'feel': 84, 'know': 84, 'believe': 84, 'even': 83, 'own': 81, 'countries': 79, 'america': 79, 'been': 78, 'which': 78, 'president': 77, 'good': 77, 'year': 76, 'then': 76, 'she': 75, 'after': 74, 'gay': 73, 'am': 71, 'china': 70, 'really': 70, 'donald': 70, 'ever': 70, 'had': 70, 'woman': 69, 'true': 68, 'say': 68, 'over': 68, 'our': 67, 'such': 67, 'now': 66, 'into': 64, 'wrong': 64, 'see': 63, 'where': 63, 'man': 61, 'gun': 60, 'still': 60, 'stop': 59, 'islam': 58, 'questions': 58, 'obama': 58, 'm': 58, 'take': 57, 'time': 57, 'hindus': 56, 'children': 56, 'usa': 56, 'way': 56, 'become': 55, 'while': 55, 'government': 54, 'north': 54, 'god': 54, 'look': 53, 'always': 53, 'non': 53, 'too': 52, 'jews': 52, 'give': 52, 'him': 51, 'christians': 51, 'someone': 51, 'go': 51, 'same': 50, 'modi': 50, 'person': 50, 'isn': 50, 'girl': 49, 'come': 49, 'since': 49, 'use': 49, 'without': 48, 'stupid': 48, 'racist': 48, 'doesn': 48, 'could': 48, 'democrats': 48, 'south': 47, 'themselves': 47, 'better': 47, 'israel': 46, 'every': 45, 'love': 44, 'call': 44, 'years': 44, 'anti': 44, 'find': 44, 'religion': 43, 'left': 43, 'instead': 43, 'asian': 42, 'life': 42, 'states': 42, 'hillary': 42, 'supporters': 41, 'bad': 40, 'never': 40, 'anyone': 40, 'hindu': 40, 'understand': 40, 'western': 40, 'kill': 39, 'culture': 39, 'best': 39, 'its': 39, 'going': 39, 'money': 39, 'help': 39, 'europe': 38, 'race': 37, 'everyone': 37, 'back': 37, 'jewish': 37, 'war': 37, 'rape': 37, 'getting': 37, 'child': 37, 'british': 36, 'guys': 36, 'pakistan': 36, 'down': 36, 'having': 36, 'support': 36, 'also': 36, 'these': 36, 'let': 35, 'society': 35, 'off': 35, 'russia': 35, 'big': 35, 're': 35, 'african': 35, 'fact': 35, 'fake': 34, 'care': 34, 'work': 34, 'less': 34, 'live': 34, 'keep': 34, 'new': 34, 'real': 33, 'son': 33, 'very': 33, 'need': 32, 'won': 32, 'male': 32, 'conservatives': 32, 'made': 32, 'u': 32, 'atheists': 32, 'boys': 32, 'party': 32, 'family': 32, 'bjp': 32, 'asians': 32, 'control': 31, 'sexual': 31, 'accept': 31, 'etc': 31, 'things': 31, 'towards': 31, 'clinton': 31, 'illegal': 31, 'political': 30, 'japanese': 30, 'pakistani': 30, 'realize': 30, 'doing': 30, 'leave': 30, 'something': 30, 'given': 29, 'ask': 29, 'penis': 29, 'first': 29, 'immigrants': 29, 'others': 29, 'united': 29, 'sister': 29, 'human': 29, 'poor': 29, 'seem': 28, 'freedom': 28, 'republicans': 28, 'called': 28, 'free': 28, 'name': 28, 'kids': 28, 'whites': 28, 'try': 27, 'blacks': 27, 'english': 27, 'put': 27, 'religious': 27, 'state': 27, 'west': 27, 'europeans': 27, 'guns': 27, 'public': 27, 'parents': 27, 'daughter': 27, 'young': 26, 'eat': 26, 'mean': 26, 'actually': 26, 'question': 26, 'reason': 26, 'another': 26, 'before': 26, 'liberal': 26, 'marry': 26, 'police': 26, 'looking': 26, 'those': 26, 'saying': 26, 'self': 26, 'lot': 26, 'well': 25, 'wear': 25, 'got': 25, 'making': 25, 'anything': 25, 'between': 25, 'done': 25, 'didn': 25, 'happen': 24, 'day': 24, 'female': 24, 'makes': 24, 'rights': 24, 'history': 24, 'uk': 24, 'away': 24, 'terrorists': 24, 'answers': 24, 'russian': 24, 'mass': 24, 'during': 24, 'considered': 24, 'yet': 24, 'aren': 24, 'each': 24, 'trying': 23, 'military': 23, 'crimes': 23, 'foreign': 23, 'media': 23, 'different': 23, 'racism': 23, 'christian': 23, 'legal': 23, 'killed': 23, 'full': 23, 'school': 23, 'mother': 23, 'hard': 22, 'show': 22, 'long': 22, 'dick': 22, 'land': 22, 'high': 22, 'house': 22, 'place': 22, 'great': 22, 'news': 22, 'said': 22, 'blame': 22, 'guy': 22, 'okay': 22, 'palestinians': 21, 'citizens': 21, 'everything': 21, 'africans': 21, 'claim': 21, 'jesus': 21, 'living': 21, 'buy': 21, 'seems': 21, 'nothing': 21, 'un': 21, 'compared': 21, 'here': 21, 'cannot': 21, 'respect': 21, 'under': 21, 'gender': 21, 'feminists': 21, 'thing': 21, 'castrated': 20, 'point': 20, 'terrorist': 20, 'dog': 20, 'lives': 20, 'africa': 20, 'laws': 20, 'killing': 20, 'around': 20, 'allow': 20, 'due': 20, 'especially': 20, 'allowed': 20, 'iq': 20, 'answer': 20, 'brother': 20, 'tell': 20, 'european': 19, 'part': 19, 'order': 19, 'job': 19, 'politicians': 19, 'australia': 19, '5': 19, 'mom': 19, 'possible': 19, 'last': 19, 'majority': 19, 'earth': 19, 'ugly': 19, '2': 19, 'korea': 19, 'males': 19, 'normal': 19, 'canada': 19, 'used': 18, 'arabs': 18, 'single': 18, 'likely': 18, 'little': 18, 'hindi': 18, 'often': 18, 'congress': 18, 'hinduism': 18, 'rather': 18, 'tamil': 18, 'opinion': 18, 'act': 18, 'slaves': 18, 'common': 18, 'agree': 18, 'follow': 18, 'far': 18, 'site': 18, 'through': 18, 'past': 18, 've': 18, 'using': 18, 'calling': 18, 'start': 18, 'pakistanis': 18, 'next': 18, 'weapons': 18, 'choose': 18, 'native': 17, 'politics': 17, 'japan': 17, 'deal': 17, 'suck': 17, 'average': 17, 'marriage': 17, 'death': 17, 'raped': 17, 'east': 17, '9': 17, 'expect': 17, 'animals': 17, 'modern': 17, 'islamic': 17, 'talk': 17, 'today': 17, 'proud': 17, 'quorans': 17, 'superior': 17, 'beautiful': 17, '1': 17, 'born': 17, 'pay': 17, 'tend': 17, 'russians': 17, 'considering': 16, 'boy': 16, 'social': 16, 'behind': 16, 'nazis': 16, 'murder': 16, 'move': 16, 'isis': 16, 'responsible': 16, 'comes': 16, 'based': 16, 'conservative': 16, 'age': 16, 'face': 16, 'friends': 16, 'stay': 16, 'amendment': 16, 'fight': 16, 'population': 16, 'seen': 16, 'hitler': 16, 'though': 16, 'power': 16, 'crime': 16, 'speak': 16, 'holocaust': 15, 'dislike': 15, 'prefer': 15, 'treat': 15, 'speech': 15, 'mental': 15, 'change': 15, 'else': 15, 'idea': 15, 'sikhs': 15, 'law': 15, 'ones': 15, 'office': 15, 'rich': 15, 'straight': 15, 'democratic': 15, 'number': 15, 'end': 15, 'attractive': 15, 'times': 15, 'enjoy': 15, 'jew': 15, 'found': 15, 'small': 15, 'intelligent': 15, 'election': 15, 'planet': 15, 'transgender': 15, 'nation': 15, 'lies': 15, 'class': 15, 'rest': 15, 'aware': 15, 'lost': 14, 'immigration': 14, 'date': 14, 'sense': 14, 'rule': 14, '10': 14, 'abuse': 14, 'two': 14, 'asking': 14, 'exist': 14, 'movie': 14, 'attack': 14, 'truth': 14, 'again': 14, 'cause': 14, 'ignorant': 14, 'language': 14, 'must': 14, 'matter': 14, 'simply': 14, 'wife': 14, 'protect': 14, 'future': 14, 'vote': 14, 'hell': 14, 'educated': 14, 'ex': 14, 'taken': 14, 'arrogant': 14, 'shouldn': 14, 'becoming': 14, 'view': 14, 'example': 14, 'reality': 14, 'violent': 14, 'run': 14, 'consider': 14, 'worse': 14, 'wants': 14, 'body': 14, 'ok': 14, 'married': 14, 'says': 14, 'wing': 14, 'democracy': 14, 'kashmiri': 13, 'myself': 13, 'gandhi': 13, 'afraid': 13, 'pro': 13, 'deny': 13, 'may': 13, 'pm': 13, 'nations': 13, 'national': 13, 'easily': 13, 'violence': 13, 'middle': 13, 'germany': 13, 'continue': 13, 'jealous': 13, 'drink': 13, 'terms': 13, '12': 13, 'saudi': 13, 'minorities': 13, 'shit': 13, 'kim': 13, 'prove': 13, 'bible': 13, 'giving': 13, 'both': 13, 'crazy': 13, 'obsessed': 13, 'friend': 13, 'rss': 13, 'girlfriend': 13, 'trans': 13, 'million': 13, 'prophet': 13, 'nra': 13, 'problem': 13, 'proven': 13, 'republican': 13, 'victims': 13, 'nice': 13, 'mostly': 13, 'kind': 13, 'lying': 13, 'muhammad': 13, 'fat': 13, 'enough': 13, 'few': 13, 'food': 13, 'germans': 13, '000': 13, 'rude': 13, 'fuck': 13, 'sexually': 13, '100': 13, 'england': 13, 'taking': 13, 'french': 12, 'dalits': 12, 'brahmins': 12, 'facts': 12, 'pregnant': 12, 'relationship': 12, 'wives': 12, 'democrat': 12, 'evidence': 12, 'almost': 12, 'second': 12, 'terrorism': 12, 'destroy': 12, 'safe': 12, 'hold': 12, 'coming': 12, 'elections': 12, 'border': 12, 'wall': 12, 'putin': 12, 'cousin': 12, 'hair': 12, 'canadians': 12, 'community': 12, 'talking': 12, 'admit': 12, 'peace': 12, 'able': 12, 'constantly': 12, 'refugees': 12, 'dating': 12, 'natural': 12, 'win': 12, 'told': 12, 'leftists': 12, 'lie': 12, 'prevent': 12, 'commit': 12, 'fear': 12, 'general': 12, 'students': 12, 'stuff': 12, 'learn': 12, 'group': 12, 'husband': 12, 'save': 12, 'turkish': 11, 'bigger': 11, 'genocide': 11, 'obvious': 11, 'users': 11, 'complex': 11, 'turkey': 11, 'mexicans': 11, 'hot': 11, 'turn': 11, 'important': 11, 'knowing': 11, 'home': 11, 'wouldn': 11, 'speaking': 11, 'sometimes': 11, 'front': 11, 'beat': 11, 'views': 11, 'percent': 11, 'delhi': 11, 'negative': 11, 'policy': 11, '11': 11, 'ashamed': 11, 'clearly': 11, 'join': 11, 'huge': 11, 'shootings': 11, 'secular': 11, 'boyfriend': 11, 'presidency': 11, 'himself': 11, 'bill': 11, 'skin': 11, 'animal': 11, 'extreme': 11, 'dark': 11, 'word': 11, 'baby': 11, 'science': 11, 'korean': 11, 'iran': 11, 'force': 11, 'build': 11, 'die': 11, 'feminist': 11, 'jobs': 11, 'looks': 11, 'races': 11, 'harry': 11, 'least': 11, 'worship': 11, 'happened': 11, 'despite': 11, 'known': 11, 'business': 11, 'humans': 11, '15': 11, 'gop': 11, 'system': 11, 'corruption': 11, 'fun': 11, 'please': 11, 'industry': 10, 'christianity': 10, 'propaganda': 10, 'australian': 10, 'hurt': 10, 'current': 10, 'biased': 10, 'nuclear': 10, 'attracted': 10, 'biggest': 10, 'pretend': 10, '8': 10, 'supposed': 10, 'arabia': 10, 'communist': 10, 'created': 10, 'blind': 10, 'ethnic': 10, 'healthcare': 10, 'space': 10, 'barack': 10, 'court': 10, 'case': 10, 'higher': 10, 'defend': 10, 'generation': 10, 'committed': 10, 'tax': 10, 'names': 10, 'jong': 10, 'happy': 10, 'information': 10, 'brahmin': 10, 'ways': 10, 'hit': 10, 'palestine': 10, 'theory': 10, 'britain': 10, 'came': 10, 'destroyed': 10, 'top': 10, 'trash': 10, 'color': 10, 'itself': 10, 'banned': 10, '14': 10, 'share': 10, 'selfish': 10, 'wearing': 10, '13': 10, 'realise': 10, 'greeks': 10, 'already': 10, 'secret': 9, 'kashmir': 9, 'wars': 9, 'lead': 9, 'dirty': 9, 'hatred': 9, 'religions': 9, 'thousands': 9, 'steal': 9, 'd': 9, 'gives': 9, 'dumb': 9, 'action': 9, 'cops': 9, 'avoid': 9, 'usually': 9, 'mueller': 9, 'nature': 9, 'low': 9, 'torture': 9, 'sweden': 9, 'nobel': 9, 'older': 9, 'actions': 9, 'administration': 9, 'deserve': 9, 'murdered': 9, 'city': 9, 'sending': 9, 'al': 9, 'movement': 9, 'arab': 9, 'recent': 9, 'civilians': 9, 'break': 9, 'longer': 9, 'gays': 9, 'generally': 9, 'dont': 9, 'asked': 9, 'feminism': 9, 'bring': 9, 'trust': 9, 'owners': 9, 'ancestors': 9, 'eu': 9, 'behavior': 9, 'create': 9, 'special': 9, 'groups': 9, 'dangerous': 9, 'palestinian': 9, 'once': 9, 'ban': 9, 'brown': 9, 'cow': 9, 'brain': 9, 'eating': 9, 'thinking': 9, 'light': 9, 'economy': 9, 'porn': 9, 'atheist': 9, 'supreme': 9, 'shut': 9, 'experience': 9, 'working': 9, 'evil': 9, 'might': 9, 'r': 9, 'heard': 9, 'changed': 9, 'gave': 9, 'night': 9, 'psychopaths': 9, 'success': 9, 'members': 9, 'alone': 9, 'until': 9, 'adult': 9, 'issues': 9, 'asia': 9, 'iraq': 9, 'vietnamese': 9, 'post': 9, 'short': 9, 'jinping': 8, 'hide': 8, 'younger': 8, 'masturbate': 8, 'replaced': 8, 'position': 8, 'catholic': 8, 'vagina': 8, 'lick': 8, 'greek': 8, 'leftist': 8, 'powerful': 8, 'book': 8, 'purpose': 8, 'scientists': 8, 'hollywood': 8, 'universe': 8, 'victim': 8, 'allowing': 8, 'e': 8, 'wealth': 8, 'hands': 8, 'ruin': 8, 'father': 8, 'bhakts': 8, 'convince': 8, 'physical': 8, 'private': 8, 'yes': 8, 'anonymous': 8, 'supremacists': 8, 'quran': 8, 'justice': 8, '30': 8, 'half': 8, 'double': 8, 'guilty': 8, 'waste': 8, 'moderation': 8, 'push': 8, 'write': 8, 'rid': 8, 'babies': 8, 'skinned': 8, 'latin': 8, 'ill': 8, 'fbi': 8, 'supporting': 8, 'story': 8, 'koreans': 8, 'trade': 8, 'tried': 8, 'causing': 8, 'punjabi': 8, 'minority': 8, 'queen': 8, '40': 8, 'easy': 8, '3': 8, 'useless': 8, 'drugs': 8, 'including': 8, 'days': 8, 'allah': 8, 'among': 8, 'idiots': 8, 'whole': 8, 'attacks': 8, 'successful': 8, 'inferior': 8, 'bother': 8, 'jerusalem': 8, 'refuse': 8, '2016': 8, 'thought': 8, 'faith': 8, 'cut': 8, '2017': 8, 'tamils': 8, 'narendra': 8, 'radical': 8, 'troll': 8, 'shooting': 8, 'started': 8, 'offensive': 8, 'fair': 8, 'smart': 8, 'punish': 8, 'homosexuals': 8, 'rahul': 8, 'form': 8, '2018': 8, 'illness': 8, 'homosexuality': 8, 'dead': 8, 'dogs': 8, 'knows': 8, 'sexist': 8, '2nd': 8, 'innocent': 8, 'filipinos': 8, 'false': 8, 'husbands': 8, 'daca': 8, 'caused': 8, 'syria': 8, 'image': 8, 'send': 8, 'owner': 8, 'sign': 8, 'german': 8, 'entire': 7, 'team': 7, 'former': 7, 'quite': 7, 'kurds': 7, 'xi': 7, 'forced': 7, 'happens': 7, 'butt': 7, 'fall': 7, 'parties': 7, 'leaders': 7, 'bed': 7, 'mad': 7, 'king': 7, 'castrate': 7, 'causes': 7, 'angry': 7, 'assume': 7, 'protest': 7, 'thinks': 7, 'feed': 7, 'semi': 7, 'friendly': 7, 'pictures': 7, 'decide': 7, 'lose': 7, 'similar': 7, 'somebody': 7, 'gain': 7, 'demand': 7, 'proof': 7, 'necessary': 7, 'destroying': 7, 'security': 7, 'hypocrisy': 7, 'finally': 7, 'rapist': 7, 'ww2': 7, 'extremely': 7, 'burn': 7, 'meat': 7, 'blood': 7, 'progressives': 7, 'indonesians': 7, 'gone': 7, 'touch': 7, 'slavery': 7, 'equality': 7, 'youth': 7, 'wish': 7, 'bengal': 7, 'large': 7, 'vietnam': 7, 'hire': 7, 'incest': 7, 'republic': 7, 'convert': 7, 'together': 7, 'air': 7, 'cry': 7, 'absolutely': 7, 'per': 7, 'temple': 7, 'terror': 7, 'intelligence': 7, 'soldiers': 7, 'lack': 7, 'dna': 7, 'tourists': 7, 'scared': 7, 'asshole': 7, 'crap': 7, 'problems': 7, 'leader': 7, 'fire': 7, 'paying': 7, 'army': 7, 'morning': 7, 'becomes': 7, 'difficult': 7, 'shows': 7, 'took': 7, 'campaign': 7, 'couples': 7, 'promote': 7, 'sites': 7, 'folks': 7, 'millions': 7, 'bangladesh': 7, 'fucking': 7, 'pretty': 7, 'flat': 7, 'grow': 7, 'knowledge': 7, 'haven': 7, 'term': 7, 'assault': 7, 'lazy': 7, 'chance': 7, 'voted': 7, 'developed': 7, 'lower': 7, 'caste': 7, 'listen': 7, 'cake': 7, 'offended': 7, 'eastern': 7, 'shot': 7, 'disorder': 7, 'atrocities': 7, 'argument': 7, 'went': 7, 'correct': 7, 'trolling': 7, 'spread': 7, 'ago': 7, 'holy': 7, 'along': 7, 'actual': 7, '25': 7, 'opposite': 7, 'stand': 7, 'agenda': 7, 'treated': 7, 'aliens': 7, 'mothers': 7, 'equal': 7, 'unable': 7, 'happening': 7, 'voting': 7, 'judge': 7, 'dress': 7, 'reasons': 7, 'inside': 7, 'criminals': 7, 'internet': 7, 'whenever': 7, 'threat': 7, 'reading': 7, 'identify': 7, 'none': 7, 'stare': 6, 'bias': 6, 'written': 6, 'insist': 6, 'entitled': 6, 'robert': 6, 'gets': 6, 'governments': 6, 'companies': 6, 'car': 6, 'property': 6, 'christ': 6, 'karnataka': 6, 'sc': 6, 'insult': 6, 'literally': 6, 'autistic': 6, 'll': 6, 'became': 6, 'sleep': 6, 'abortion': 6, 'means': 6, 'civil': 6, 'statement': 6, 'blow': 6, 'telling': 6, 'strike': 6, 'account': 6, 'whether': 6, 'organs': 6, 'apart': 6, 'head': 6, 'harvey': 6, 'weinstein': 6, 'running': 6, 'seriously': 6, 'anymore': 6, 'compare': 6, 'candidate': 6, 'statements': 6, 'belongs': 6, 'italians': 6, 'hasn': 6, 'immigrant': 6, 'billion': 6, 'movies': 6, 'weed': 6, 'families': 6, 'concept': 6, 'mention': 6, 'justify': 6, 'spreading': 6, 'discrimination': 6, 'existence': 6, 'nadu': 6, 'activities': 6, 'rapists': 6, 'policies': 6, 'improve': 6, 'testament': 6, 'online': 6, 'shame': 6, 'seeing': 6, 'complain': 6, 'treatment': 6, 'automatic': 6, 'rifles': 6, 'judaism': 6, 'firearms': 6, 'ruling': 6, 'comments': 6, 'effective': 6, 'nonwhites': 6, 'link': 6, 'fox': 6, '20': 6, 'mexico': 6, 'upon': 6, 'words': 6, 'sin': 6, 'homeless': 6, 'behave': 6, 'sunni': 6, 'gods': 6, 'personal': 6, 'melania': 6, 'liberalism': 6, 'present': 6, 'naked': 6, 'highly': 6, 'massacre': 6, 'voters': 6, 'except': 6, 'size': 6, 'prison': 6, 'strong': 6, 'originally': 6, 'caring': 6, 'prince': 6, 'soon': 6, 'terrible': 6, 'certain': 6, 'toward': 6, 'sons': 6, 'mouth': 6, 'taxes': 6, 'tolerant': 6, 'schools': 6, 'historical': 6, 'mexican': 6, 'canadian': 6, 'enter': 6, '16': 6, 'hoax': 6, 'situation': 6, 'remove': 6, 'cares': 6, 'shithole': 6, '4': 6, 'needs': 6, 'march': 6, 'wanted': 6, 'refused': 6, 'moon': 6, 'evolution': 6, 'k': 6, 'showing': 6, 'attention': 6, 'read': 6, 'anybody': 6, 'cities': 6, 'indonesian': 6, 'return': 6, 'meghan': 6, 'wedding': 6, 'peaceful': 6, 'teacher': 6, 'socialist': 6, 'obviously': 6, 'banning': 6, 'member': 6, 'israelis': 6, 'elected': 6, 'travel': 6, 'separate': 6, 'fans': 6, 'conspiracy': 6, 'harm': 6, '50': 6, 'bald': 6, 'corrupt': 6, 'personality': 6, '22': 6, 'blindly': 6, 'cruel': 6, 'poop': 6, 'theists': 6, 'george': 6, 'course': 6, 'threatening': 6, 'everybody': 6, 'proper': 6, 'prize': 6, 'banks': 6, 'denial': 6, 'westerners': 6, 'interested': 6, 'slave': 6, 'room': 6, 'ar': 6, 'defense': 6, 'invade': 6, 'legitimate': 6, 'main': 6, 'building': 6, 'privilege': 6, 'harassment': 6, 'stories': 6, 'across': 6, 'politically': 6, 'empire': 6, 'play': 6, 'record': 6, 'turks': 6, 'guilt': 6, 'immoral': 6, 'massive': 6, 'mr': 6, 'explain': 6, 'stopped': 6, 'met': 6, 'major': 6, 'three': 6, 'turning': 6, 'professional': 6, 'hispanics': 6, 'malaysia': 6, 'set': 6, '7': 6, 'nazi': 6, 'suffering': 6, 'hates': 6, 'football': 5, 'totally': 5, 'territory': 5, 'excuse': 5, 'mahatma': 5, 'asylum': 5, 'punishment': 5, 'logical': 5, 'department': 5, 'brits': 5, 'meant': 5, 'parent': 5, 'throw': 5, 'socially': 5, 'research': 5, 'weaker': 5, 'style': 5, 'mainstream': 5, 'john': 5, 'died': 5, 'taiwan': 5, 'singapore': 5, 'kannadigas': 5, 'humanity': 5, 'armenian': 5, 'press': 5, 'supporter': 5, 'allows': 5, 'atheism': 5, 'mistake': 5, 'colored': 5, 'interference': 5, 'worlds': 5, 'global': 5, 'habit': 5, 'pollution': 5, 'film': 5, 'presented': 5, 'pain': 5, 'books': 5, 'yourself': 5, 'refer': 5, 'workers': 5, 'watch': 5, 'outside': 5, 'virgin': 5, 'physically': 5, 'math': 5, 'desperate': 5, 'thailand': 5, 'finding': 5, 'partner': 5, 'increasing': 5, 'rooted': 5, 'heroes': 5, 'bengali': 5, 'driving': 5, 'traffic': 5, 'issue': 5, 'greece': 5, 'protests': 5, 'growing': 5, 'beauty': 5, 'idiot': 5, 'cheat': 5, 'fix': 5, 'medical': 5, 'technology': 5, 'fingers': 5, 'virgins': 5, 'criticism': 5, 'stick': 5, 'migrants': 5, 'lands': 5, 'ties': 5, 'sold': 5, 'attacked': 5, 'communism': 5, 'tired': 5, 'deep': 5, 'kashmiris': 5, 'israeli': 5, 'gang': 5, 'daily': 5, 'toilet': 5, 'paranoid': 5, 'shia': 5, 'youtube': 5, 'type': 5, 'everywhere': 5, 'moral': 5, 'dad': 5, 'controlled': 5, 'presidential': 5, 'silent': 5, 'forward': 5, 'imagine': 5, 'bunch': 5, 'game': 5, 'lots': 5, 'responsibility': 5, 'weapon': 5, 'defending': 5, 'option': 5, 'student': 5, 'score': 5, 'piece': 5, 'popular': 5, 'degree': 5, 'card': 5, 'list': 5, 'bangladeshi': 5, 'nasa': 5, 'meet': 5, 'island': 5, 'collusion': 5, 'recently': 5, 'emails': 5, 'oral': 5, 'activity': 5, 'breasts': 5, 'minds': 5, 'completely': 5, 'step': 5, 'g': 5, 'side': 5, 'meeting': 5, 'according': 5, '300': 5, 'crisis': 5, 'welfare': 5, 'mindset': 5, 'basically': 5, 'fit': 5, 'development': 5, 'obamacare': 5, 'video': 5, 'starts': 5, 'source': 5, 'expected': 5, 'dance': 5, 'doctors': 5, 'burning': 5, 'lgbt': 5, 'fighting': 5, 'kid': 5, 'trolls': 5, 'southern': 5, 'watching': 5, 'open': 5, 'potential': 5, 'forcing': 5, '90': 5, 'eyes': 5, 'nowadays': 5, 'apparently': 5, 'examples': 5, 'systems': 5, 'level': 5, 'arguments': 5, 'following': 5, 'oppose': 5, 'advantage': 5, 'basic': 5, 'boobs': 5, 'ready': 5, 'armed': 5, 'worry': 5, 'birth': 5, 'northern': 5, 'failure': 5, 'saw': 5, 'abused': 5, 'wash': 5, 'disrespectful': 5, 'iit': 5, 'genius': 5, 'financial': 5, 'aggressive': 5, 'included': 5, 'health': 5, 'dollars': 5, 'iranians': 5, 'taught': 5, 'curious': 5, 'accepted': 5, 'homosexual': 5, 'pussy': 5, 'star': 5, 'hated': 5, 'encourage': 5, 'process': 5, 'cost': 5, 'hesitate': 5, 'beef': 5, 'fellow': 5, 'moms': 5, 'chemical': 5, 'nehru': 5, 'morality': 5, 'education': 5, 'college': 5, 'federal': 5, 'understanding': 5, 'closet': 5, 'visit': 5, 'dressing': 5, 'reach': 5, 'inch': 5, 'economic': 5, 'logic': 5, 'believing': 5, 'turned': 5, 'elect': 5, 'parts': 5, 'area': 5, 'five': 5, 'narcissists': 5, 'rise': 5, 'engineering': 5, 'complete': 5, 'italian': 5, 'typical': 5, 'ensure': 5, '6': 5, 'access': 5, 'caught': 5, 'stalin': 5, 'university': 5, 'actors': 5, 'stands': 5, 'teenagers': 5, 'cricket': 5, 'thoughts': 5, 'marrying': 5, 'apologize': 5, 'within': 5, 'iranian': 5, 'line': 5, 'california': 5, 'talks': 5, 'inferiority': 5, 'ass': 5, 'opinions': 5, 'descendants': 5, 'throwing': 5, 'david': 5, 'four': 5, 'sacrifice': 5, 'claims': 5, 'crying': 5, 'websites': 5, 'red': 5, '17': 5, 'mohammed': 5, 'cock': 5, 'cat': 5, 'dreamers': 5, 'kejriwal': 5, 'amount': 5, 'choice': 5, 'greatest': 5, 'weird': 5, 'trend': 5, 'beings': 5, 'paid': 5, 'worst': 5, 'assuming': 4, 'mainland': 4, 'quality': 4, 'agents': 4, 'faces': 4, 'privacy': 4, 'cold': 4, 'knife': 4, 'elizabeth': 4, 'lied': 4, 'teaching': 4, 'beaten': 4, 'pride': 4, 'n': 4, 'strategy': 4, 'figure': 4, 'frequently': 4, 'charge': 4, 'lobbying': 4, 'intellectual': 4, 'places': 4, 'rejected': 4, 'built': 4, 'arrest': 4, 'tries': 4, 'followers': 4, 'ignore': 4, 'murdering': 4, 'hear': 4, 'interviews': 4, 'character': 4, 'diversity': 4, 'round': 4, 'moderators': 4, 'sincere': 4, 'church': 4, 'alt': 4, 'camps': 4, 'harass': 4, 'wasn': 4, 'creation': 4, 'absolute': 4, 'nonsense': 4, 'badly': 4, 'beliefs': 4, 'teenage': 4, 'stolen': 4, 'offer': 4, 'liar': 4, 'scientific': 4, 'fully': 4, 'silly': 4, 'eaters': 4, 'feeling': 4, 'acceptable': 4, 'aroused': 4, 'supported': 4, 'fascists': 4, 'derogatory': 4, 'nationalists': 4, 'indonesia': 4, 'kisses': 4, 'brainwashing': 4, 'dies': 4, 'ground': 4, 'psychological': 4, 'smell': 4, 'metoo': 4, 'mankind': 4, 'minister': 4, 'worried': 4, 'o': 4, 'c': 4, 'racial': 4, 'danger': 4, 'cultural': 4, 'google': 4, 'yard': 4, 'criminal': 4, 'alcohol': 4, 'whom': 4, 'content': 4, 'st': 4, 'racists': 4, 'poverty': 4, 'greedy': 4, 'ignorance': 4, 'hussein': 4, 'loved': 4, 'ideology': 4, 'union': 4, 'discriminate': 4, 'shabbat': 4, 'couldn': 4, 'hunting': 4, 'reduce': 4, 'notice': 4, 'kills': 4, 'sikh': 4, 'slander': 4, 'morally': 4, 'personally': 4, 'gates': 4, 'felt': 4, 'above': 4, 'forces': 4, 'converted': 4, 'rate': 4, 'raised': 4, 'writers': 4, 'feces': 4, 'rapes': 4, 'extra': 4, 'videos': 4, 'swedish': 4, 'wasting': 4, 'trouble': 4, 'promoting': 4, 'named': 4, 'france': 4, 'deport': 4, 'reject': 4, 'balls': 4, 'comfortable': 4, 'uses': 4, 'dream': 4, 'nigger': 4, 'teach': 4, 'shameless': 4, 'coward': 4, 'reaction': 4, 'goes': 4, 'debt': 4, 'interest': 4, 'insecure': 4, 'multiple': 4, 'super': 4, 'ben': 4, 'restaurant': 4, 'betrayed': 4, 'ocean': 4, 'trusted': 4, 'invasion': 4, 'inner': 4, 'couple': 4, 'agrees': 4, '60': 4, 'equally': 4, 'program': 4, 'tells': 4, 'weight': 4, 'minded': 4, 'teachers': 4, 'oil': 4, 'gaza': 4, 'regards': 4, 'marathi': 4, 'boyfriends': 4, 'relationships': 4, 'bitch': 4, 'giant': 4, 'daughters': 4, 'tv': 4, 'irish': 4, 'despise': 4, 'b': 4, 'irrational': 4, 'hating': 4, 'focus': 4, 'collapse': 4, 'beyond': 4, 'medal': 4, 'norway': 4, 'required': 4, 'q': 4, 'cuts': 4, 'lesbian': 4, 'dutch': 4, 'ethnicity': 4, 'caucasian': 4, 'pick': 4, 'sweet': 4, 'einstein': 4, 'target': 4, 'thank': 4, 'aids': 4, 'acknowledge': 4, 'reproductive': 4, 'maintain': 4, 'develop': 4, 'spoiled': 4, 'noise': 4, 'ancient': 4, 'otherwise': 4, 'sleeping': 4, 'legally': 4, 'invading': 4, 'failed': 4, 'upset': 4, 'smoke': 4, 'signs': 4, 'disorders': 4, 'trained': 4, 'supremacy': 4, 'upper': 4, 'horrible': 4, 'till': 4, 'latinos': 4, 'taiwanese': 4, 'phone': 4, 'concerned': 4, 'worth': 4, 'potter': 4, 'insane': 4, 'arabic': 4, 'lady': 4, 'dysfuntional': 4, 'aping': 4, 'ape': 4, 'drinking': 4, 'rubbing': 4, 'rush': 4, 'affect': 4, 'shooters': 4, 'declare': 4, 'available': 4, 'shoot': 4, 'officials': 4, 'narrative': 4, 'strange': 4, 'australians': 4, '18': 4, 'easier': 4, 'kick': 4, 'beneficial': 4, 'whatever': 4, 'pass': 4, 'rohingya': 4, 'percentage': 4, 'plan': 4, 'begin': 4, 'benefit': 4, 'via': 4, 'individuals': 4, 'shorts': 4, 'valley': 4, 'eternity': 4, 'horny': 4, 'status': 4, 'regime': 4, 'bigots': 4, 'homophobic': 4, 'cease': 4, 'stormy': 4, 'vedas': 4, 'libertarians': 4, 'waiting': 4, 'skinny': 4, 'depression': 4, 'evolutionary': 4, 'alien': 4, 'entirely': 4, 'repeal': 4, 'bullshit': 4, 'patriotic': 4, 'letting': 4, 'engineers': 4, 'activists': 4, '2019': 4, 'chances': 4, 'stone': 4, 'panties': 4, 'sanders': 4, 'exactly': 4, 'protesting': 4, 'spy': 4, 'partners': 4, 'masculinity': 4, 'particular': 4, 'moment': 4, 'achieve': 4, 'languages': 4, 'missile': 4, 'buying': 4, 'taste': 4, 'willing': 4, 'murderous': 4, 'afro': 4, 'described': 4, 'local': 4, 'owe': 4, 'foreigners': 4, 'bomb': 4, 'vast': 4, 'impossible': 4, 'nor': 4, 'charles': 4, 'heads': 4, 'late': 4, 'advocates': 4, 'enslaved': 4, 'spiritual': 4, 'inches': 4, 'herself': 4, 'prepared': 4, 'website': 4, 'facebook': 4, 'wanting': 4, 'feels': 4, 'citizen': 4, 'primitive': 4, 'cop': 4, 'foolish': 4, 'portray': 4, 'remain': 4, 'jail': 4, 'communists': 4, 'credentials': 4, 'haram': 4, 'jehovah': 4, 'advisor': 4, 'sorry': 4, 'albert': 4, 'phrase': 4, 'excuses': 4, 'block': 4, 'maybe': 4, '23': 4, 'random': 4, 'specifically': 4, 'separated': 4, 'malays': 4, 'aid': 4, 'disgusting': 4, 'international': 4, 'cup': 4, 'hypocrites': 4, 'mind': 4, 'abusive': 4, 'sue': 4, 'patel': 4, 'churchill': 4, 'royal': 4, 'naive': 4, 'likes': 4, 'weren': 4, 'suddenly': 4, 'syrian': 4, 'shower': 4, 'officer': 4, 'fathers': 4, 'officers': 4, 'helped': 4, 'scale': 4, 'bhakt': 4, 'billions': 4, 'goat': 4, 'message': 4, 'attitude': 4, 'alive': 4, 'berkeley': 4, '99': 4, 'address': 4, 'pedophilia': 4, 'employees': 4, 'doubt': 4, 'jr': 4, 'eventually': 4, 'judges': 4, 'appears': 4, 'bare': 4, 'treason': 4, 'debate': 4, 'marijuana': 4, 'blaming': 4, 'punished': 4, 'desirable': 4, 'catch': 4, 'esteem': 4, 'persians': 3, 'sea': 3, 'modesty': 3, 'committing': 3, 'spend': 3, 'senior': 3, 'journalists': 3, 'captured': 3, 'rational': 3, 'zionist': 3, 'whereby': 3, 'co': 3, 'yogi': 3, 'goods': 3, 'residents': 3, 'eager': 3, 'bashing': 3, 'sjw': 3, 'automatically': 3, 'joke': 3, 'spending': 3, 'barry': 3, 'divorced': 3, 'result': 3, 'overly': 3, 'emotional': 3, 'interests': 3, 'insurance': 3, 'donkey': 3, 'lovers': 3, 'accident': 3, 'whereas': 3, 'swallow': 3, 'spain': 3, 'starting': 3, 'aunt': 3, 'comic': 3, 'accepting': 3, 'belief': 3, 'citizenship': 3, 'bollywood': 3, 'actresses': 3, 'singh': 3, 'integrity': 3, 'wise': 3, 'handsome': 3, 'aka': 3, 'century': 3, 'indigenous': 3, 'immediately': 3, 'pull': 3, 'aside': 3, 'additional': 3, 'board': 3, 'plane': 3, 'biblical': 3, 'delete': 3, 'shoes': 3, 'feet': 3, 'planning': 3, 'spaces': 3, 'prizes': 3, 'ego': 3, 'warming': 3, 'steps': 3, 'company': 3, 'leaving': 3, 'honest': 3, 'grandfather': 3, 'tools': 3, 'gloss': 3, 'cant': 3, 'criticized': 3, 'accomplishments': 3, 'seals': 3, 'monkey': 3, 'chest': 3, 'pants': 3, 'reconcile': 3, 'theories': 3, 'liberty': 3, 'condemn': 3, 'directly': 3, 'sexy': 3, 'deter': 3, 'civilization': 3, 'presidents': 3, 'grasp': 3, 'proves': 3, 'eye': 3, 'serbs': 3, 'uncle': 3, 'publicly': 3, 'incorrect': 3, 'images': 3, 'roy': 3, 'weather': 3, 'sucking': 3, 'impeached': 3, 'p': 3, 'statistics': 3, 'challenge': 3, 'persecuted': 3, 'www': 3, 'jeff': 3, 'pressure': 3, 'encounter': 3, 'involved': 3, 'shitty': 3, 'marine': 3, 'neo': 3, 'method': 3, 'bullying': 3, 'pile': 3, 'fascist': 3, 'supports': 3, 'universal': 3, 'texts': 3, 'legacy': 3, 'tears': 3, 'trick': 3, 'escape': 3, 'cases': 3, 'unstable': 3, 'mark': 3, 'untrustworthy': 3, 'sure': 3, 'saturday': 3, 'impact': 3, 'demean': 3, 'ignored': 3, 'thus': 3, 'balance': 3, 'vegans': 3, 'dictator': 3, 'accuse': 3, 'rating': 3, 'pieces': 3, 'helpless': 3, 'deceitful': 3, 'receive': 3, 'singaporeans': 3, 'motivated': 3, 'rare': 3, 'raise': 3, 'train': 3, 'destructive': 3, 'catastrophic': 3, 'require': 3, 'meaning': 3, 'unlike': 3, 'misguided': 3, 'accomplished': 3, 'either': 3, 'intolerant': 3, 'celebrating': 3, 'cia': 3, 'breaking': 3, 'brothers': 3, 'intercourse': 3, 'sisters': 3, 'qualified': 3, 'week': 3, 'dare': 3, 'seal': 3, 'theft': 3, 'organized': 3, 'labor': 3, 'capital': 3, 'app': 3, 'gas': 3, 'trumps': 3, 'beta': 3, 'roasted': 3, 'played': 3, 'offence': 3, 'nigerians': 3, 'ridiculous': 3, 'increase': 3, 'winners': 3, 'losers': 3, 'cultures': 3, 'practice': 3, 'secretly': 3, 'orange': 3, 'moved': 3, 'empty': 3, '72': 3, 'succeed': 3, 'fooling': 3, 'nonwhite': 3, 'broken': 3, 'perfect': 3, 'forgetting': 3, 'loose': 3, 'kerala': 3, 'smith': 3, 'focusing': 3, 'poorly': 3, 'uncomfortable': 3, 'adopt': 3, 'openly': 3, 'washing': 3, 'votes': 3, 'regard': 3, 'emigrate': 3, 'spouse': 3, 'elon': 3, 'musk': 3, 'genetically': 3, 'points': 3, 'genitals': 3, 'suggest': 3, 'slowly': 3, 'keeping': 3, 'responding': 3, 'lord': 3, 'difference': 3, 'simple': 3, '420': 3, 'deeply': 3, 'classified': 3, 'pacific': 3, 'burma': 3, 'harassed': 3, 'fruit': 3, 'whose': 3, 'heritage': 3, 'medicine': 3, 'cure': 3, 'sun': 3, 'spell': 3, 'diplomacy': 3, 'filter': 3, '2000': 3, 'dropped': 3, 'abort': 3, 'features': 3, 'dictatorship': 3, 'ten': 3, 'helping': 3, 'bharat': 3, 'leadership': 3, 'species': 3, 'risk': 3, 'anthem': 3, 'obnoxious': 3, '2020': 3, 'complaining': 3, 'intention': 3, 'lived': 3, 'sudden': 3, 'paul': 3, 'bangladeshis': 3, 'bash': 3, 'picture': 3, 'opioid': 3, 'identifying': 3, 'mentally': 3, 'dimensional': 3, 'capitalism': 3, 'socialism': 3, 'event': 3, 'losing': 3, 'clear': 3, 'reflect': 3, 'standards': 3, 'bi': 3, 'castration': 3, 'anakin': 3, 'suicide': 3, 'pretending': 3, 'smarter': 3, 'safety': 3, 'hateful': 3, 'poland': 3, 'economics': 3, 'seven': 3, 'settle': 3, 'enemies': 3, 'mecca': 3, 'wet': 3, 'michael': 3, 'jackson': 3, 'established': 3, 'conversation': 3, 'appropriate': 3, 'movements': 3, 'sjws': 3, 'conclude': 3, 'remember': 3, 'relatives': 3, 'sikkim': 3, 'tibet': 3, 'breast': 3, 'clown': 3, 'yr': 3, 'wealthy': 3, 'resources': 3, 'advanced': 3, 'gst': 3, 'acting': 3, 'genuine': 3, 'polish': 3, 'standing': 3, 'kept': 3, 'nato': 3, 'semitic': 3, 'peninsula': 3, 'drawing': 3, 'tolerate': 3, 'professionals': 3, 'explanations': 3, 'providing': 3, 'judgemental': 3, 'courage': 3, 'stranger': 3, 'alex': 3, 'soft': 3, 'antisemitic': 3, 'removed': 3, 'official': 3, 'ruled': 3, 'perhaps': 3, 'preferences': 3, 'economically': 3, 'slavs': 3, 'handle': 3, 'happiness': 3, 'adultery': 3, 'earned': 3, 'wingers': 3, 'bought': 3, 'seeds': 3, 'candidates': 3, 'narcissistic': 3, 'uneducated': 3, 'aap': 3, 'winning': 3, 'nose': 3, 'mixed': 3, 'breed': 3, 'erect': 3, 'bus': 3, 'stricter': 3, 'sir': 3, 'episode': 3, 'influence': 3, 'laid': 3, 'thrown': 3, 'ted': 3, 'principles': 3, 'bear': 3, 'wwii': 3, 'occupied': 3, 'sit': 3, 'robots': 3, 'backed': 3, 'further': 3, 'mongolians': 3, 'dialogue': 3, 'politician': 3, 'attraction': 3, 'shallow': 3, 'ireland': 3, 'xenophobic': 3, 'occur': 3, 'sole': 3, 'diapers': 3, 'reddit': 3, 'teachings': 3, 'vicious': 3, 'oppressed': 3, 'promised': 3, 'pope': 3, 'pee': 3, 'hundreds': 3, 'psychology': 3, 'naming': 3, 'organisations': 3, 'prejudiced': 3, 'shooter': 3, 'revolution': 3, 'clubs': 3, 'alot': 3, 'sent': 3, 'beard': 3, 'effort': 3, 'duty': 3, 'silicon': 3, 'june': 3, 'pandits': 3, 'exact': 3, 'stops': 3, 'manipulative': 3, 'manner': 3, 'tight': 3, 'pics': 3, 'deleted': 3, 'revenge': 3, 'cancer': 3, 'anus': 3, 'discussions': 3, 'damn': 3, 'el': 3, 'hand': 3, 'combat': 3, 'cage': 3, 'cool': 3, 'acts': 3, 'brains': 3, 'mamata': 3, 'banerjee': 3, 'owned': 3, 'claimed': 3, 'detail': 3, 'memory': 3, 'admire': 3, 'brexit': 3, 'chosen': 3, 'righteous': 3, 'pray': 3, 'congressman': 3, 'carried': 3, 'hidden': 3, 'jains': 3, 'monday': 3, 'goats': 3, 'neighbours': 3, 'teens': 3, 'psychiatrist': 3, 'unavailable': 3, 'concentration': 3, 'dominant': 3, 'sounds': 3, 'tyrannical': 3, 'annoying': 3, '95': 3, 'twitter': 3, 'cash': 3, 'dominated': 3, 'britishers': 3, 'spot': 3, 'mobile': 3, 'communities': 3, 'continent': 3, 'trafficking': 3, 'raping': 3, 'electoral': 3, 'females': 3, 'toxic': 3, 'benefits': 3, 'search': 3, 'hours': 3, 'asiatic': 3, 'respond': 3, 'protection': 3, 'wikipedia': 3, 'latino': 3, 'cosby': 3, 'siblings': 3, 'dignity': 3, 'twin': 3, 'affirmative': 3, 'somehow': 3, 'evangelical': 3, 'nuke': 3, 'stream': 3, 'liars': 3, 'tamilians': 3, 'rules': 3, 'confirm': 3, 'nibiru': 3, 'sort': 3, 'halal': 3, 'murders': 3, 'bush': 3, 'useful': 3, 'olds': 3, 'defeat': 3, 'w': 3, 'prostitutes': 3, 'confirmed': 3, 'genders': 3, 'close': 3, 'believes': 3, 'allegations': 3, 'horse': 3, 'touched': 3, 'value': 3, 'troubled': 3, 'confused': 3, 'fooled': 3, 'promoted': 3, 'pseudo': 3, 'surely': 3, 'comment': 3, 'skirts': 3, 'posing': 3, 'sean': 3, 'adolf': 3, 'obedient': 3, 'apparent': 3, 'prostitute': 3, '24': 3, 'organization': 3, 'although': 3, 'seemingly': 3, 'surprise': 3, 'las': 3, 'vegas': 3, 'bengalis': 3, 'disrespect': 3, 'region': 3, 'praying': 3, 'identity': 3, 'spoken': 3, 'extinct': 3, 'streets': 3, 'destruction': 3, 'unless': 3, 'lessons': 3, 'sanghis': 3, 'wake': 3, 'reactions': 3, 'chicago': 3, 'progress': 3, 'widely': 3, 'attract': 3, 'career': 3, 'millennials': 3, 'z': 3, 'partial': 3, 'display': 3, 'occupying': 3, 'follower': 3, 'funny': 3, 'deporting': 3, 'texas': 3, 'fund': 3, 'serious': 3, 'games': 3, 'missed': 3, 'rooms': 3, 'armenians': 3, 'bar': 3, 'typically': 3, 'accent': 3, 'decline': 3, 'blue': 3, 'throat': 3, 'eg': 3, 'promises': 3, 'depressed': 3, 'ruining': 3, 'violating': 3, 'tampered': 3, 'screw': 3, 'boring': 3, 'check': 3, 'deleting': 3, 'lesbians': 3, 'release': 3, 'milk': 3, 'independence': 3, 'instant': 3, 'sucked': 3, 'series': 3, 'windows': 3, 'entertainment': 3, 'bridge': 3, 'water': 3, 'hey': 3, 'illuminati': 3, 'luck': 3, 'master': 3, 'caucasians': 3, 'servants': 3, 'data': 3, 'envy': 3, 'honor': 3, 'remind': 3, 'music': 3, 'store': 3, 'envious': 3, 'asks': 3, 'aggression': 3, 'syrians': 3, 'nobody': 3, 'brainwashed': 3, 'genetic': 3, 'denying': 3, 'abortions': 3, 'establishment': 3, 'communicate': 3, 'below': 3, 'react': 3, 'net': 3, 'thick': 3, 'looked': 3, 'filled': 3, 'bra': 3, 'original': 3, 'conflict': 3, 'relations': 3, 'wipe': 3, 'noticed': 3, 'upvote': 3, 'messed': 3, 'ukraine': 3, 'sources': 3, 'migrate': 3, 'norwegian': 3, 'argue': 3, 'societies': 3, 'riots': 3, 'locker': 3, 'fish': 3, 'psychopath': 3, 'arvind': 3, 'dalit': 3, 'ideas': 3, 'uc': 3, 'hypocritical': 3, 'gujarat': 3, 'wears': 3, 'katy': 3, 'perry': 3, 'feasible': 3, 'ritual': 3, 'j': 3, '200': 3, 'obi': 3, 'wan': 3, 'fewer': 3, 'macedonia': 3, 'computer': 3, 'reservation': 3, 'forum': 3, 'disagree': 3, 'putting': 3, 'egyptians': 3, 'ate': 3, 'description': 3, 'stars': 3, 'tendency': 3, 'details': 3, 'brutally': 3, 'zealanders': 3, 'test': 3, 'castrating': 3, 'arrested': 3, 'trudeau': 3, 'sick': 3, 'hope': 3, 'smaller': 3, 'profession': 3, 'southerners': 3, 'rampant': 3, 'hero': 3, 'track': 3, 'aryans': 3, 'climate': 3, 'wait': 3, 'reference': 3, 'belong': 3, 'associated': 3, 'prisoners': 3, 'truly': 3, 'impeachment': 3, 'overall': 3, 'opposed': 3, 'whore': 3, 'moving': 3, 'idiotic': 3, 'priest': 3, 'sucks': 3, 'crores': 3, 'provided': 3, 'changing': 3, 'illegals': 3, 'endangered': 3, 'adopted': 3, 'recognize': 3, 'slap': 3, 'opposing': 3, 'feelings': 3, 'cum': 3, 'therefore': 3, 'apes': 3, 'stole': 3, 'flag': 3, 'egypt': 3, 'vegetarians': 3, 'testicles': 3, 'peoples': 3, 'counter': 3, 'salman': 3, 'venezuela': 3, 'enforcement': 3, 'abuser': 3, 'flirting': 3, 'nearly': 2, 'winnie': 2, 'pooh': 2, 'incite': 2, 'cover': 2, 'magic': 2, 'bath': 2, 'foods': 2, 'commercial': 2, 'seekers': 2, 'granted': 2, 'exclusively': 2, 'interracial': 2, 'buddy': 2, 'lannister': 2, 'rebellion': 2, 'formal': 2, 'farmers': 2, 'adityanath': 2, 'suitable': 2, 'stating': 2, 'households': 2, 'walls': 2, 'heels': 2, 'hosts': 2, 'rajputs': 2, 'protector': 2, 'apply': 2, 'piss': 2, 'bucks': 2, 'passport': 2, 'issued': 2, 'featured': 2, 'assassinating': 2, 'appear': 2, 'comparing': 2, 'tool': 2, 'literate': 2, 'intense': 2, 'chief': 2, 'cena': 2, 'hong': 2, 'kong': 2, 'erdogan': 2, 'kurdish': 2, 'highways': 2, 'kingdom': 2, 'tommy': 2, 'robinson': 2, '1984': 2, 'rabid': 2, 'electric': 2, 'whip': 2, 'demands': 2, 'box': 2, 'matters': 2, 'richest': 2, 'nuts': 2, 'insincere': 2, 'blown': 2, 'missiles': 2, 'stronger': 2, 'forget': 2, 'ironic': 2, 'stripped': 2, '40s': 2, 'saggy': 2, 'reich': 2, 'referring': 2, 'trial': 2, 'differing': 2, 'sociopath': 2, 'restrict': 2, 'migrating': 2, 'freely': 2, 'sharia': 2, 'iqs': 2, 'incident': 2, 'paris': 2, 'strikes': 2, 'delay': 2, 'retaliation': 2, 'surviving': 2, 'dear': 2, 'correctness': 2, 'foundation': 2, 'largest': 2, 'production': 2, 'netherlands': 2, 'loyal': 2, 'stubborn': 2, 'contrary': 2, 'supplies': 2, 'safely': 2, 'task': 2, 'demi': 2, 'lovato': 2, 'backing': 2, 'creatures': 2, 'glorified': 2, 'benjamin': 2, 'pointed': 2, 'ebay': 2, 'tyranny': 2, 'routinely': 2, 'stupidity': 2, 'credit': 2, 'osama': 2, 'navy': 2, 'italy': 2, 'received': 2, 'scholars': 2, 'microsoft': 2, 'github': 2, 'tongue': 2, 'preaching': 2, 'practicing': 2, 'marvel': 2, 'thugs': 2, 'addicted': 2, 'cocaine': 2, 'cigarette': 2, 'entry': 2, 'germanic': 2, 'tmc': 2, 'defeated': 2, 'palpatine': 2, 'transgenders': 2, 'glorify': 2, 'punjabis': 2, 'surname': 2, 'orchestrated': 2, 'investigation': 2, 'roads': 2, 'albanians': 2, 'macedonians': 2, 'properties': 2, 'com': 2, 'sterlite': 2, 'firing': 2, 'larger': 2, 'fights': 2, 'peg': 2, 'militia': 2, 'fantasies': 2, 'relation': 2, 'pathans': 2, 'afghans': 2, 'deserved': 2, 'fetuses': 2, 'illiterate': 2, 'certified': 2, 'plant': 2, 'someday': 2, 'intellectualism': 2, 'downfall': 2, 'explicit': 2, 'thanks': 2, 'typing': 2, 'stud': 2, 'earrings': 2, 'manafort': 2, 'obstruction': 2, 'stopping': 2, 'cats': 2, 'listening': 2, 'involuntary': 2, 'phrases': 2, 'offsprings': 2, 'crashes': 2, 'pilot': 2, 'orthodox': 2, 'journalist': 2, 'prime': 2, 'bengaluru': 2, 'cinema': 2, 'prescribed': 2, 'limiting': 2, 'selected': 2, 'eternal': 2, 'soul': 2, 'khalistan': 2, 'genociding': 2, 'strongly': 2, 'disagrees': 2, 'approval': 2, 'incredibly': 2, 'sound': 2, 'tie': 2, 'split': 2, 'anyway': 2, 'shred': 2, 'civilized': 2, 'borders': 2, 'penises': 2, 'newly': 2, 'yrs': 2, 'ww1': 2, 'approach': 2, 'fucked': 2, 'hungry': 2, 'paper': 2, 'exams': 2, 'revealing': 2, '42': 2, 'elsewhere': 2, 'quibble': 2, 'role': 2, 'christmas': 2, 'utopia': 2, 'fond': 2, 'rhetorical': 2, 'pump': 2, 'dozen': 2, '60s': 2, 'manners': 2, 'euro': 2, 'eq': 2, 'fantasize': 2, 'scene': 2, 'supposedly': 2, 'sunnis': 2, 'cancel': 2, 'courses': 2, 'globalist': 2, 'month': 2, 'clothing': 2, 'homo': 2, 'domestic': 2, 'sibling': 2, 'spring': 2, 'fairer': 2, 'maithil': 2, 'puerto': 2, 'spam': 2, 'nigerian': 2, 'runs': 2, 'equals': 2, 'preach': 2, 'officially': 2, 'finished': 2, 'truck': 2, 'devices': 2, 'holds': 2, 'jobless': 2, 'taxpayer': 2, 'agencies': 2, 'occupation': 2, 'bihar': 2, 'fixed': 2, 'critics': 2, 'purposely': 2, 'films': 2, 'jee': 2, 'gotten': 2, 'mnc': 2, 'abandoned': 2, 'pink': 2, 'intended': 2, 'blondes': 2, 'dicks': 2, 'tiananmen': 2, 'square': 2, 'execution': 2, 'potus': 2, 'koran': 2, 'fail': 2, 'root': 2, 'gaddafi': 2, 'slip': 2, 'labeled': 2, 'positive': 2, 'saint': 2, 'opportunity': 2, 'direct': 2, 'caliphate': 2, 'stealing': 2, 'vladimir': 2, 'participated': 2, 'doesnt': 2, 'tastes': 2, 'exterminated': 2, 'hole': 2, 'nigeria': 2, 'substitute': 2, 'lethal': 2, 'prejudice': 2, 'democracies': 2, 'speeches': 2, 'sugar': 2, 'innocence': 2, 'messages': 2, 'plants': 2, 'catholics': 2, 'shake': 2, 'submissive': 2, 'field': 2, 'diseases': 2, 'ball': 2, 'mph': 2, '600': 2, 'dominate': 2, 'sects': 2, 'binary': 2, 'toes': 2, 'dollar': 2, 'mating': 2, 'cleaning': 2, 'powers': 2, 'shariah': 2, 'modiji': 2, 'devil': 2, 'y': 2, 'unwanted': 2, 'fate': 2, 'masturbated': 2, 'nfl': 2, 'funerals': 2, 'monster': 2, 'largely': 2, 'agreed': 2, 'needed': 2, 'channel': 2, 'existent': 2, 'hearts': 2, 'protestant': 2, '5th': 2, 'ryan': 2, 'orlando': 2, 'reminds': 2, 'hamas': 2, 'qaeda': 2, 'inhabitants': 2, 'humiliation': 2, 'essentially': 2, 'boston': 2, 'hassle': 2, 'zionism': 2, 'regulated': 2, 'gold': 2, 'beginning': 2, 'decision': 2, 'franchises': 2, 'iitjee': 2, 'joking': 2, 'concern': 2, 'willingly': 2, 'spaniards': 2, 'costs': 2, 'denouncing': 2, 'yesterday': 2, 'migrant': 2, 'surprised': 2, 'anal': 2, 'bits': 2, 'flavor': 2, 'senate': 2, 'document': 2, 'budget': 2, 'falsely': 2, 'dishonest': 2, 'suffer': 2, 'syndrome': 2, 'wins': 2, 'hacking': 2, 'rub': 2, 'inflated': 2, '80': 2, 'originated': 2, 'touching': 2, 'wrecking': 2, 'secure': 2, 'cologne': 2, 'green': 2, 'anxiety': 2, 'scenario': 2, 'smile': 2, 'nepal': 2, 'sexuality': 2, 'childhood': 2, 'bombing': 2, 'ordered': 2, 'chewbacca': 2, 'arabian': 2, 'bottoms': 2, 'feminine': 2, 'obese': 2, 'highway': 2, 'deaths': 2, 'prevented': 2, 'license': 2, 'pet': 2, 'et': 2, '1962': 2, 'discount': 2, 'match': 2, 'influential': 2, 'irritating': 2, 'enjoyed': 2, 'visa': 2, 'trip': 2, 'reply': 2, 'earthers': 2, 'distance': 2, 'era': 2, 'sends': 2, 'patients': 2, 'flags': 2, 'expel': 2, 'belly': 2, 'monarchy': 2, 'luxury': 2, 'royals': 2, 'narcissist': 2, 'lust': 2, 'jones': 2, 'elderly': 2, 'abandoning': 2, 'repeated': 2, 'imitation': 2, 'unhygienic': 2, 'wage': 2, 'symbols': 2, 'dressed': 2, 'identified': 2, 'limits': 2, 'commission': 2, 'report': 2, 'vacuum': 2, 'leia': 2, 'attempt': 2, 'versions': 2, 'gdp': 2, 'capita': 2, 'scores': 2, 'saved': 2, 'freeing': 2, 'swamp': 2, 'wealthiest': 2, 'stance': 2, 'realized': 2, 'commits': 2, 'islander': 2, 'cries': 2, 'fanatics': 2, 'successfully': 2, 'forever': 2, 'tea': 2, 'noah': 2, 'flood': 2, 'unhappy': 2, 'lifestyle': 2, 'bureaucracy': 2, 'secretary': 2, 'interview': 2, 'kitten': 2, 'theological': 2, 'lines': 2, 'guests': 2, 'rifle': 2, 'medicare': 2, 'calculate': 2, 'positions': 2, 'applicants': 2, 'teddy': 2, 'protecting': 2, 'admitted': 2, 'progressive': 2, 'epa': 2, 'threats': 2, 'disasters': 2, 'study': 2, 'overthrow': 2, 'drug': 2, 'cruz': 2, 'traits': 2, 'adhere': 2, 'classic': 2, 'contributions': 2, 'imprisoning': 2, '29': 2, 'clowns': 2, 'wanna': 2, 'lynched': 2, 'profile': 2, 'curse': 2, 'tesla': 2, 'dates': 2, 'period': 2, 'objectively': 2, 'unattractive': 2, 'afterwards': 2, 'stereotyped': 2, 'criticise': 2, 'fanatic': 2, 'training': 2, 'torah': 2, 'embassy': 2, 'held': 2, 'title': 2, 'ukrainian': 2, 'stock': 2, 'street': 2, 'gonna': 2, 'rome': 2, 'liquid': 2, 'executive': 2, 'authority': 2, 'aboriginals': 2, 'comey': 2, 'anthony': 2, 'weiner': 2, 'meaningful': 2, 'pedophiles': 2, 'demonized': 2, 'vhp': 2, 'dig': 2, 'births': 2, 'motivates': 2, 'donations': 2, 'motivation': 2, 'battle': 2, 'digest': 2, 'maintenance': 2, 'prohibited': 2, 'neighbour': 2, 'captain': 2, 'primarily': 2, 'civilian': 2, 'roman': 2, 'scriptures': 2, 'attend': 2, 'replace': 2, 'intimacy': 2, 'burned': 2, 'immigrate': 2, 'chat': 2, 'pribumi': 2, 'ancestry': 2, 'taller': 2, 'numbers': 2, 'effect': 2, 'mistakes': 2, 'petty': 2, 'trigger': 2, 'respected': 2, 'believed': 2, 'populated': 2, 'closed': 2, 'ownership': 2, 'nick': 2, 'pathetic': 2, 'conditions': 2, 'functioning': 2, '500': 2, 'florida': 2, 'surgery': 2, 'works': 2, 'parody': 2, 'brahma': 2, 'creator': 2, 'kneeling': 2, 'heart': 2, 'studied': 2, 'anatomy': 2, 'scam': 2, 'affair': 2, 'abandon': 2, 'enjoying': 2, 'near': 2, 'chelsea': 2, 'grandchildren': 2, 'several': 2, 'enslave': 2, 'bubble': 2, 'walk': 2, 'handcuffs': 2, 'operation': 2, 'mission': 2, 'eliminate': 2, 'claiming': 2, 'jain': 2, 'fighters': 2, 'satanism': 2, 'usury': 2, 'fashion': 2, 'uproar': 2, 'establish': 2, 'sword': 2, 'panic': 2, 'temporarily': 2, 'heterosexual': 2, 'cannibals': 2, 'rear': 2, 'conversion': 2, 'indicted': 2, 'vindicated': 2, 'rapper': 2, 'deceased': 2, 'urine': 2, 'missing': 2, 'ending': 2, 'merely': 2, 'bribe': 2, 'later': 2, 'telugus': 2, 'empowerment': 2, 'assholes': 2, '25th': 2, 'currently': 2, 'competition': 2, 'renamed': 2, 'services': 2, 'obey': 2, 'expensive': 2, 'declined': 2, 'unnecessary': 2, 'isolated': 2, '19': 2, 'debts': 2, 'oppressive': 2, 'oppression': 2, 'donating': 2, 'hurricanes': 2, 'satisfy': 2, 'sentiments': 2, 'illegally': 2, 'manufacturing': 2, 'transition': 2, 'puberty': 2, 'logically': 2, 'accused': 2, 'judicial': 2, 'incompetent': 2, 'zero': 2, 'odia': 2, 'sell': 2, 'brag': 2, 'malls': 2, 'southeast': 2, 'wwi': 2, 'pigs': 2, 'uncivilized': 2, 'observations': 2, 'prophets': 2, 'wonder': 2, 'sports': 2, 'gossip': 2, 'thousand': 2, 'governing': 2, 'joseph': 2, 'twelve': 2, 'intellect': 2, 'costing': 2, 'bank': 2, 'throughout': 2, 'prominent': 2, 'suspect': 2, 'warfare': 2, 'uranium': 2, 'honestly': 2, '70': 2, '51': 2, 'scenes': 2, 'pleasure': 2, 'mike': 2, '1000': 2, 'bashar': 2, 'assad': 2, 'delusional': 2, 'basis': 2, 'appeasement': 2, 'slaughtering': 2, 'inherit': 2, 'rarely': 2, 'informed': 2, 'bodies': 2, '1999': 2, '2014': 2, 'hostage': 2, 'probably': 2, 'early': 2, 'walmart': 2, 'trashy': 2, 'thier': 2, 'pressured': 2, 'cunt': 2, 'products': 2, 'toys': 2, 'regarding': 2, 'exposed': 2, 'pre': 2, 'fandom': 2, 'sins': 2, 'machine': 2, 'lobby': 2, 'washington': 2, 'murderers': 2, 'behaviour': 2, 'alike': 2, 'audacity': 2, 'quote': 2, 'millenials': 2, 'customs': 2, 'polygamy': 2, 'hispanic': 2, 'solve': 2, '400': 2, 'contributors': 2, 'blonde': 2, 'allergic': 2, 'implosion': 2, 'x': 2, 'sexism': 2, 'reflection': 2, 'scream': 2, 'walking': 2, 'holding': 2, 'passionately': 2, 'cunnilingus': 2, 'shamelessly': 2, 'humble': 2, 'definition': 2, 'months': 2, 'immorality': 2, 'learning': 2, 'hannity': 2, 'thomas': 2, 'educational': 2, 'killings': 2, 'epilepsy': 2, 'seziure': 2, 'spewing': 2, 'witnesses': 2, 'blames': 2, 'neighbors': 2, 'pineapples': 2, 'ruler': 2, 'monk': 2, 'ethnicities': 2, 'encouraging': 2, 'mao': 2, 'pol': 2, 'pot': 2, 'mistaken': 2, 'advocating': 2, 'underdeveloped': 2, 'vaginas': 2, 'jerks': 2, 'insults': 2, 'stats': 2, 'crappy': 2, 'inappropriate': 2, 'advantages': 2, 'foot': 2, 'soil': 2, 'assimilate': 2, 'evangelicals': 2, 'managed': 2, 'disregard': 2, 'classy': 2, '120': 2, 'rounds': 2, 'minute': 2, 'seculars': 2, 'documented': 2, '55': 2, 'wont': 2, 'easiest': 2, 'afk': 2, 'advance': 2, 'shorter': 2, 'neighbor': 2, 'blocks': 2, 'celebrated': 2, 'victory': 2, 'anniversary': 2, 'unlawful': 2, 'intps': 2, 'solutions': 2, 'elegant': 2, 'lunatic': 2, 'warriors': 2, 'azerbaijan': 2, 'breathing': 2, 'justifying': 2, 'ears': 2, 'sat': 2, 'corner': 2, 'aggressors': 2, 'oppress': 2, 'torturing': 2, 'kittens': 2, 'recruit': 2, 'jihadis': 2, 'reform': 2, 'impression': 2, 'alleged': 2, 'undefined': 2, 'filipino': 2, 'freaking': 2, 'invaded': 2, 'rituals': 2, 'dung': 2, '27': 2, 'graduate': 2, '2002': 2, 'justification': 2, 'deranged': 2, 'moslems': 2, 'buddhists': 2, 'foster': 2, 'execute': 2, 'whale': 2, 'risks': 2, 'creating': 2, 'solution': 2, 'ardent': 2, 'moses': 2, 'talented': 2, 'ads': 2, 'exclusive': 2, 'bully': 2, 'quietly': 2, 'idol': 2, 'poorer': 2, 'neighborhood': 2, 'controls': 2, 'staff': 2, 'salary': 2, 'severus': 2, 'snape': 2, 'served': 2, 'embrace': 2, 'crush': 2, 'whitewashing': 2, 'adam': 2, 'eve': 2, 'fascism': 2, 'accidentally': 2, 'condom': 2, 'penetrate': 2, 'diving': 2, 'hypothetical': 2, 'setting': 2, 'decades': 2, 'boner': 2, 'fart': 2, 'inevitable': 2, 'subpoena': 2, 'clean': 2, 'performance': 2, 'manipulated': 2, 'poster': 2, 'demographic': 2, 'shown': 2, 'networking': 2, 'pure': 2, 'discussion': 2, 'adivasis': 2, 'dreamer': 2, 'fleeing': 2, 'shrewd': 2, 'bigoted': 2, 'favor': 2, 'posted': 2, 'enslavement': 2, 'funded': 2, 'keeps': 2, 'writer': 2, 'antisemitism': 2, 'evening': 2, 'sarcasm': 2, 'truths': 2, 'hormones': 2, '1950s': 2, 'notion': 2, 'offspring': 2, 'apple': 2, 'malaysians': 2, 'fluid': 2, 'reagan': 2, 'leaves': 2, 'trophy': 2, 'answering': 2, 'fixing': 2, 'discovered': 2, 'landing': 2, 'dr': 2, 'infertile': 2, 'sessions': 2, 'communal': 2, 'riot': 2, 'permits': 2, 'cars': 2, 'joy': 2, 'intellectually': 2, 'soulmates': 2, 'millennial': 2, 'californians': 2, 'malayalees': 2, 'items': 2, 'dragon': 2, 'provide': 2, 'spanish': 2, 'impress': 2, 'consensual': 2, 'shove': 2, 'finance': 2, 'murderer': 2, 'richard': 2, 'coke': 2, 'frowned': 2, 'scandinavian': 2, 'differently': 2, 'shah': 2, 'semites': 2, 'pronounce': 2, 'map': 2, 'height': 2, 'perverts': 2, 'abusing': 2, 'overrated': 2, 'specific': 2, 'capitalist': 2, 'damage': 2, 'diverse': 2, 'permanently': 2, 'soap': 2, 'naturally': 2, 'emotionally': 2, 'accusing': 2, 'plays': 2, 'cnn': 2, 'reporters': 2, 'hook': 2, 'promiscuous': 2, 'participating': 2, 'illnesses': 2, 'lewinsky': 2, 'embarrassing': 2, 'regularly': 2, 'migrated': 2, 'shapiro': 2, 'infidels': 2, 'desire': 2, 'goons': 2, 'emperor': 2, 'protected': 2, 'worker': 2, 'unmarried': 2, 'gift': 2, 'oath': 2, 'bs': 2, 'declared': 2, 'bringing': 2, 'york': 2, 'pronouns': 2, 'demanding': 2, 'tortured': 2, 'frequent': 2, 'insulted': 2, 'label': 2, 'jignesh': 2, 'detained': 2, 'airport': 2, 'wales': 2, 'perpetrator': 2, 'underwear': 2, 'prevents': 2, 'adults': 2, 'resort': 2, 'graduates': 2, 'stanford': 2, 'dudes': 2, 'capable': 2, 'leather': 2, 'electriation': 2, 'thirsty': 2, 'colombians': 2, 'ultimate': 2, 'ians': 2, 'hi': 2, 'iyengars': 2, 'iyers': 2, 'aspire': 2, 'vegan': 2, 'islamist': 2, 'tennesseans': 2, 'factual': 2, 'deeper': 2, 'onto': 2, 'eater': 2, 'minutes': 2, 'motivate': 2, 'jabba': 2, 'luke': 2, 'fallen': 2, 'shop': 2, 'rates': 2, 'regardless': 2, 'passed': 2, 'succeeded': 2, 'manipulate': 2, 'cross': 2, 'overweight': 2, 'approached': 2, 'voiced': 2, 'underage': 2, 'blond': 2, 'skirt': 2, 'assassinate': 2, 'broadcast': 2, 'wtc': 2, 'scientifically': 2, 'agendas': 2, 'playing': 2, 'confiscated': 2, 'cast': 2, 'misusing': 2, 'commandments': 2, 'profit': 2, 'courts': 2, 'demolition': 2, 'coincidence': 2, 'uninformed': 2, 'da': 2, 'proclaimed': 2, 'electing': 2, 'ongoing': 2, 'welcomed': 2, 'clue': 2, 'constant': 2, 'acquire': 2, 'readily': 2, 'spectrum': 2, 'moderates': 2, 'mughals': 2, 'bts': 2, 'chineses': 2, 'backward': 2, 'partition': 2, 'iraqi': 2, 'sympathy': 2, 'swedes': 2, 'neither': 2, 'bandwidth': 2, 'markle': 2, 'merit': 2, 'beast': 2, 'rothschild': 2, 'founded': 2, 'offering': 2, '0': 2, 'possibly': 2, 'miles': 2, 'malaysian': 2, 'irs': 2, 'sector': 2, 'loot': 2, 'clients': 2, 'apartment': 2, 'caves': 2, 'constitutes': 2, 'standard': 2, 'loud': 2, 'reporting': 2, 'monitor': 2, 'musicians': 2, 'traitor': 2, 'dysphoria': 2, 'justin': 2, 'hypocritic': 2, 'programmers': 2, 'prostitution': 2, 'illogical': 2, 'spock': 2, 'yugoslav': 2, 'bosniaks': 2, 'bernie': 2, 'dominion': 2, 'takes': 2, 'bound': 2, 'soccer': 2, 'appointed': 2, 'favourite': 2, 'obligations': 2, 'proposal': 2, 'censor': 2, 'kiss': 2, 'abroad': 2, 'a2a': 2, 'thats': 2, 'believer': 2, 'convinced': 2, 'mathematics': 2, 'famous': 2, 'condition': 2, 'intellectuals': 2, 'fool': 2, 'jennifer': 2, 'approve': 2, 'blm': 2, 'contributed': 2, 'honourable': 2, 'orgasm': 2, 'connection': 2, 'readers': 2, 'unfairly': 2, 'advocated': 2, 'perverted': 2, 'hogg': 2, 'consciousness': 2, 'subject': 2, 'negro': 2, 'corporations': 2, 'representatives': 2, 'dangerously': 2, 'disturbed': 2, 'grabbing': 2, 'mock': 2, 'counts': 2, 'witness': 2, 'deputy': 2, 'ganga': 2, 'empathy': 2, 'selling': 2, 'billionaire': 2, 'invented': 2, 'intimate': 2, 'presence': 2, 'dominating': 2, 'broke': 2, 'multiculturalism': 2, 'inspired': 2, 'preference': 2, 'consenting': 2, 'cave': 2, 'hiding': 2, 'nirbhaya': 2, 'separatist': 2, 'attacking': 2, 'pike': 2, 'gen': 2, 'referred': 2, 'affairs': 2, 'hearing': 2, 'charges': 2, 'bottom': 2, 'lynch': 2, 'cute': 2, 'mormons': 2, 'project': 2, 'likeness': 2, 'didnt': 2, 'sharon': 2, 'valentine': 2, 'migration': 2, 'qualities': 2, 'reserve': 2, 'rent': 2, 'fired': 2, 'boss': 2, 'sigh': 2, 'aryan': 2, 'oversea': 2, 'fury': 2, 'interactions': 2, 'boundaries': 2, 'burden': 2, 'deals': 2, 'bangalore': 2, 'lawyers': 2, 'attorney': 2, 'privileged': 2, 'client': 2, 'sentence': 2, 'vampires': 2, 'events': 2, 'ms': 2, 'feku': 2, 'greg': 2, 'shadow': 2, 'table': 2, 'hunt': 2, 'gap': 2, 'exploitation': 2, 'gangs': 2, 'benghazi': 2, 'similarities': 2, 'meritocracy': 2, 'nancy': 2, 'pelosi': 2, 'brothel': 2, 'ladies': 2, 'tested': 2, 'unborn': 2, 'cook': 2, 'boil': 2, 'bit': 2, 'celtic': 2, 'bisexual': 2, 'related': 2, 'existed': 2, 'connections': 2, 'strength': 2, 'molestation': 2, 'stephen': 2, 'accounts': 2, 'sindhi': 2, 'psychopathy': 2, 'libertarian': 2, 'posting': 2, 'wb': 2, 'bogus': 2, 'faked': 2, 'sanctuary': 2, 'experiencing': 2, 'gf': 2, 'household': 2, 'flawed': 2, 'surgical': 2, 'arresting': 2, 'accurate': 2, 'kinds': 2, 'favorite': 2, 'attempts': 2, 'animalistic': 2, 'ultimately': 2, 'toilets': 2, 'birds': 2, 'fantastic': 2, 'boomers': 2, 'bras': 2, 'misleading': 2, 'flynn': 2, 'prosecuted': 2, 'zealand': 2, 'conquer': 2, 'chup': 2, 'removal': 2, 'fierce': 2, 'sperm': 2, 'cheered': 2, 'extremist': 2, 'specially': 2, 'enemy': 2, 'earn': 2, 'ants': 2, 'popularity': 2, 'outraged': 2, 'molest': 2, 'brutal': 2, 'nigga': 2, 'columbia': 2, 'franken': 2, 'contribute': 2, 'besides': 2, 'safer': 2, 'mla': 2, 'jds': 2, 'obamas': 2, 'fast': 2, 'conservation': 2, 'wildlife': 2, 'faithful': 2, '123': 2, 'finish': 2, 'girth': 2, 'aadhar': 2, 'enrollment': 2, 'predators': 2, 'lauer': 2, 'traditions': 2, 'turns': 2, 'taboo': 2, 'bancoop': 2, 'pt': 2, 'submarine': 2, 'contractor': 2, 'floor': 2, 'records': 2, 'decided': 2, 'distant': 2, 'tiny': 2, 'deemed': 2, 'constitution': 2, 'unarmed': 2, 'michelle': 2, 'applies': 2, 'handling': 2, 'earning': 2, 'grant': 2, 'bikini': 2, 'shirt': 2, 'em': 2, 'southwest': 2, 'bathroom': 2, 'khan': 2, 'aggressively': 2, 'propagating': 2, 'drop': 2, 'imaginary': 2, 'inflation': 2, 'laugh': 2, 'instances': 2, 'felons': 2, 'nude': 2, 'rank': 2, 'roast': 2, 'stewart': 2, 'celebrities': 2, 'saves': 2, 'truthful': 2, 'compromise': 2, 'dealing': 2, 'tip': 2, 'termed': 2, 'noses': 2, 'pantsed': 2, 'leviticus': 2, 'consists': 1, 'colonies': 1, 'shameful': 1, 'frenchmen': 1, 'qualify': 1, 'id': 1, 'dissappear': 1, 'militarise': 1, 'elf': 1, 'hijab': 1, 'familiar': 1, 'owning': 1, 'pedophile': 1, 'clothes': 1, 'polluted': 1, 'advertisers': 1, 'ugandan': 1, 'knuckles': 1, 'importing': 1, 'seeking': 1, 'valid': 1, 'choicers': 1, 'prefers': 1, 'jamie': 1, 'barristan': 1, 'selmey': 1, 'serving': 1, 'cyber': 1, 'violate': 1, 'uber': 1, 'raids': 1, 'carnegie': 1, 'mellon': 1, 'robotics': 1, '2015': 1, 'manure': 1, 'saffron': 1, 'steak': 1, 'utensil': 1, 'medium': 1, 'sized': 1, 'warren': 1, 'targets': 1, 'turtles': 1, 'blend': 1, 'awkward': 1, 'cherry': 1, 'picking': 1, 'predominant': 1, 'default': 1, 'design': 1, 'triggered': 1, 'gosh': 1, 'grandma': 1, 'lingerie': 1, 'uselessly': 1, 'rolling': 1, 'stones': 1, 'album': 1, 'goldwater': 1, 'guitar': 1, 'employs': 1, 'kissinger': 1, 'madman': 1, 'backfire': 1, 'covertly': 1, 'lowly': 1, 'covert': 1, 'simplistic': 1, 'algorithms': 1, 'curating': 1, 'colluded': 1, 'interfere': 1, 'geminis': 1, 'digit': 1, 'scorpios': 1, 'repeating': 1, 'cheeto': 1, 'persecution': 1, 'rubs': 1, 'hir': 1, 'snatch': 1, 'verdict': 1, 'moviments': 1, 'eastwhy': 1, 'orwell': 1, 'whats': 1, 'shock': 1, 'contribution': 1, 'airdropped': 1, 'wooden': 1, 'respects': 1, 'notwithstanding': 1, 'undereducated': 1, 'praises': 1, 'flagging': 1, 'impunity': 1, 'proceeds': 1, 'forfeiture': 1, 'interstate': 1, 'transport': 1, 'preemptive': 1, 'epoch': 1, 'galileo': 1, 'responsibilities': 1, 'sri': 1, 'devi': 1, 'raveena': 1, 'tandon': 1, 'juhi': 1, 'chawla': 1, 'aishwarya': 1, 'rai': 1, 'sushmita': 1, 'sen': 1, 'archana': 1, 'pooran': 1, 'wrinkly': 1, 'faux': 1, 'fade': 1, 'canard': 1, 'currency': 1, 'internment': 1, 'rounded': 1, 'incarcerated': 1, 'athiests': 1, 'observe': 1, 'orderly': 1, 'rhythm': 1, 'lifecycle': 1, 'conclusion': 1, 'pandat': 1, 'pandu': 1, 'shudras': 1, 'mazhabi': 1, 'kshtriyas': 1, 'vaishyas': 1, 'repulsed': 1, 'clans': 1, 'ppl': 1, 'damaged': 1, 'applied': 1, '21st': 1, 'changes': 1, 'americas': 1, 'cantonese': 1, 'viable': 1, 'launch': 1, 'neutralise': 1, 'capabilities': 1, 'commanders': 1, 'submarines': 1, 'retaliate': 1, 'screening': 1, 'gate': 1, 'squandered': 1, 'eggnog': 1, 'persecute': 1, 'welcoming': 1, 'conman': 1, 'drives': 1, 'wicked': 1, 'kannadian': 1, 'outsiders': 1, 'determined': 1, 'dictates': 1, 'effectively': 1, 'compete': 1, 'unsubscribed': 1, 'trivial': 1, 'franklin': 1, 'handjob': 1, 'cocked': 1, 'teehee': 1, 'loaded': 1, 'flintlock': 1, 'pistol': 1, 'tyrant': 1, 'teen': 1, 'previous': 1, 'outlandish': 1, 'biplab': 1, 'deb': 1, 'shocking': 1, 'zainab': 1, 'ansari': 1, '8th': 1, 'kansur': 1, 'condemnation': 1, 'viral': 1, 'cheeky': 1, 'sweater': 1, 'googel': 1, 'casteist': 1, 'acquiring': 1, 'repositories': 1, 'gitlab': 1, 'skype': 1, '51st': 1, 'paints': 1, 'shrillary': 1, 'energetic': 1, 'msm': 1, 'partiality': 1, 'ssb': 1, 'imperialism': 1, 'segregationist': 1, 'fairness': 1, 'ibn': 1, 'abd': 1, 'wahhab': 1, 'wahhabist': 1, 'creed': 1, 'hostile': 1, 'moments': 1, 'menopause': 1, 'prc': 1, 'roc': 1, 'forty': 1, 'hash': 1, 'smoking': 1, 'consumers': 1, 'dealers': 1, 'maria': 1, 'sharapova': 1, 'deterrent': 1, 'nordic': 1, 'reinforced': 1, 'ruckus': 1, 'yoda': 1, 'difficulty': 1, 'khadem': 1, 'albanian': 1, 'bosniak': 1, 'sheeple': 1, 'sharma': 1, 'malhotra': 1, 'notions': 1, 'surnames': 1, 'chatterjee': 1, 'superficious': 1, 'storm': 1, 'signals': 1, 'resigning': 1, 'incapacity': 1, 'mobility': 1, 'classes': 1, 'profiling': 1, 'slav': 1, 'homework': 1, 'https': 1, 'amp': 1, 'ndtv': 1, 'killswhy': 1, 'tamilnadu': 1, 'protestors': 1, 'antifa': 1, 'patriots': 1, 'charisma': 1, 'scrap': 1, 'gangstalkers': 1, 'stooped': 1, 'alchohol': 1, 'bezos': 1, 'mercenaries': 1, 'rulers': 1, 'oppressors': 1, 'banana': 1, 'fleshlights': 1, 'buddhism': 1, 'marines': 1, 'branches': 1, 'xenophobics': 1, 'emboldened': 1, 'straightening': 1, 'barriers': 1, 'labouring': 1, 'interfering': 1, '247': 1, 'aborted': 1, 'shat': 1, 'falangist': 1, 'kataeb': 1, 'dietary': 1, 'gnostic': 1, 'restless': 1, 'cohen': 1, 'flip': 1, 'pardon': 1, 'stated': 1, 'stigma': 1, 'jody': 1, 'arias': 1, 'dice': 1, 'rugby': 1, 'unequal': 1, 'deprived': 1, 'privileges': 1, 'airplane': 1, 'fly': 1, 'bakes': 1, 'propensity': 1, 'pistols': 1, 'casualties': 1, 'bullets': 1, 'slovakia': 1, 'mafia': 1, 'fico': 1, 'cringeworthy': 1, 'judaic': 1, 'appointment': 1, 'promise': 1, 'adherence': 1, 'fn': 1, 'p90': 1, 'techno': 1, 'babbly': 1, 'futuristic': 1, '4000': 1, 'consist': 1, 'organizations': 1, 'bathe': 1, 'oxygen': 1, 'invasions': 1, 'continual': 1, 'crusader': 1, 'viewers': 1, 'exchange': 1, 'manly': 1, 'voices': 1, 'kuwaitis': 1, 'ups': 1, 'physiological': 1, 'beatitudes': 1, 'ghostwriter': 1, 'irritates': 1, 'pubic': 1, 'falling': 1, 'panty': 1, 'deserted': 1, 'hilary': 1, 'crooks': 1, 'saffronized': 1, 'remedies': 1, 'articles': 1, 'fallacious': 1, 'malay': 1, 'sensibly': 1, 'imposed': 1, 'occupational': 1, 'frontline': 1, 'collection': 1, 'homesteads': 1, 'leverage': 1, 'install': 1, 'tanning': 1, 'trapped': 1, 'cartridge': 1, 'atbme': 1, 'rapwnme': 1, 'prey': 1, 'bin': 1, 'plunge': 1, 'vastly': 1, 'pardah': 1, 'islamaphobia': 1, 'olive': 1, 'masks': 1, 'interesting': 1, 'poli': 1, 'tics': 1, 'bloodsucking': 1, 'unprotected': 1, 'clothe': 1, 'paedophiles': 1, 'flushing': 1, 'wiping': 1, 'tourist': 1, 'kafir': 1, 'upload': 1, 'bragging': 1, 'massachusetts': 1, 'protects': 1, 'whinge': 1, 'offends': 1, 'multicultural': 1, '50s': 1, '70s': 1, 'neglect': 1, 'sanskrit': 1, 'feminization': 1, 'estrogen': 1, 'diet': 1, 'feminized': 1, 'educating': 1, 'ashkenaz': 1, 'grandson': 1, 'japheth': 1, 'usage': 1, 'freezer': 1, 'ambiguity': 1, 'denounce': 1, 'chimichagua': 1, 'bayarea': 1, 'entitlement': 1, 'sacrificed': 1, 'hilarious': 1, 'heavier': 1, 'iraqis': 1, 'shiites': 1, 'locals': 1, 'complacent': 1, 'tee': 1, 'markers': 1, 'golf': 1, 'isolationist': 1, 'compensation': 1, 'libs': 1, 'eyeballs': 1, 'austria': 1, 'profiled': 1, 'rogue': 1, 'sanction': 1, 'hailing': 1, 'goddess': 1, 'snowflakes': 1, 'melt': 1, 'worldwide': 1, 'sidelined': 1, 'suntan': 1, 'darker': 1, 'jest': 1, 'fatwas': 1, 'conversions': 1, 'slogans': 1, 'joining': 1, 'ricans': 1, 'butts': 1, 'subsection': 1, 'childish': 1, 'litter': 1, 'meanwhile': 1, 'quoting': 1, 'verses': 1, 'preachers': 1, 'demonstrably': 1, 'abhorrent': 1, 'gullible': 1, 'negate': 1, 'dump': 1, 'defence': 1, 'reproduce': 1, 'jeer': 1, 'jumpsuit': 1, 'understands': 1, 'shoestring': 1, 'alright': 1, 'punch': 1, 'liver': 1, 'maharastrians': 1, 'drums': 1, 'euthanasia': 1, 'burdening': 1, 'dole': 1, 'bludgers': 1, 'payments': 1, 'indirectly': 1, 'nit': 1, 'warangal': 1, 'dawah': 1, 'heaven': 1, 'ills': 1, 'cunneling': 1, 'belonged': 1, 'aanand': 1, 'kumar': 1, 'berating': 1, 'becker': 1, 'chain': 1, 'cesspool': 1, 'tweeted': 1, 'invaders': 1, 'royalty': 1, 'divorcee': 1, 'fed': 1, 'j_wsh_t': 1, 'driven': 1, 'ghostbusters': 1, 'sam': 1, 'wooing': 1, 'lipstick': 1, 'suit': 1, 'critical': 1, 'portrait': 1, 'museums': 1, 'districts': 1, 'historically': 1, 'newborn': 1, 'transfer': 1, 'custody': 1, 'bada': 1, 'buttbanger': 1, 'goatnuts': 1, 'extremists': 1, 'terrorize': 1, 'silently': 1, 'technically': 1, 'faulty': 1, 'stealth': 1, 'waged': 1, 'saddam': 1, 'wood': 1, 'dilaudid': 1, 'los': 1, 'angeles': 1, '81': 1, '84': 1, 'weinsteins': 1, 'journalism': 1, 'carrying': 1, 'socialists': 1, 'ii': 1, 'descendant': 1, 'shiite': 1, 'unquestioned': 1, 'lawful': 1, 'wedded': 1, 'modified': 1, 'eugenic': 1, 'effects': 1, 'dividing': 1, 'collected': 1, 'revulsed': 1, 'android': 1, 'wifi': 1, 'sim': 1, 'crude': 1, 'unrefined': 1, 'narrow': 1, 'poo': 1, 'nasty': 1, 'bla': 1, 'ck': 1, 'sinking': 1, 'bonding': 1, 'downward': 1, 'fallowing': 1, 'motion': 1, 'gravity': 1, 'sigmund': 1, 'freud': 1, 'igbo': 1, 'forgot': 1, 'tetrahydrogender': 1, 'tetrahydrolonic': 1, 'titties': 1, 'foam': 1, 'coated': 1, 'undocumented': 1, 'overthrew': 1, 'taco': 1, 'hbb': 1, 'daddies': 1, 'easter': 1, 'ditch': 1, 'ripping': 1, 'alliances': 1, 'allies': 1, 'neck': 1, 'bow': 1, 'greeting': 1, 'habits': 1, 'scientist': 1, 'creative': 1, 'oblate': 1, 'spinning': 1, 'rotating': 1, '014': 1, '66': 1, 'correctly': 1, 'businesses': 1, 'characteristic': 1, 'aboriginal': 1, 'clevages': 1, 'cracks': 1, 'iam': 1, 'surroundings': 1, 'cleanse': 1, 'humiliate': 1, 'corollary': 1, 'horde': 1, 'afford': 1, 'trimester': 1, 'passion': 1, 'facial': 1, 'fundamentalist': 1, 'unchecked': 1, 'ataturk': 1, 'arguing': 1, 'condemning': 1, 'offending': 1, 'happiest': 1, 'hellholes': 1, 'akhand': 1, 'raashtra': 1, 'fine': 1, 'bang': 1, 'traditional': 1, 'pseudoscientific': 1, 'pangolins': 1, 'rhinos': 1, 'salamanders': 1, 'rohingyas': 1, 'mercy': 1, 'multimillionaires': 1, 'westboro': 1, 'baptists': 1, 'flying': 1, 'spaghetti': 1, 'magazine': 1, 'segregation': 1, 'urgent': 1, 'column': 1, 'lurking': 1, 'jointly': 1, 'zombies': 1, 'pok': 1, 'quantity': 1, 'replying': 1, 'disappointed': 1, 'vehemently': 1, 'mitch': 1, 'mcconnell': 1, 'minus': 1, 'grounded': 1, 'summer': 1, 'stereotype': 1, 'moderate': 1, 'sodom': 1, 'gommorrah': 1, 'hezbollah': 1, 'perception': 1, 'moves': 1, 'cousins': 1, 'productive': 1, 'crossdressing': 1, 'frustrate': 1, 'doctored': 1, 'photoshopped': 1, 'animations': 1, 'youthful': 1, 'perpetuated': 1, 'islampohbic': 1, 'email': 1, 'server': 1, 'prosecute': 1, 'immediate': 1, 'apologizing': 1, 'olympic': 1, 'dem': 1, 'rage': 1, 'gov': 1, 'admin': 1, 'trivia': 1, 'indoctrinated': 1, 'hippies': 1, 'avaliability': 1, 'heuristic': 1, 'germ': 1, 'pop': 1, 'altered': 1, 'collins': 1, 'mccain': 1, 'murkowski': 1, 'alternative': 1, 'challenging': 1, 'proposals': 1, 'baniyas': 1, 'oromos': 1, 'closer': 1, 'somalis': 1, 'abeshias': 1, 'amharas': 1, 'islamophobic': 1, 'victimhood': 1, 'ludicrous': 1, 'absurdity': 1, 'westerns': 1, 'fob': 1, 'fresh': 1, 'boat': 1, 'somali': 1, 'ali': 1, 'abdella': 1, 'dresses': 1, 'scrubs': 1, 'sneaks': 1, 'hospital': 1, 'hungary': 1, 'mindnumbingly': 1, 'brainfart': 1, 'aargh': 1, 'peanuts': 1, 'corn': 1, 'add': 1, 'relates': 1, 'trickle': 1, 'derangement': 1, 'debit': 1, 'indefinitely': 1, 'gigun': 1, 'kamalan': 1, 'marxist': 1, 'slut': 1, 'mood': 1, 'swings': 1, 'invest': 1, 'sucker': 1, 'ballerinas': 1, 'leotard': 1, 'prohibition': 1, 'estimated': 1, 'addictions': 1, 'prescriptions': 1, 'ankle': 1, 'sprains': 1, 'compensated': 1, 'prescribing': 1, 'opioids': 1, 'mosques': 1, 'hostility': 1, 'fearful': 1, 'comical': 1, 'jocular': 1, 'populism': 1, 'perpetrated': 1, 'misogynistic': 1, 'jackass': 1, 'bowling': 1, 'karl': 1, 'marx': 1, 'bathed': 1, 'begged': 1, 'zuckerberg': 1, 'handedly': 1, 'mess': 1, 'siren': 1, 'humiliating': 1, 'unethical': 1, 'doors': 1, 'insects': 1, 'wimpy': 1, 'stalker': 1, 'temperatures': 1, '90f': 1, '40k': 1, 'advent': 1, 'hooliganism': 1, 'patriotism': 1, 'obtained': 1, 'molester': 1, 'aca': 1, 'cursed': 1, 'cetera': 1, 'unholy': 1, 'alliance': 1, 'purge': 1, 'voter': 1, 'rolls': 1, 'hunger': 1, 'demonetization': 1, 'vlad': 1, 'impaler': 1, 'impaling': 1, 'gross': 1, 'alias': 1, 'bandera': 1, 'borderguards': 1, 'potty': 1, 'spacious': 1, 'criticises': 1, 'breaching': 1, 'oneanother': 1, 'principle': 1, 'helpful': 1, 'brings': 1, 'disrespecting': 1, 'biharis': 1, 'bhumihars': 1, 'sharper': 1, 'haryanvis': 1, 'founder': 1, 'animators': 1, 'erection': 1, 'princess': 1, 'jasmine': 1, 'button': 1, 'abolition': 1, 'monies': 1, 'deserving': 1, 'bizarre': 1, 'titanic': 1, 'helm': 1, 'lifeboats': 1, 'staring': 1, 'alerting': 1, 'gathering': 1, 'bankrupting': 1, 'teenager': 1, 'bothered': 1, 'hick': 1, 'assaults': 1, 'idf': 1, 'pa': 1, 'jihad': 1, 'phallic': 1, 'steals': 1, 'oceans': 1, 'peasants': 1, 'djihaddists': 1, 'sentencing': 1, 'arctic': 1, 'burka': 1, 'missionaries': 1, 'lure': 1, 'inhospitable': 1, 'boiling': 1, 'lungs': 1, 'bursting': 1, 'decompression': 1, 'reptilians': 1, 'conversations': 1, 'likelyhood': 1, 'bakers': 1, 'soy': 1, 'fiction': 1, 'hack': 1, 'consumed': 1, 'territorial': 1, 'kashmi': 1, 'precise': 1, 'drain': 1, 'draining': 1, 'assets': 1, 'transferring': 1, 'seek': 1, 'shaming': 1, 'kicking': 1, 'utterly': 1, 'declaration': 1, 'slain': 1, 'achhe': 1, 'din': 1, 'tempted': 1, 'tyrants': 1, 'khatri': 1, 'jatt': 1, 'libturd': 1, 'page': 1, 'theirself': 1, 'representation': 1, 'burqa': 1, 'scantily': 1, 'clad': 1, 'dancer': 1, 'inflammatory': 1, 'targeted': 1, 'chubby': 1, 'pose': 1, 'wankers': 1, 'slightest': 1, 'irrelevant': 1, 'tease': 1, 'abstinence': 1, 'superstition': 1, 'active': 1, 'passive': 1, 'bleach': 1, '38': 1, 'slant': 1, 'formalization': 1, 'bureaucrats': 1, 'upsc': 1, 'award': 1, 'marks': 1, 'facesitting': 1, 'slavewhy': 1, 'cheated': 1, 'superpower': 1, 'third': 1, 'professing': 1, 'sand': 1, 'vilifying': 1, 'viewpoints': 1, 'mans': 1, 'bb': 1, 'intelliegent': 1, 'purebred': 1, 'anchors': 1, 'mugs': 1, 'cleric': 1, 'mathematical': 1, 'equation': 1, 'odds': 1, 'eagles': 1, 'democratically': 1, 'elects': 1, 'roosevelt': 1, 'note': 1, 'meddled': 1, 'centrists': 1, 'parrote': 1, 'terrified': 1, 'flint': 1, 'michigan': 1, 'colorado': 1, 'river': 1, 'demonitization': 1, 'revealed': 1, 'vinod': 1, 'dua': 1, 'thewire': 1, 'fetishise': 1, 'suppose': 1, 'mold': 1, 'decent': 1, 'dreams': 1, 'dichotomy': 1, 'pornography': 1, 'prosper': 1, 'performances': 1, 'npd': 1, 'plagues': 1, 'opium': 1, 'polarized': 1, 'maniacs': 1, 'nomads': 1, 'basement': 1, 'pyd': 1, 'ypg': 1, 'doorway': 1, 'antagonize': 1, 'swayed': 1, 'carbon': 1, 'dioxide': 1, 'nikola': 1, 'isaac': 1, 'newton': 1, 'traffickers': 1, 'snopes': 1, 'subjective': 1, 'jayalalitha': 1, '1776': 1, 'encouraged': 1, 'criticised': 1, 'avoiding': 1, 'involvement': 1, 'frugal': 1, 'models': 1, 'photographers': 1, 'dhoni': 1, 'visits': 1, 'poking': 1, 'taming': 1, 'shrew': 1, 'trumpian': 1, 'summit': 1, 'mustache': 1, 'restricting': 1, 'freedoms': 1, 'liberties': 1, 'chamarendar': 1, 'skilled': 1, 'delude': 1, 'newest': 1, 'reformed': 1, 'hanging': 1, 'unpleasant': 1, 'hygiene': 1, 'behinds': 1, 'sociopathic': 1, 'fame': 1, 'mandela': 1, 'appraisers': 1, 'latest': 1, 'chaos': 1, 'sa': 1, 'cornrows': 1, 'poc': 1, 'displayed': 1, 'feeds': 1, 'duchess': 1, 'cambridge': 1, 'kate': 1, 'middleton': 1, 'mh17': 1, 'rebels': 1, 'theistic': 1, 'chillin': 1, 'six': 1, 'bankruptcies': 1, 'bonuses': 1, 'jet': 1, 'collapsing': 1, 'maga': 1, 'greenwich': 1, 'village': 1, 'smelling': 1, 'smelt': 1, 'sticky': 1, 'ejaculated': 1, 'intervene': 1, 'misinformation': 1, 'ocassionally': 1, 'outright': 1, 'grand': 1, 'jury': 1, 'probe': 1, 'assistance': 1, 'unfettered': 1, 'hypergamy': 1, 'qaddafi': 1, 'apache': 1, 'moro': 1, 'camp': 1, 'libya': 1, 'marriages': 1, 'james': 1, 'stephanopoulos': 1, 'laptop': 1, '49': 1, 'corrected': 1, 'ellen': 1, 'station': 1, 'equipment': 1, 'defended': 1, 'bajrang': 1, 'dal': 1, 'militant': 1, 'vijay': 1, 'boot': 1, 'licker': 1, 'rebirths': 1, 'expounded': 1, 'buddha': 1, 'columbine': 1, 'savant': 1, 'dimensions': 1, 'guaranteed': 1, 'dems': 1, 'arsenal': 1, 'referee': 1, 'goals': 1, 'americanised': 1, 'eassily': 1, 'dissent': 1, 'blaim': 1, 'invite': 1, 'exterminate': 1, 'disarm': 1, 'lexington': 1, 'concord': 1, 'combatant': 1, 'vehicles': 1, 'collaborators': 1, 'infinity': 1, 'mistreated': 1, 'pompous': 1, 'selves': 1, 'user': 1, 'resemble': 1, 'function': 1, 'greatly': 1, 'midnight': 1, 'candle': 1, 'militants': 1, 'mentioned': 1, 'davos': 1, 'demonstrated': 1, 'phonies': 1, 'ubisoft': 1, 'july': 1, 'plot': 1, 'nicer': 1, 'centered': 1, 'existential': 1, 'telugu': 1, 'justices': 1, 'breyer': 1, 'ginsburg': 1, 'kagan': 1, 'sotomayor': 1, 'pic': 1, 'admixture': 1, 'disgusted': 1, 'citations': 1, 'estimates': 1, '9x': 1, 'anywhere': 1, 'explained': 1, 'kucking': 1, 'saxon': 1, 'slang': 1, 'gingers': 1, 'downhill': 1, 'fest': 1, 'humiliated': 1, 'colonized': 1, 'perspective': 1, 'salvador': 1, 'haiti': 1, 'shitholes': 1, 'nicholas': 1, 'quirky': 1, 'kael': 1, 'dork': 1, 'devise': 1, 'harassments': 1, 'investment': 1, 'hedge': 1, 'funds': 1, 'sachar': 1, 'committee': 1, 'recommendations': 1, 'cheerleader': 1, 'zoophilia': 1, 'minors': 1, 'reassignment': 1, 'excusing': 1, 'mountains': 1, 'immuture': 1, 'flashmobs': 1, 'introverted': 1, 'therefor': 1, 'mohajirs': 1, 'stood': 1, 'gullability': 1, 'deception': 1, 'impressive': 1, 'dispel': 1, 'worries': 1, 'structural': 1, 'newspapers': 1, 'taliban': 1, 'thrive': 1, 'platinum': 1, 'injured': 1, 'propagate': 1, 'adaptation': 1, 'unfit': 1, 'sightings': 1, 'mt': 1, 'kailash': 1, 'shiva': 1, '98': 1, 'stonehenge': 1, 'sorcereres': 1, 'englanders': 1, 'connecticut': 1, 'rgos': 1, 'admitting': 1, 'jeisus': 1, 'envision': 1, 'centuries': 1, 'lions': 1, 'purr': 1, 'ico': 1, 'comprised': 1, 'approximately': 1, '100m': 1, '323m': 1, '223m': 1, 'unanimously': 1, 'consistently': 1, 'sinful': 1, 'implode': 1, 'ussr': 1, 'incl': 1, 'politic': 1, 'executions': 1, 'overwhelming': 1, 'bag': 1, 'dravidian': 1, 'swapping': 1, 'fishbowl': 1, 'blast': 1, 'dome': 1, 'atomic': 1, 'warheads': 1, 'needy': 1, 'shards': 1, 'secularization': 1, 'tirupati': 1, 'balaji': 1, 'rishabdev': 1, 'mahavira': 1, 'framed': 1, 'hotel': 1, 'bipolar': 1, 'unmedicated': 1, 'weirdest': 1, 'housing': 1, 'impose': 1, 'computers': 1, 'degeneracy': 1, 'witchery': 1, 'aligned': 1, 'club': 1, 'pyschological': 1, 'undiscovered': 1, 'hundred': 1, 'renounced': 1, 'millionaire': 1, 'dunkin': 1, 'donuts': 1, 'formed': 1, 'requested': 1, 'industrial': 1, 'disruption': 1, 'william': 1, 'marries': 1, 'buildings': 1, 'holes': 1, 'vacation': 1, 'tights': 1, 'sweeter': 1, 'rashtra': 1, 'ends': 1, 'dylan': 1, 'brien': 1, 'arden': 1, 'cho': 1, 'britt': 1, 'roberston': 1, 'zac': 1, 'efron': 1, 'gushes': 1, 'alexandra': 1, 'daddario': 1, 'sarah': 1, 'huckabee': 1, 'unpalatable': 1, 'correction': 1, 'therapies': 1, 'strategies': 1, 'vocal': 1, 'pandit': 1, 'compelled': 1, 'jake': 1, 'logan': 1, 'kardashian': 1, 'memo': 1, 'overboard': 1, 'condolences': 1, 'xxxtentacion': 1, 'reportedly': 1, 'colorism': 1, 'theresa': 1, 'folded': 1, 'pf': 1, 'drumpfdid': 1, 'mandatory': 1, 'deletion': 1, 'sirius': 1, 'managers': 1, 'predominance': 1, 'sitting': 1, 'nerve': 1, 'plundered': 1, 'agent': 1, 'flee': 1, 'spanglish': 1, 'choke': 1, 'pastors': 1, 'phones': 1, 'motilal': 1, 'institute': 1, 'allahabad': 1, 'sanity': 1, 'roles': 1, 'sake': 1, 'trolled': 1, 'pressurising': 1, 'pizzagate': 1, 'cruelty': 1, 'engraved': 1, 'voilence': 1, 'assembly': 1, 'hall': 1, 'september': 1, 'autonomous': 1, 'elder': 1, 'offered': 1, 'responded': 1, 'rico': 1, 'ias': 1, 'bas': 1, 'brahman': 1, 'administrative': 1, 'obsession': 1, 'jannat': 1, 'hoors': 1, 'foul': 1, 'bulldogs': 1, 'implement': 1, 'deliquents': 1, 'heterosexuals': 1, 'appearances': 1, 'investigate': 1, 's400': 1, 'vip': 1, 'baiting': 1, 'moldy': 1, 'bread': 1, 'specify': 1, 'paranoia': 1, 'circumcision': 1, 'denigrate': 1, 'condescending': 1, 'resourceless': 1, 'eliminating': 1, 'zapped': 1, 'khazari': 1, 'gypsies': 1, 'describes': 1, 'dooper': 1, 'isreal': 1, 'colonizer': 1, 'slaughters': 1, 'moody': 1, 'barbaric': 1, 'inhumane': 1, 'masterbate': 1, 'nuns': 1, 'reciprocate': 1, 'dulhe': 1, 'raja': 1, 'caucasus': 1, 'particularly': 1, 'horn': 1, 'entering': 1, 'charged': 1, 'contributing': 1, 'delinquency': 1, 'festivals': 1, 'armalite': 1, 'comparable': 1, 'grenades': 1, 'hal': 1, 'banglore': 1, 'aeroplane': 1, 'agency': 1, 'achieved': 1, 'acclaim': 1, 'however': 1, 'drinker': 1, 'buzz': 1, 'chores': 1, 'depressing': 1, 'nonconforming': 1, 'defecating': 1, 'lacking': 1, 'defying': 1, 'physics': 1, 'kinetics': 1, 'torque': 1, 'inertia': 1, 'electrogravitational': 1, 'compression': 1, 'dynamics': 1, 'formation': 1, 'btw': 1, 'naturalized': 1, 'euŕope': 1, 'printer': 1, 'toll': 1, 'leaning': 1, 'bumper': 1, 'railroad': 1, 'carter': 1, 'embarrass': 1, 'cuttakias': 1, 'sambalpuri': 1, 'comfort': 1, 'bridges': 1, 'screwed': 1, '1917': 1, 'begs': 1, 'shriners': 1, 'commercials': 1, 'essay': 1, 'honk': 1, 'incessantly': 1, 'indiscriminately': 1, 'hawaiians': 1, 'alarm': 1, 'returned': 1, 'appreciate': 1, 'architect': 1, 'johwani': 1, 'zimbabwe': 1, '1931': 1, 'headed': 1, 'grades': 1, 'corp': 1, 'snipers': 1, 'pawns': 1, 'chessboard': 1, 'warned': 1, 'violation': 1, 'wtf': 1, 'emotions': 1, 'eclipse': 1, 'stevie': 1, 'ray': 1, 'severed': 1, 'sunset': 1, 'constructive': 1, 'cach': 1, 'platform': 1, 'exaggerates': 1, 'deceives': 1, 'harder': 1, 'mary': 1, 'thirteen': 1, 'wasnt': 1, 'peadopbile': 1, 'indication': 1, 'manufacturers': 1, 'conjoined': 1, 'shares': 1, 'consent': 1, 'genitalia': 1, 'eaten': 1, 'visible': 1, 'kippah': 1, 'paytm': 1, 'messiah': 1, 'dumber': 1, 'populace': 1, 'accountable': 1, 'nthe': 1, 'barbary': 1, 'coast': 1, 'base': 1, 'fault': 1, 'deflections': 1, 'grown': 1, 'worked': 1, 'mythical': 1, 'enrich': 1, 'toronto': 1, 'maple': 1, 'leafs': 1, 'cemetery': 1, 'arena': 1, 'waiter': 1, 'chili': 1, 'transparent': 1, 'calculating': 1, 'judging': 1, 'oversensitive': 1, 'pricks': 1, 'messy': 1, 'averted': 1, 'began': 1, 'parallel': 1, 'implementing': 1, 'predecessors': 1, 'puppet': 1, 'dancing': 1, 'tune': 1, 'faceless': 1, 'cabal': 1, 'diss': 1, 'binding': 1, 'chooses': 1, 'discriminating': 1, 'disabled': 1, 'hugging': 1, 'filling': 1, 'sub': 1, 'saharan': 1, 'anthropology': 1, 'article': 1, 'au': 1, 'nationality': 1, 'alfie': 1, 'evans': 1, 'ghosts': 1, 'sect': 1, 'shutting': 1, 'groped': 1, 'privates': 1, 'revoked': 1, 'lok': 1, 'sabha': 1, 'experimental': 1, 'specified': 1, 'murtad': 1, 'apostate': 1, 'desecrated': 1, 'cheney': 1, 'paulson': 1, '911': 1, 'deluded': 1, 'assests': 1, 'emma': 1, 'gonzales': 1, 'occurred': 1, 'sydney': 1, 'researching': 1, 'relevant': 1, 'confidence': 1, 'attributes': 1, 'possess': 1, 'publicized': 1, 'provoked': 1, 'manchurian': 1, 'communication': 1, 'twenties': 1, 'shoppers': 1, 'styles': 1, 'taxed': 1, 'tech': 1, '1950': 1, 'hy': 1, 'dumbwhy': 1, 'neglected': 1, 'finicky': 1, 'accents': 1, 'incestuous': 1, 'handicaps': 1, 'columbus': 1, 'masturbating': 1, 'gsachs': 1, 'crony': 1, 'sec': 1, 'naruto': 1, 'sakura': 1, 'fan': 1, 'experienced': 1, 'competence': 1, 'protestants': 1, 'sooo': 1, 'confessing': 1, 'kimmy': 1, 'jing': 1, 'sniper': 1, 'unbeatable': 1, 'decides': 1, 'geography': 1, 'studies': 1, '63': 1, 'reviewed': 1, 'plotting': 1, 'fundamentalists': 1, 'representative': 1, 'unbearable': 1, 'amok': 1, 'hats': 1, 'unproven': 1, 'selective': 1, 'antithetical': 1, 'catholicism': 1, 'inuit': 1, 'animism': 1, 'bhutan': 1, 'siding': 1, 'calculus': 1, 'equations': 1, 'leonardo': 1, 'dicaprio': 1, 'crawls': 1, '58': 1, 'injure': 1, 'pakistaniswhy': 1, 'penalize': 1, 'subscribe': 1, 'centrism': 1, 'bro': 1, 'beaver': 1, 'exists': 1, 'distrust': 1, 'unfortunately': 1, 'resulting': 1, 'gratification': 1, 'nationalist': 1, 'airbrushes': 1, 'flaws': 1, 'fools': 1, 'kkk': 1, 'harassers': 1, 'primaries': 1, 'placed': 1, 'admittance': 1, 'tampering': 1, 'manspreading': 1, 'repel': 1, 'manspread': 1, 'decapitated': 1, 'skeptical': 1, 'skeptic': 1, 'agnostic': 1, 'proofed': 1, 'hence': 1, 'falsify': 1, 'contradicts': 1, 'hypothesis': 1, 'gurgoan': 1, 'kaffirs': 1, 'cramped': 1, 'houses': 1, 'innards': 1, 'debris': 1, 'simultaneously': 1, 'unemployement': 1, 'underemployment': 1, 'despising': 1, 'institutions': 1, 'icons': 1, 'robot': 1, 'manufactured': 1, 'spicer': 1, 'detested': 1, 'irony': 1, 'tucker': 1, 'carlson': 1, 'clone': 1, 'troopers': 1, 'boba': 1, 'fett': 1, 'gaining': 1, 'scholarships': 1, 'haj': 1, 'molesters': 1, 'jailed': 1, 'misogynist': 1, 'swallowed': 1, 'redhanded': 1, 'disfellowshipped': 1, 'truthfully': 1, 'faults': 1, 'conditioning': 1, 'teslas': 1, 'bananas': 1, 'pears': 1, 'akbar': 1, 'revered': 1, 'flourished': 1, 'restoration': 1, 'kashi': 1, 'vishwanath': 1, 'traditionally': 1, 'warlike': 1, 'spartans': 1, 'vikings': 1, 'phenotype': 1, 'brush': 1, 'subscribers': 1, 'flaming': 1, 'affiliation': 1, 'concert': 1, 'infallible': 1, 'comrades': 1, 'anime': 1, 'subramanian': 1, 'milan': 1, 'srm': 1, 'bangla': 1, 'excluding': 1, 'ncr': 1, 'belt': 1, 'memorizing': 1, 'creativity': 1, 'churchil': 1, 'scattered': 1, 'gore': 1, 'competiton': 1, 'unethically': 1, 'mizrahi': 1, 'halfie': 1, 'istanbul': 1, 'athens': 1, 'istanbulwhy': 1, 'shrikes': 1, 'impale': 1, 'grammatical': 1, 'skills': 1, 'earthly': 1, 'serbia': 1, 'unintelligible': 1, 'arched': 1, 'smelly': 1, 'fetishes': 1, 'legitimity': 1, 'shaving': 1, 'username': 1, 'mute': 1, 'donor': 1, 'procedures': 1, 'donated': 1, 'tapdancing': 1, 'gentlemen': 1, 'kohli': 1, 'pulling': 1, 'instructed': 1, 'reveal': 1, 'punishable': 1, 'affected': 1, 'forgiveness': 1, 'mmost': 1, 'jealousy': 1, 'pumps': 1, 'wrongly': 1, 'describe': 1, 'autos': 1, 'realistically': 1, 'myanmar': 1, 'shelters': 1, 'remarks': 1, 'marjory': 1, 'stoneman': 1, 'douglas': 1, 'parkland': 1, 'reflective': 1, 'parade': 1, 'suggested': 1, 'scum': 1, 'ravindra': 1, 'gaikwad': 1, 'prior': 1, 'preservations': 1, 'notorious': 1, 'compromising': 1, 'pinky': 1, 'finger': 1, 'exporter': 1, 'honour': 1, 'museum': 1, 'jen': 1, 'zhou': 1, 'session': 1, 'creepy': 1, 'legends': 1, 'player': 1, 'bot': 1, 'successor': 1, 'overwhelmingly': 1, 'mulder': 1, 'scully': 1, 'pretended': 1, 'foreclosing': 1, 'phony': 1, 'creep': 1, 'absurd': 1, 'zone': 1, 'tall': 1, 'blocker': 1, 'contents': 1, 'jewconomy': 1, 'forbidden': 1, 'corpses': 1, 'darjeeling': 1, 'nepali': 1, 'mooning': 1, 'teenaged': 1, 'cleavage': 1, 'overcomplicate': 1, 'unique': 1, 'fringe': 1, 'kurdistan': 1, 'joint': 1, 'famines': 1, 'mormon': 1, 'apologetic': 1, 'meme': 1, 'fallible': 1, 'lds': 1, 'shortcomings': 1, 'sissies': 1, 'crossing': 1, 'centric': 1, 'disenfranchising': 1, 'disempowering': 1, 'condoning': 1, 'infidel': 1, 'obnoxiously': 1, 'videoed': 1, 'extent': 1, 'lesbianism': 1, 'decrease': 1, 'hanged': 1, 'mush': 1, 'massacres': 1, 'partly': 1, 'visually': 1, 'oriented': 1, 'winters': 1, 'anxiously': 1, 'arrival': 1, 'ally': 1, 'unpopular': 1, 'dictators': 1, 'revolt': 1, 'price': 1, 'overeating': 1, 'anally': 1, 'undercover': 1, 'insanely': 1, 'deficit': 1, 'airliner': 1, '2001': 1, 'epic': 1, 'talents': 1, 'dissappeared': 1, 'ravan': 1, 'raj': 1, 'trumpism': 1, 'door': 1, 'assyrians': 1, 'sloppiness': 1, 'lawlessness': 1, 'phenomenum': 1, 'backlash': 1, 'flirty': 1, 'berets': 1, 'strangle': 1, 'prevail': 1, 'custom': 1, 'followed': 1, 'addict': 1, 'spirit': 1, 'raghead': 1, 'goatfuckers': 1, 'shits': 1, 'greedier': 1, 'ton': 1, 'copulate': 1, 'politicized': 1, 'income': 1, 'gujrat': 1, 'mariner': 1, 'proposition': 1, 'dependent': 1, 'lay': 1, 'siks': 1, 'vp': 1, 'biden': 1, 'senile': 1, 'total': 1, 'enormous': 1, 'bumiputeras': 1, 'plz': 1, 'strep': 1, 'pronounced': 1, 'patanjali': 1, '1773': 1, 'fulfilled': 1, '92': 1, 'song': 1, 'speaker': 1, 'campus': 1, 'drunk': 1, 'scenery': 1, 'clips': 1, 'final': 1, 'suspects': 1, 'charter': 1, 'fifa': 1, 'referees': 1, 'instructions': 1, 'uniforms': 1, 'imply': 1, 'chase': 1, 'terribly': 1, 'practical': 1, 'evm': 1, 'ec': 1, 'planned': 1, 'fb': 1, 'censorship': 1, 'lingayats': 1, 'vishnuists': 1, 'dodged': 1, 'draft': 1, 'disqualifying': 1, 'barber': 1, 'wrote': 1, 'pencil': 1, 'disgrace': 1, 'peculiar': 1, 'noisy': 1, 'clamor': 1, 'regurgitating': 1, 'sustenance': 1, 'worshippers': 1, 'sight': 1, 'almighty': 1, 'moore': 1, 'solely': 1, 'cycle': 1, 'employers': 1, 'cons': 1, 'lockup': 1, 'phoning': 1, 'peopel': 1, 'otheres': 1, 'minimum': 1, 'package': 1, 'yours': 1, 'concoct': 1, 'potion': 1, 'humanists': 1, 'visas': 1, 'cockroach': 1, 'separatism': 1, 'highjack': 1, 'sardar': 1, 'fought': 1, 'joined': 1, 'council': 1, 'pov': 1, 'hunted': 1, 'mammoth': 1, 'morgan': 1, 'freeman': 1, 'maajid': 1, 'usman': 1, 'nawaz': 1, 'bullsh': 1, 'areas': 1, 'neckbeards': 1, 'rednecks': 1, 'dreamily': 1, 'sensual': 1, 'massage': 1, 'arundhati': 1, 'mirror': 1, '173': 1, 'mugabe': 1, 'jung': 1, 'tantrums': 1, 'desks': 1, 'aide': 1, 'facetime': 1, 'batman': 1, 'kryptonite': 1, 'superman': 1, 'infantilize': 1, 'extroverts': 1, 'occupations': 1, 'strive': 1, 'egos': 1, 'unused': 1, 'tactics': 1, 'gw': 1, 'ny': 1, 'tanker': 1, 'fuel': 1, 'hairstylist': 1, 'cells': 1, 'mongoloid': 1, 'siberia': 1, 'generated': 1, 'ai': 1, 'nri': 1, 'mosquitoes': 1, 'imprisoned': 1, 'fluoride': 1, 'rat': 1, 'poison': 1, 'docile': 1, 'displaced': 1, 'immunity': 1, 'preffer': 1, 'brands': 1, 'duke': 1, 'windsor': 1, 'mistresses': 1, 'unelectable': 1, 'sheriff': 1, 'beaumont': 1, 'trousers': 1, 'stains': 1, 'auctioning': 1, 'nepalese': 1, 'indictments': 1, 'scandal': 1, 'amazon': 1, 'alexa': 1, 'customers': 1, 'necessarily': 1, 'redditors': 1, 'indicate': 1, 'communalism': 1, 'neil': 1, 'armstrong': 1, 'swear': 1, 'hits': 1, 'tf': 1, 'forsaken': 1, 'tyrion': 1, 'dragons': 1, 'cliff': 1, 'mentality': 1, 'excellent': 1, 'sirwhy': 1, 'observing': 1, 'girlish': 1, 'kangz': 1, 'refugee': 1, 'ravage': 1, 'adulterer': 1, 'heartless': 1, 'refuses': 1, 'affordable': 1, 'cope': 1, 'businessmen': 1, 'curses': 1, 'louis': 1, 'farrakhan': 1, 'heavily': 1, 'tilted': 1, 'bots': 1, 'esteemed': 1, 'rely': 1, 'blog': 1, 'fukushima': 1, 'curtain': 1, 'modestly': 1, 'caffeine': 1, 'crack': 1, 'stormtroopers': 1, 'unsullied': 1, 'asoiaf': 1, 'nazism': 1, 'rally': 1, 'oreo': 1, 'stuffed': 1, 'variety': 1, 'watched': 1, 'troops': 1, 'jumped': 1, 'grenade': 1, 'kapernick': 1, 'compatriots': 1, 'banked': 1, 'moneydo': 1, 'honoured': 1, 'despised': 1, 'comforting': 1, 'bothering': 1, 'originate': 1, 'fascinated': 1, 'mob': 1, 'organixed': 1, 'planting': 1, 'flowers': 1, 'fishing': 1, 'lake': 1, '2025': 1, 'apps': 1, 'iphones': 1, 'itunes': 1, 'mastercard': 1, 'cards': 1, 'educate': 1, 'aspiring': 1, 'increased': 1, 'neoconservative': 1, 'inventing': 1, 'fictional': 1, 'unison': 1, 'expanses': 1, 'pornstar': 1, 'ronald': 1, 'texting': 1, 'malayalam': 1, 'lighter': 1, 'colour': 1, 'bribed': 1, 'hunter': 1, 'ociopath': 1, 'nuking': 1, 'bickering': 1, 'toy': 1, 'investigating': 1, 'update': 1, 'developers': 1, 'bee': 1, 'barbarians': 1, 'sterilize': 1, 'apj': 1, 'abdul': 1, 'kalam': 1, 'kimi': 1, 'raikkonen': 1, 'flourish': 1, 'composition': 1, 'hybrid': 1, 'ken': 1, 'lawyer': 1, 'requires': 1, 'laymen': 1, 'repulsive': 1, 'orchestrate': 1, 'turkic': 1, 'mediterranean': 1, 'ethical': 1, 'filed': 1, 'bankruptcy': 1, 'key': 1, 'divert': 1, 'entrepreneurship': 1, 'ventures': 1, 'memes': 1, 'shobha': 1, 'karandlaje': 1, 'honnavar': 1, 'promotion': 1, 'mixing': 1, 'carry': 1, 'routine': 1, 'whine': 1, 'attuned': 1, 'behar': 1, 'steady': 1, 'output': 1, 'whines': 1, 'challenged': 1, 'squandering': 1, 'sabotaging': 1, 'attain': 1, 'substandard': 1, 'republicants': 1, 'fiscally': 1, 'darth': 1, 'malgus': 1, 'broom': 1, 'protesters': 1, 'forefathers': 1, 'conspicuous': 1, 'absense': 1, 'jansangh': 1, 'wave': 1, 'bodily': 1, 'grumpy': 1, 'pill': 1, 'regain': 1, 'struggle': 1, 'faster': 1, 'knocked': 1, 'pocketbook': 1, 'asleep': 1, 'worrisome': 1, 'confiscate': 1, 'quest': 1, 'cocksuckers': 1, 'humorous': 1, 'wannabe': 1, 'barkha': 1, 'dutt': 1, 'pbuh': 1, 'showcasing': 1, 'fluency': 1, 'pimp': 1, 'devoted': 1, 'liberated': 1, 'uma': 1, 'pitcher': 1, 'catcher': 1, 'nuggies': 1, 'rectum': 1, 'annual': 1, 'cashflow': 1, 'tens': 1, 'dawkins': 1, 'gestapo': 1, 'deported': 1, 'gagged': 1, 'handkerchief': 1, 'behaving': 1, 'glasses': 1, 'bottle': 1, 'girla': 1, 'unknown': 1, 'urbanites': 1, 'spray': 1, 'jeans': 1, 'rebuke': 1, 'smokes': 1, 'regressed': 1, 'atheistic': 1, '1830': 1, 'duo': 1, 'combined': 1, 'vices': 1, 'earlier': 1, 'goa': 1, 'manipur': 1, 'meghalaya': 1, 'objective': 1, 'measures': 1, 'expectancy': 1, 'cigarettes': 1, 'gesture': 1, 'alphabet': 1, 'confronting': 1, 'geoffrey': 1, 'themself': 1, 'judgmental': 1, 'axe': 1, 'sabhi': 1, 'gyaan': 1, 'baatne': 1, 'kyu': 1, 'lage': 1, 'flirted': 1, 'undesirable': 1, 'levels': 1, 'unfair': 1, 'expensively': 1, 'brazilian': 1, 'ukranian': 1, 'prettier': 1, 'customer': 1, 'countdown': 1, 'cowardess': 1, 'contemplate': 1, 'portrayed': 1, 'impotent': 1, 'britons': 1, 'meek': 1, 'subservient': 1, 'skeptics': 1, 'critiques': 1, 'astrology': 1, 'meaningfully': 1, 'continuing': 1, 'castes': 1, 'puddingpop': 1, 'jared': 1, 'subway': 1, 'recieved': 1, 'footlong': 1, 'glenn': 1, 'beck': 1, 'limbaugh': 1, 'guangdong': 1, 'fujian': 1, 'blush': 1, 'slobbery': 1, 'lesson': 1, 'advisory': 1, 'askreddit': 1, 'witty': 1, 'gallons': 1, 'golds': 1, 'adore': 1, 'hafeez': 1, 'sayeed': 1, 'pof': 1, 'temperamental': 1, 'seconds': 1, 'hindutva': 1, 'assign': 1, 'despicable': 1, 'soviets': 1, 'grabs': 1, 'crimea': 1, '1956': 1, 'puzzling': 1, 'elbow': 1, 'grease': 1, 'blamed': 1, 'shakespeare': 1, 'observed': 1, 'humongous': 1, 'crematorium': 1, 'degrade': 1, 'slums': 1, 'handicapped': 1, 'firearm': 1, 'prolific': 1, 'consummate': 1, 'brian': 1, 'ross': 1, 'abc': 1, 'publish': 1, 'provably': 1, 'sourced': 1, 'dubious': 1, 'oxandrolonesteroid': 1, 'naughty': 1, 'oval': 1, 'corners': 1, 'regarded': 1, 'desired': 1, 'slutty': 1, 'populistic': 1, 'strongmen': 1, 'voluntarily': 1, 'crook': 1, 'contrast': 1, 'hansel': 1, 'grettel': 1, 'victorianism': 1, 'dogmatic': 1, 'illegitimate': 1, 'monica': 1, 'herring': 1, 'distract': 1, 'doughter': 1, 'loving': 1, 'garden': 1, 'abilities': 1, 'witchcraft': 1, 'mannered': 1, 'disciplined': 1, 'kidnaps': 1, 'steven': 1, 'crowder': 1, 'reliable': 1, 'enjoys': 1, 'urge': 1, 'unattainable': 1, 'affection': 1, 'stepdad': 1, 'shopping': 1, 'pastorstepdadissuesdo': 1, 'easterns': 1, 'luggage': 1, 'heading': 1, 'bastardizing': 1, 'incited': 1, 'pence': 1, 'hedonistic': 1, 'aztec': 1, 'goatees': 1, 'mustaches': 1, 'natives': 1, '250': 1, 'hour': 1, 'iaea': 1, 'dimension': 1, 'habitually': 1, 'felonious': 1, 'disable': 1, 'maximum': 1, 'lips': 1, 'refuting': 1, 'mix': 1, 'gym': 1, 'disturbs': 1, 'larry': 1, 'silverstein': 1, 'extended': 1, 'deeds': 1, 'stores': 1, 'ship': 1, 'bottomless': 1, 'hardest': 1, 'spies': 1, '700': 1, 'exile': 1, 'farce': 1, 'continued': 1, 'barracuda': 1, 'slit': 1, 'whorish': 1, 'fatherland': 1, 'archaeological': 1, 'origins': 1, 'slaps': 1, 'theism': 1, 'universally': 1, 'mevani': 1, 'advocate': 1, 'vandalism': 1, 'bandh': 1, 'fetus': 1, 'atal': 1, 'bihari': 1, 'vajpayee': 1, 'welsh': 1, 'nightclub': 1, 'fraud': 1, 'actor': 1, 'diagnosed': 1, 'psychosis': 1, 'usable': 1, 'naik': 1, 'collect': 1, 'authentic': 1, 'hypercet': 1, 'cholesterol': 1, 'formula': 1, 'incidence': 1, 'inbreeding': 1, 'versus': 1, 'fascisme': 1, 'infect': 1, 'priority': 1, 'coherence': 1, 'disagreements': 1, 'blacker': 1, 'par': 1, 'undergrad': 1, 'bpd': 1, 'revengeful': 1, 'initiated': 1, 'manage': 1, 'exposes': 1, 'vulnerable': 1, 'compels': 1, 'insulin': 1, 'circumcised': 1, 'forcibly': 1, 'tables': 1, 'costumes': 1, 'functions': 1, 'rania': 1, 'jordan': 1, 'jackets': 1, 'boots': 1, 'showcase': 1, 'snatched': 1, 'safiya': 1, 'duration': 1, 'favorable': 1, 'crop': 1, 'tops': 1, 'prick': 1, 'hooker': 1, 'ladyboy': 1, 'lobotomy': 1, 'disease': 1, 'brazilians': 1, 'venezuelans': 1, 'exercise': 1, 'topless': 1, 'participation': 1, 'freethenipple': 1, 'superiority': 1, 'birdie': 1, 'environment': 1, 'apology': 1, 'contributor': 1, 'kafirs': 1, 'performed': 1, 'rasana': 1, 'kathua': 1, 'lucid': 1, 'reasoned': 1, 'rationalized': 1, 'sometime': 1, 'lowercase': 1, 'empathize': 1, 'epistemological': 1, 'copy': 1, 'paste': 1, 'quota': 1, 'beating': 1, 'coolest': 1, 'published': 1, '1890': 1, 'treaty': 1, 'confirmation': 1, 'letters': 1, 'notices': 1, 'road': 1, 'aggressor': 1, '179': 1, 'mexicaned': 1, 'shootouts': 1, 'intentional': 1, 'coincidental': 1, 'tap': 1, 'merry': 1, 'arrived': 1, 'dissing': 1, 'rebuild': 1, 'instill': 1, 'clinical': 1, 'kenobi': 1, 'penance': 1, 'pervert': 1, 'thin': 1, 'cookie': 1, 'contact': 1, 'inventory': 1, 'karma': 1, 'attacker': 1, 'treasonous': 1, 'returns': 1, 'abet': 1, 'glad': 1, 'balanced': 1, 'hamstrung': 1, 'fiscal': 1, 'kidnaped': 1, 'skins': 1, 'clichés': 1, 'dispostion': 1, 'sits': 1, 'surrogacy': 1, 'clinic': 1, 'kolkata': 1, 'unwilling': 1, 'terminally': 1, 'iss': 1, 'studios': 1, 'inconvenience': 1, 'towers': 1, 'accusers': 1, 'defenders': 1, 'qoura': 1, 'friendship': 1, 'ghetto': 1, 'yourselfdo': 1, 'apologists': 1, 'celebration': 1, 'deliberately': 1, 'gorilla': 1, 'slavmacedonians': 1, 'kissedn': 1, 'hilory': 1, 'cilton': 1, 'recognizing': 1, 'recognition': 1, 'stuck': 1, 'differences': 1, 'sahaja': 1, 'yoga': 1, 'meditation': 1, 'biomass': 1, 'tithe': 1, 'learnt': 1, 'tithes': 1, 'almswhat': 1, 'outrage': 1, 'unwillingness': 1, 'bloody': 1, 'departments': 1, 'sbi': 1, 'soo': 1, 'contract': 1, 'ss': 1, 'cafcass': 1, 'forster': 1, 'murica': 1, 'graduation': 1, 'awarded': 1, 'bachelor': 1, 'spinster': 1, 'collapses': 1, 'chromosomes': 1, 'disappear': 1, 'primary': 1, 'ticket': 1, 'racially': 1, 'demographically': 1, 'youngsters': 1, 'showoff': 1, 'fist': 1, 'iits': 1, 'scs': 1, 'sts': 1, 'remnik': 1, 'nihilists': 1, 'restricted': 1, 'slight': 1, 'protruding': 1, 'overbite': 1, 'xx': 1, 'xy': 1, 'invisible': 1, 'loyalty': 1, 'hyphenated': 1, 'prepare': 1, 'superficial': 1, 'amend': 1, 'restrictive': 1, 'somewhat': 1, 'sarcastic': 1, 'hat': 1, 'fires': 1, 'wrath': 1, 'crowd': 1, 'disarming': 1, 'disarmed': 1, 'licked': 1, 'experiences': 1, 'bloatware': 1, 'junk': 1, 'independents': 1, 'hardcore': 1, '75': 1, 'product': 1, 'plastic': 1, 'blowjob': 1, 'developing': 1, 'outweighed': 1, 'kg': 1, 'prolapse': 1, 'pretenses': 1, 'anand': 1, 'ferguson': 1, 'looney': 1, 'clooney': 1, 'abraham': 1, 'lincoln': 1, 'material': 1, 'placements': 1, 'iims': 1, 'discovering': 1, 'pickup': 1, 'controlling': 1, 'achievements': 1, 'gce': 1, 'adapted': 1, 'strict': 1, 'discipline': 1, 'liaison': 1, 'pip': 1, 'circle': 1, 'ballast': 1, 'burdens': 1, 'invalid': 1, 'endless': 1, 'smriti': 1, 'irani': 1, 'gained': 1, 'adjustments': 1, 'warburg': 1, 'oppenheimer': 1, 'oppenheim': 1, 'sassoon': 1, 'guggenheim': 1, 'shiff': 1, 'motorcycle': 1, 'homosocial': 1, 'camaraderie': 1, 'error': 1, 'discounts': 1, 'yad': 1, 'vashem': 1, 'selfies': 1, 'memorial': 1, 'playground': 1, 'lonely': 1, 'os': 1, 'kannada': 1, 'tolerated': 1, 'exploited': 1, 'trillion': 1, 'nationals': 1, 'shouting': 1, 'happily': 1, 'namo': 1, 'ji': 1, '30s': 1, 'nits': 1, 'serumpun': 1, 'eternally': 1, 'manhattan': 1, 'cheques': 1, 'brandeis': 1, 'jinnah': 1, 'jihadi': 1, 'lifesaving': 1, 'veteran': 1, 'scheduled': 1, 'amputation': 1, 'sepsis': 1, 'privatized': 1, 'trustworthy': 1, 'scamsters': 1, 'nirav': 1, 'unemployed': 1, 'milking': 1, 'rural': 1, 'zoo': 1, 'tweeting': 1, 'orangutan': 1, 'hypocritically': 1, 'reinforce': 1, 'assimilated': 1, 'contracts': 1, 'lease': 1, 'convenient': 1, 'celebrate': 1, 'festival': 1, 'bhabhi': 1, 'mask': 1, 'twice': 1, 'ofthe': 1, 'azeri': 1, 'kurd': 1, 'balochs': 1, 'loors': 1, 'persian': 1, 'tajikistan': 1, 'cheetos': 1, 'armchair': 1, 'quarterback': 1, 'peacefully': 1, 'transphobic': 1, 'transgenderism': 1, 'mouthed': 1, 'alls': 1, 'rewarded': 1, 'geniuses': 1, 'deceptive': 1, 'treacherous': 1, 'advise': 1, 'takeaway': 1, 'ig': 1, 'overtime': 1, 'destabilize': 1, 'experimentation': 1, 'gospel': 1, 'publicity': 1, 'careless': 1, 'lifestyles': 1, 'industries': 1, 'behaviors': 1, 'dysfunction': 1, 'secondary': 1, 'psychiatric': 1, 'studying': 1, 'ostrich': 1, 'discounted': 1, 'worthless': 1, 'cocksucker': 1, 'profane': 1, 'rip': 1, 'jaws': 1, 'attitutudes': 1, 'bacon': 1, 'opressing': 1, 'opress': 1, 'galadriel': 1, 'fellowship': 1, 'ticketed': 1, 'publications': 1, 'mindless': 1, 'distractions': 1, 'mum': 1, 'veganism': 1, 'tripping': 1, 'malfunctions': 1, 'genes': 1, 'switched': 1, 'relate': 1, 'division': 1, 'centred': 1, 'dravidians': 1, 'independent': 1, 'startups': 1, 'sacrificing': 1, 'skill': 1, 'm6': 1, 'tolerance': 1, 'blessed': 1, 'christopher': 1, 'hitchens': 1, 'ethiopians': 1, 'biafrans': 1, 'sponsor': 1, 'participate': 1, 'hooking': 1, 'finical': 1, 'explaining': 1, 'upvotes': 1, 'kirk': 1, 'sociopaths': 1, 'mortal': 1, 'beg': 1, 'croats': 1, 'balkan': 1, 'shared': 1, 'illyrians': 1, 'hung': 1, 'parliament': 1, 'hyde': 1, 'pahul': 1, 'chhabra': 1, 'curator': 1, 'import': 1, 'tag': 1, '139': 1, 'fare': 1, 'passengers': 1, 'endure': 1, 'diarrhea': 1, 'stink': 1, 'sanitation': 1, 'conniving': 1, 'witches': 1, 'overpaid': 1, 'inarticulate': 1, 'tutorials': 1, 'programming': 1, 'quebec': 1, 'secede': 1, 'province': 1, 'behold': 1, 'globe': 1, 'pansies': 1, 'transtrenders': 1, 'symptom': 1, 'buddhist': 1, 'homicidal': 1, 'maniac': 1, 'motivational': 1, 'techniques': 1, 'employed': 1, 'devotion': 1, 'colonialism': 1, 'kurks': 1, 'bentz': 1, 'goalkeeper': 1, 'philadelphia': 1, 'emotion': 1, 'travelers': 1, 'colombia': 1, 'bars': 1, 'divided': 1, 'attach': 1, 'caregivers': 1, 'hurl': 1, 'laughs': 1, 'slept': 1, 'spiritually': 1, 'worldly': 1, 'glorious': 1, 'centre': 1, 'disadvantage': 1, 'teams': 1, 'choosing': 1, 'dh': 1, 'reputations': 1, 'perms': 1, 'disney': 1, 'predictability': 1, 'selfishness': 1, 'disregarding': 1, 'payed': 1, 'aspies': 1, 'flow': 1, 'earther': 1, 'unpredictable': 1, 'uninterested': 1, 'unanswerable': 1, 'utter': 1, 'doomed': 1, 'degenerate': 1, 'embarrassment': 1, 'legalized': 1, 'maintaining': 1, 'enforce': 1, 'mid': 1, '1800s': 1, 'indeed': 1, 'mathematicians': 1, 'globally': 1, 'irrefutable': 1, 'numerical': 1, 'counterexample': 1, 'bestiality': 1, 'anonymously': 1, 'stripe': 1, 'slow': 1, 'collecting': 1, 'initiatives': 1, 'whaling': 1, 'slaughter': 1, 'brigade': 1, 'separatists': 1, 'factory': 1, 'reponsible': 1, 'perceives': 1, 'activist': 1, 'demagogue': 1, 'vishnu': 1, 'worshipers': 1, 'astonishing': 1, 'clever': 1, 'smug': 1, 'odd': 1, 'ie': 1, 'scotland': 1, 'richer': 1, 'sneakers': 1, 'pedestal': 1, 'globalism': 1, 'fifty': 1, 'remedy': 1, 'elitism': 1, 'mourn': 1, 'puppy': 1, 'deepika': 1, 'padukone': 1, 'cockermouth': 1, 'glamorous': 1, 'expose': 1, 'eradicate': 1, 'credits': 1, 'compound': 1, 'bribery': 1, 'witchunting': 1, 'cluster': 1, 'senseless': 1, 'horrendously': 1, 'couch': 1, 'hobby': 1, 'redcoats': 1, 'disastrous': 1, 'legislation': 1, 'swears': 1, 'undrip': 1, 'jubilees': 1, 'haters': 1, 'caribbeans': 1, 'bastards': 1, 'governor': 1, 'educators': 1, 'fundamental': 1, 'planets': 1, 'adding': 1, 'stupider': 1, 'masterbation': 1, 'foolest': 1, 'phrased': 1, 'conclusive': 1, 'hugh': 1, 'mungus': 1, 'cormen': 1, 'royalties': 1, 'demo': 1, 'grabbers': 1, 'removals': 1, 'beyghairat': 1, 'undecent': 1, 'wheels': 1, 'credible': 1, 'suspicion': 1, 'shippings': 1, 'backbone': 1, 'pooper': 1, 'entrance': 1, 'aghori': 1, 'sluts': 1, 'overreaching': 1, 'investigations': 1, 'hygen': 1, 'forgiven': 1, 'hereafter': 1, 'loves': 1, 'afrikaans': 1, 'giggle': 1, 'significantly': 1, 'jihadists': 1, 'dispose': 1, 'stepping': 1, 'passes': 1, 'awaya': 1, 'whst': 1, 'burst': 1, 'yellow': 1, 'massacred': 1, 'sells': 1, 'allegedly': 1, 'technological': 1, 'innovations': 1, 'multiply': 1, 'mosque': 1, 'proclaim': 1, 'pronunciation': 1, 'regressives': 1, 'figures': 1, 'finishes': 1, 'pruning': 1, 'disparity': 1, 'frequency': 1, 'sexualised': 1, 'rippling': 1, 'muscles': 1, 'window': 1, 'fill': 1, 'prisons': 1, 'nonstop': 1, 'bliss': 1, 'spite': 1, 'heinous': 1, 'virat': 1, 'sacked': 1, 'sachin': 1, 'pursue': 1, 'novelist': 1, 'idealism': 1, 'swimming': 1, 'pen': 1, 'painting': 1, 'kailasa': 1, 'ellora': 1, 'disguisting': 1, 'jimmy': 1, 'reluctant': 1, 'produce': 1, 'gene': 1, 'unacceptable': 1, '26': 1, 'antarctica': 1, 'gyms': 1, 'consciously': 1, 'tickets': 1, 'revenues': 1, '1960': 1, 'awful': 1, 'killers': 1, 'demontisation': 1, 'seperate': 1, 'balochistan': 1, 'operating': 1, 'jungkook': 1, 'fixated': 1, 'sorting': 1, 'namby': 1, 'pamby': 1, 'caspar': 1, 'milquetoast': 1, 'freemasons': 1, 'concur': 1, 'freemasin': 1, '150': 1, 'angel': 1, 'lucifer': 1, 'torch': 1, 'bearer': 1, 'masons': 1, 'expense': 1, 'nuanced': 1, 'context': 1, 'gather': 1, 'arnab': 1, 'goswami': 1, 'v': 1, 'masquerading': 1, 'scape': 1, 'collectivistic': 1, 'individualism': 1, 'notably': 1, 'projected': 1, 'everthing': 1, 'uncreated': 1, 'outset': 1, 'contemplating': 1, 'travolta': 1, 'wig': 1, 'invent': 1, 'lb': 1, 'selection': 1, 'amassed': 1, 'harvest': 1, 'preserve': 1, 'artificially': 1, 'eugenics': 1, 'neville': 1, 'longbottom': 1, 'wimp': 1, 'commie': 1, 'douche': 1, 'nozzles': 1, 'arousing': 1, 'hopes': 1, 'macs': 1, 'accpet': 1, 'phil': 1, 'bronstein': 1, 'roseanne': 1, 'coastal': 1, 'interior': 1, 'regions': 1, 'insidious': 1, 'melancholy': 1, 'austin': 1, 'wigs': 1, 'megalomaniac': 1, 'challenges': 1, 'casual': 1, 'grounds': 1, 'classify': 1, 'empowered': 1, 'gentle': 1, 'destiny': 1, 'chose': 1, 'malayalis': 1, 'atm': 1, 'highest': 1, 'earner': 1, 'sausage': 1, 'pancake': 1, 'surfers': 1, 'womb': 1, 'bhuttani': 1, 'art': 1, 'burnt': 1, 'thereafter': 1, 'si': 1, '100th': 1, 'sizes': 1, 'psychiatrically': 1, 'demented': 1, 'publication': 1, 'magnet': 1, 'clueless': 1, 'pointing': 1, 'religeons': 1, 'religeous': 1, '444': 1, 'incapabilities': 1, 'imposing': 1, 'cherished': 1, 'poll': 1, 'disapprove': 1, 'mentions': 1, 'defined': 1, 'breach': 1, 'recourse': 1, 'satanic': 1, 'misinformed': 1, 'pregnancy': 1, 'painful': 1, 'miraculously': 1, 'glow': 1, 'retarded': 1, 'ministries': 1, 'sodomy': 1, 'commentary': 1, 'visiting': 1, 'remainer': 1, 'pessimists': 1, 'spouting': 1, 'doom': 1, 'gloom': 1, 'predictions': 1, 'indicating': 1, 'barred': 1, 'statue': 1, 'butthurt': 1, 'commemorative': 1, 'coins': 1, 'depict': 1, 'bags': 1, 'earthlings': 1, 'greed': 1, 'enthusiasts': 1, 'engage': 1, 'predatory': 1, 'lending': 1, 'extortion': 1, 'skinheads': 1, 'founding': 1, 'elements': 1, 'deviant': 1, 'upholding': 1, 'morals': 1, 'verginity': 1, 'suited': 1, 'operations': 1, 'oriental': 1, 'neet': 1, 'dropper': 1, 'criticize': 1, 'dropping': 1, 'goddamn': 1, 'applaud': 1, 'reveals': 1, 'receiving': 1, 'lesser': 1, 'preferable': 1, 'attracts': 1, 'kidnapped': 1, 'nixon': 1, 'dooooo': 1, 'fking': 1, 'retard': 1, 'hairy': 1, 'nus': 1, 'srila': 1, 'prabupada': 1, '2008': 1, 'bitches': 1, 'answered': 1, 'teresa': 1, 'monger': 1, 'failing': 1, '980': 1, 'friday': 1, '30th': 1, 'waffling': 1, 'patronise': 1, 'cracked': 1, 'copies': 1, 'ahaahahaha': 1, 'conservatards': 1, 'libtards': 1, 'oh': 1, 'ra': 1, 'ohim': 1, 'rupees': 1, 'ayodya': 1, 'drowned': 1, 'celebrations': 1, 'saving': 1, 'dying': 1, 'emiratis': 1, 'algerians': 1, 'brought': 1, 'incumbent': 1, 'deities': 1, 'chrome': 1, 'cooktop': 1, 'helps': 1, 'sovereign': 1, 'screamed': 1, 'protester': 1, 'unhinged': 1, 'opressed': 1, 'wrestling': 1, 'dads': 1, 'hes': 1, 'striaght': 1, 'gutfeld': 1, 'mortality': 1, 'vaccines': 1, 'introduced': 1, 'vaccinated': 1, 'sandy': 1, 'staged': 1, 'involving': 1, 'afghanistan': 1, 'demographics': 1, 'slapping': 1, 'burmese': 1, 'professor': 1, 'coffee': 1, 'starbucks': 1, 'witch': 1, 'sardars': 1, 'mohammad': 1, 'honorary': 1, 'bnbr': 1, 'exceeds': 1, 'describing': 1, 'procedure': 1, 'unconscious': 1, 'illusion': 1, 'sob': 1, 'negroids': 1, 'ya': 1, 'politeness': 1, 'welcome': 1, 'misunderstandings': 1, 'void': 1, 'essential': 1, 'monopolist': 1, 'bourgeoisie': 1, 'imperialist': 1, 'gatherings': 1, 'traction': 1, 'unthinking': 1, 'sheep': 1, 'gullibility': 1, 'psychologist': 1, 'diagnoses': 1, 'hanuman': 1, 'temples': 1, 'cult': 1, 'l': 1, 'ron': 1, 'hubbard': 1, 'instagram': 1, 'inheriting': 1, 'estate': 1, 'brat': 1, 'princes': 1, 'digustingly': 1, 'rutting': 1, 'cliques': 1, 'gaumutra': 1, 'tomorrow': 1, 'modimutra': 1, 'unprovoked': 1, 'tarnishing': 1, 'ptsd': 1, 'separating': 1, 'launched': 1, 'outer': 1, 'slingshot': 1, 'reentry': 1, 'earths': 1, 'atmosphere': 1, 'churches': 1, 'extradition': 1, 'airfare': 1, 'peice': 1, 'obligated': 1, 'mcdonald': 1, 'paedophilia': 1, 'chats': 1, 'casino': 1, 'actress': 1, 'believers': 1, 'breath': 1, 'separation': 1, 'govt': 1, 'boarder': 1, 'highlighted': 1, 'irrespective': 1, 'backlogged': 1, 'kits': 1, 'reasonable': 1, 'timeframe': 1, 'redefining': 1, 'kakistocracy': 1, 'tadpole': 1, 'overconfidence': 1, 'underconfidence': 1, 'barely': 1, 'oven': 1, 'patently': 1, 'precious': 1, 'patting': 1, 'backs': 1, 'instructors': 1, 'smallpox': 1, 'vaccine': 1, 'shakes': 1, 'dislikes': 1, 'marraige': 1, 'collapsed': 1, 'humor': 1, 'remittances': 1, 'donna': 1, 'thompson': 1, 'quit': 1, 'continually': 1, 'merged': 1, 'ridicule': 1, 'quid': 1, 'quo': 1, 'feats': 1, 'dexterity': 1, 'serbians': 1, 'bosnians': 1, 'tendencies': 1, 'masturbation': 1, 'wider': 1, 'joker': 1, 'melinda': 1, 'divorcing': 1, 'wrongfully': 1, 'miller': 1, 'bullied': 1, 'rile': 1, 'daniels': 1, 'ivanka': 1, 'karachi': 1, 'fancy': 1, 'cafes': 1, 'salons': 1, 'shy': 1, 'gujarati': 1, 'pashto': 1, 'urdu': 1, 'advice': 1, 'confessed': 1, 'pimply': 1, 'emo': 1, 'struggling': 1, 'revere': 1, 'afternoons': 1, 'awake': 1, 'compliments': 1, 'sega': 1, 'decry': 1, 'conveniently': 1, 'georgian': 1, 'complicate': 1, 'colluding': 1, 'minotities': 1, 'andhra': 1, 'pradesh': 1, 'rhodes': 1, 'strategic': 1, 'communications': 1, 'champion': 1, 'aborting': 1, 'borrowing': 1, 'afternoon': 1, '13yr': 1, 'possessive': 1, 'booty': 1, 'greater': 1, 'represent': 1, 'pompeo': 1, 'confrontation': 1, 'sided': 1, 'harshly': 1, 'severe': 1, 'boasting': 1, 'thanked': 1, 'cec': 1, 'evms': 1, 'equate': 1, 'strengthening': 1, 'unions': 1, 'cutting': 1, 'penalizing': 1, 'overseas': 1, 'profiles': 1, 'pursuing': 1, '18th': 1, 'mortals': 1, 'express': 1, 'kitty': 1, 'cookies': 1, 'grit': 1, 'teeth': 1, 'baseball': 1, 'bat': 1, 'amit': 1, 'illicit': 1, 'extinction': 1, 'efficient': 1, 'coworkers': 1, 'evolved': 1, 'demcoratic': 1, 'properly': 1, 'declaring': 1, 'homelessness': 1, 'doctor': 1, 'genderless': 1, 'immature': 1, 'surfacing': 1, 'dossier': 1, 'quoa': 1, 'vilest': 1, 'purported': 1, 'carefully': 1, 'premeditated': 1, 'midgets': 1, 'vison': 1, 'arseholes': 1, 'cheeseburger': 1, 'plateful': 1, 'vomit': 1, 'sara': 1, 'huckebee': 1, 'ibs': 1, 'spends': 1, 'suppressing': 1, 'burp': 1, 'interfered': 1, 'borderline': 1, 'worthy': 1, 'appeals': 1, 'levied': 1, 'sociopolitical': 1, 'slender': 1, 'opened': 1, 'niece': 1, 'san': 1, 'diego': 1, 'likelihood': 1, 'exaggeration': 1, 'unpatriotic': 1, 'pbs': 1, 'chopper': 1, 'anzakistan': 1, 'knifer': 1, 'hart': 1, 'tragedy': 1, 'wondering': 1, 'adoptions': 1, 'fad': 1, 'youths': 1, 'pashtuns': 1, 'pederasty': 1, 'rising': 1, 'populations': 1, 'fulfill': 1, 'constitutional': 1, 'faithfully': 1, 'executed': 1, 'author': 1, 'writing': 1, 'cunning': 1, '1200': 1, 'rotten': 1, 'pacify': 1, 'resisting': 1, 'semitism': 1, 'egg': 1, 'rupee': 1, 'eggs': 1, 'malayali': 1, 'flirts': 1, 'laidare': 1, 'imported': 1, 'kings': 1, 'deficate': 1, 'reincarnated': 1, 'butterfly': 1, 'tough': 1, 'wasps': 1, 'toads': 1, 'subhrashtra': 1, 'dumbest': 1, 'debating': 1, 'kanhiya': 1, 'menstruated': 1, 'tomatoes': 1, 'classical': 1, 'screens': 1, 'pete': 1, 'fattened': 1, 'weighed': 1, '750': 1, 'lbs': 1, 'accelerated': 1, '800': 1, 'volcano': 1, 'artificial': 1, 'islands': 1, 'association': 1, 'nikolas': 1, 'podophillia': 1, 'oneis': 1, 'virtually': 1, 'shintoists': 1, 'heathens': 1, 'screaming': 1, 'dolphins': 1, '3rd': 1, 'shirts': 1, 'stretching': 1, 'sagginghow': 1, 'origin': 1, 'recognized': 1, 'phobic': 1, 'prude': 1, 'weakness': 1, 'cheryl': 1, 'mills': 1, 'huma': 1, 'abedin': 1, 'consequences': 1, 'section': 1, 'peter': 1, 'strzok': 1, 'laurels': 1, 'fallacies': 1, 'ayurvedic': 1, 'childishly': 1, 'nobles': 1, 'ahmed': 1, 'sonia': 1, 'mp': 1, 'chennai': 1, 'ke': 1, 'se': 1, 'helicopter': 1, 'confirming': 1, 'chupa': 1, 'rustum': 1, 'warrior': 1, 'laboratories': 1, 'partisanship': 1, 'precedent': 1, 'albania': 1, 'sicily': 1, 'opponents': 1, 'desires': 1, 'austrian': 1, 'usurper': 1, 'lutheran': 1, 'imploding': 1, 'bruce': 1, 'lee': 1, 'highlights': 1, 'announcing': 1, 'resignation': 1, 'shift': 1, 'characterize': 1, 'rival': 1, 'various': 1, 'electronics': 1, 'fertility': 1, 'causally': 1, 'linked': 1, 'increasingly': 1, 'diminished': 1, 'garhwali': 1, 'polled': 1, 'islamofascists': 1, 'extending': 1, 'castle': 1, '53': 1, 'usamericans': 1, 'sudamerica': 1, 'central': 1, 'liberators': 1, 'coexistence': 1, 'speed': 1, 'scuba': 1, 'gulf': 1, 'aquaba': 1, 'sinai': 1, 'phenomenal': 1, 'hug': 1, 'admins': 1, 'ham': 1, 'handed': 1, 'despotic': 1, 'nincompoops': 1, 'opponent': 1, 'funding': 1, 'shape': 1, 'novus': 1, 'ordo': 1, 'presbyters': 1, 'infallibility': 1, 'papacy': 1, 'satoshi': 1, 'nakamoto': 1, 'berniebots': 1, 'programmer': 1, 'matthew': 1, 'bates': 1, 'market': 1, 'drumpf': 1, 'sodomite': 1, 'locked': 1, 'pestered': 1, 'doorstep': 1, 'ideals': 1, 'rusia': 1, 'turf': 1, 'endorsing': 1, 'preserving': 1, 'genuinely': 1, '7m': 1, '5m': 1, 'resolved': 1, 'strictly': 1, 'disown': 1, 'egalitarian': 1, 'rallies': 1, 'announcement': 1, '1st': 1, 'ounce': 1, 'progressed': 1, 'premarital': 1, 'connecting': 1, 'atlantic': 1, 'guess': 1, 'supersonic': 1, 'planes': 1, 'resurrected': 1, 'misandrist': 1, 'doj': 1, 'borring': 1, 'barney': 1, 'stinson': 1, 'hypnotic': 1, 'sniff': 1, 'pantyhose': 1, 'sweat': 1, 'wardrobe': 1, 'stylist': 1, 'technologies': 1, 'fashionable': 1, 'tsai': 1, 'ing': 1, 'wen': 1, 'disliked': 1, 'dated': 1, 'sufficient': 1, 'implicating': 1, 'offline': 1, 'cornell': 1, 'vitriol': 1, 'milo': 1, 'yiannopoulos': 1, 'factually': 1, 'dhaka': 1, 'pennsylvania': 1, 'portuguese': 1, 'scottish': 1, 'implicated': 1, 'tide': 1, 'pod': 1, 'repeatedly': 1, 'shrinking': 1, 'scandals': 1, 'involve': 1, 'queuing': 1, 'mmj': 1, 'dab': 1, 'bud': 1, 'pills': 1, 'cough': 1, 'syrup': 1, 'reliefs': 1, 'sale': 1, 'doubts': 1, 'knees': 1, 'negotiations': 1, 'thereby': 1, 'burdensome': 1, 'genetics': 1, 'dravida': 1, 'dhurv': 1, 'rathee': 1, 'rumors': 1, 'designed': 1, 'distort': 1, 'insecurity': 1, 'sunglasses': 1, 'moroccans': 1, 'jordanians': 1, 'birthday': 1, 'colonists': 1, 'immigrating': 1, 'arm': 1, 'wastage': 1, 'bribing': 1, 'partisan': 1, 'boycotts': 1, 'decade': 1, 'tends': 1, 'boycott': 1, 'datapoints': 1, 'implications': 1, 'netflix': 1, 'christie': 1, 'singing': 1, 'rehearsing': 1, 'guatemalan': 1, 'drag': 1, 'guts': 1, 'removing': 1, 'host': 1, 'holier': 1, 'thou': 1, 'scripts': 1, 'entitle': 1, 'drivel': 1, 'brainwash': 1, 'whilst': 1, 'alternatives': 1, 'apostatise': 1, 'stereotypical': 1, 'poem': 1, 'skewed': 1, 'skanks': 1, '65': 1, 'cleared': 1, 'hang': 1, 'dreaming': 1, 'produced': 1, 'tzu': 1, 'deceive': 1, 'quantico': 1, 'offend': 1, 'villain': 1, 'taint': 1, 'negativity': 1, 'accusations': 1, '35': 1, 'nerdy': 1, 'integrating': 1, 'proposing': 1, 'cutout': 1, 'nicki': 1, 'minaj': 1, 'scary': 1, 'hoe': 1, 'bedroom': 1, 'capturing': 1, 'modifying': 1, 'definitions': 1, 'nicest': 1, 'proponents': 1, 'efforts': 1, 'skip': 1, 'altogether': 1, 'aman': 1, 'pregnate': 1, 'traitors': 1, 'loser': 1, 'saviors': 1, 'survived': 1, 'desert': 1, 'eagle': 1, '357': 1, 'magnum': 1, 'london': 1, 'heavy': 1, 'makeup': 1, 'rambo': 1, 'religionists': 1, 'depraved': 1, 'scammer': 1, 'results': 1, 'reassure': 1, 'phd': 1, 'masters': 1, 'czechs': 1, 'ideologies': 1, 'length': 1, 'dustbin': 1, 'subcontinent': 1, 'attracting': 1, 'ejaculation': 1, 'spoil': 1, 'disenfranchised': 1, 'actively': 1, 'interviewing': 1, 'certainly': 1, 'unlikely': 1, 'investigators': 1, 'reasoning': 1, 'legalize': 1, 'predominantly': 1, 'survive': 1, 'center': 1, 'everyday': 1, 'hasserment': 1, 'supply': 1, 'mat': 1, 'rehabilitated': 1, 'inane': 1, 'portals': 1, 'rampur': 1, 'explains': 1, 'impulse': 1, 'societal': 1, 'pressures': 1, 'ability': 1, 'evaluate': 1, 'situations': 1, 'kāshmiristan': 1, 'indus': 1, 'grab': 1, 'aunties': 1, 'jamaican': 1, 'insensitive': 1, 'unapologetic': 1, 'apologizes': 1, 'iitians': 1, 'globalization': 1, 'reached': 1, 'grade': 1, 'stressed': 1, 'gifted': 1, '136': 1, 'nervous': 1, 'mainly': 1, 'ramblings': 1, 'isha': 1, 'sannyasis': 1, 'roaming': 1, 'oscar': 1, 'kaufmann': 1, 'liked': 1, 'beatles': 1, 'orbison': 1, 'struggles': 1, 'donors': 1, 'betray': 1, 'thots': 1, 'pakistains': 1, 'facilities': 1, 'kickbacking': 1, 'hackers': 1, 'secrets': 1, 'vendors': 1, 'overnight': 1, 'austrians': 1, 'detest': 1, 'wank': 1, 'tamilans': 1, 'energy': 1, 'telepathy': 1, 'lover': 1, 'energies': 1, 'jap': 1, 'yank': 1, 'ffs': 1, 'spent': 1, 'belittle': 1, '21': 1, 'lectured': 1, 'virtues': 1, 'covering': 1, 'dnc': 1, 'fundraiser': 1, 'producer': 1, 'solid': 1, 'rebel': 1, 'punishmemt': 1, 'signed': 1, 'judged': 1, 'sooner': 1, 'repent': 1, 'civilisation': 1, 'appeared': 1, 'porno': 1, 'titted': 1, 'whire': 1, 'heve': 1, 'eraction': 1, 'existing': 1, 'glued': 1, 'instance': 1, 'afterlife': 1, 'minding': 1, 'mistreating': 1, 'ourselves': 1, 'guardians': 1, 'indianwhat': 1, 'sunshine': 1, 'waldinger': 1, 'implies': 1, 'grew': 1, 'lowlife': 1, 'iinspite': 1, 'desperately': 1, 'soulless': 1, 'gracious': 1, 'unlovely': 1, 'iift': 1, 'charm': 1, 'naziwatsys': 1, 'timeless': 1, 'objectionable': 1, 'uttered': 1, 'puffy': 1, 'originating': 1, 'disproportionately': 1, 'crusades': 1, 'convicted': 1, 'sacred': 1, 'object': 1, 'ended': 1, 'rs': 1, '5000': 1, 'questioned': 1, 'continuously': 1, 'testicle': 1, 'goblins': 1, 'ukrainians': 1, 'wolyn': 1, 'released': 1, 'gatsby': 1, 'personna': 1, 'shadowy': 1, 'iim': 1, 'calcutta': 1, 'turd': 1, 'hose': 1, 'relocate': 1, 'lewis': 1, 'reins': 1, 'lawn': 1, 'tuesday': 1, 'adopting': 1, 'naval': 1, 'manaphy': 1, 'fortnite': 1, 'playerbase': 1, 'mamta': 1, 'mam': 1, 'havoc': 1, 'transplant': 1, 'conceals': 1, '666': 1, 'arch': 1, 'nemesis': 1, 'hired': 1, 'dennis': 1, 'tissington': 1, 'combining': 1, 'unprofessional': 1, 'limit': 1, 'insights': 1, 'alchoholic': 1, 'unemployment': 1, 'normalize': 1, 'ernst': 1, 'badian': 1, '1947': 1, 'realistic': 1, 'diahhrea': 1, 'serves': 1, '1960s': 1, 'fears': 1, 'workplace': 1, 'slightly': 1, 'miss': 1, 'neanderthals': 1, 'odi': 1, 'importance': 1, 'cows': 1, 'carelessness': 1, 'stage': 1, 'coup': 1, 'asteroid': 1, 'kidnap': 1, 'braver': 1, 'leftover': 1, 'upskirt': 1, 'chutya': 1, 'robat': 1, 'pilani': 1, 'hen': 1, 'ecstatic': 1, 'noble': 1, 'bills': 1, '7th': 1, 'graders': 1, 'lunch': 1, 'backgrounds': 1, 'affiliations': 1, 'abiding': 1, 'kshatriya': 1, 'vaisyas': 1, 'exploit': 1, 'doses': 1, 'atenolol': 1, '50mg': 1, 'beach': 1, 'waterpark': 1, '2010s': 1, 'sleeved': 1, 'isaiah': 1, 'ear': 1, 'infection': 1, 'gutlless': 1, 'replies': 1, 'pitch': 1, 'regional': 1, 'hegemony': 1, 'hump': 1, 'equivalent': 1, 'quechuas': 1, 'aymaras': 1, 'mapuches': 1, 'guarani': 1, 'falls': 1, 'embraces': 1, 'nukes': 1, 'serb': 1, '27cm': 1, 'weman': 1, 'sharing': 1, 'rented': 1, 'soviet': 1, 'resentment': 1, 'stricken': 1, 'obtain': 1, 'berate': 1, 'harbor': 1, 'savagery': 1, 'aboard': 1, 'la': 1, 'amistad': 1, 'cuba': 1, 'primates': 1, 'bushmeat': 1, 'primate': 1, 'humankind': 1, 'xenophiles': 1, 'herd': 1, 'surround': 1, 'threaten': 1, 'philippines': 1, 'coexist': 1, 'scapegoat': 1, 'failures': 1, 'outvoting': 1, 'bellies': 1, 'fatty': 1, '360': 1, 'idols': 1, 'kaaba': 1, 'reinstate': 1, 'monotheism': 1, 'babri': 1, 'mahjid': 1, 'ram': 1, 'sf': 1, 'bay': 1, 'trucks': 1, 'cranes': 1, 'machinery': 1, 'parked': 1, 'melbourne': 1, 'cbd': 1, 'accidently': 1, 'dozens': 1, 'aussies': 1, 'conceiving': 1, 'catgo': 1, 'puppets': 1, 'torn': 1, 'violations': 1, 'uttarakhand': 1, 'eyed': 1, 'mutant': 1, 'hunchback': 1, 'remote': 1, 'location': 1, 'secularism': 1, 'cm': 1, 'requirements': 1, 'revolutionary': 1, 'unmoderated': 1, 'sci': 1, 'kangaroo': 1, 'relativists': 1, 'condemned': 1, 'booties': 1, 'district': 1, 'maps': 1, 'topic': 1, 'converts': 1, 'synagogue': 1, 'unfavorably': 1, 'vigorously': 1, 'pilloried': 1, 'canaanites': 1, 'eritrea': 1, 'moderated': 1, 'censoring': 1, 'preparing': 1, 'libel': 1, 'factories': 1, 'spouses': 1, 'sideways': 1, 'daddy': 1, 'maha': 1, 'prostate': 1, 'gland': 1, 'gujaratis': 1, 'ignoble': 1, 'carrier': 1, 'scouts': 1, 'snobs': 1, 'redemption': 1, 'homes': 1, 'impacts': 1, 'domex': 1, 'cleaner': 1, 'clegg': 1, 'ed': 1, 'milliband': 1, 'observable': 1, 'iphone': 1, 'dared': 1, 'mayawati': 1, '68': 1, 'dues': 1, 'restore': 1, 'electricity': 1, 'martyr': 1, 'complaints': 1, 'loosing': 1, 'kalug': 1, 'upbringing': 1, 'lenin': 1, 'bolshevism': 1, 'initial': 1, 'dense': 1, 'drinkers': 1, 'prejudices': 1, 'nerds': 1, 'proletarian': 1, 'disturb': 1, 'groceries': 1, 'aspirants': 1, 'reviving': 1, 'filthy': 1, 'bums': 1, 'wheelchair': 1, 'arms': 1, 'sharks': 1, 'brave': 1, 'prosperity': 1, 'finds': 1, 'terriorist': 1, 'kaffir': 1, 'inappropriately': 1, 'copied': 1, 'brilliant': 1, 'outlived': 1, 'usefulness': 1, '220': 1, 'rough': 1, 'goal': 1, 'rigorously': 1, 'noticeably': 1, 'viagra': 1, 'cialis': 1, 'connected': 1, 'ales': 1, 'colleagues': 1, 'certificate': 1, 'falsified': 1, 'cravings': 1, 'flesh': 1, 'pune': 1, 'maharashtra': 1, 'persons': 1, 'cauterize': 1, 'wound': 1, 'radhike': 1, 'apte': 1, 'persist': 1, 'ran': 1, 'toothpaste': 1, 'woke': 1, '5am': 1, 'schiff': 1, 'dora': 1, 'explorer': 1, 'riding': 1, 'rainbow': 1, 'unicorn': 1, 'dementia': 1, 'dysfunctional': 1, 'rebound': 1, 'forms': 1, 'version': 1, 'external': 1, 'validation': 1, 'addiction': 1, 'integral': 1, 'psyche': 1, 'spit': 1, 'prawn': 1, 'shells': 1, 'neutral': 1, 'pronoun': 1, 'provocatively': 1, 'flirt': 1, 'affectionately': 1, 'prayers': 1, 'consulting': 1, 'silliest': 1, 'marked': 1, 'needing': 1, 'improvement': 1, 'atlanta': 1, 'paradise': 1, 'blankenship': 1, 'felon': 1, 'proceed': 1, 'generous': 1, 'spank': 1, 'values': 1, 'miniskirt': 1, 'indentured': 1, 'thirteenth': 1, 'forecasted': 1, 'unstoppable': 1, 'criticisms': 1, 'penalties': 1, 'warmonger': 1, 'talent': 1, 'screwing': 1, 'giraffes': 1, 'elephants': 1, 'buses': 1, 'yom': 1, 'kippur': 1, 'october': 1, 'beurette': 1, 'anoints': 1, 'janie': 1, '14th': 1, 'freed': 1, 'sally': 1, 'yates': 1, 'bds': 1, 'interns': 1, 'juniors': 1, 'catalonia': 1, 'treating': 1, 'scums': 1, 'twist': 1, 'escalate': 1, 'broad': 1, 'revisionism': 1, 'mussles': 1, 'filipina': 1, 'anglos': 1, 'nordics': 1, 'latins': 1, 'francos': 1, 'romans': 1, 'exposing': 1, 'gerbils': 1, 'dyson': 1, 'racing': 1, 'heartbeat': 1, 'biological': 1, 'phenomenon': 1, 'latinamerica': 1, 'kennedy': 1, 'tormenting': 1, 'payback': 1, 'joe': 1, 'blackballing': 1, 'snooty': 1, 'harvard': 1, 'fraternity': 1, 'sanksrit': 1, 'homophobia': 1, 'streak': 1, 'autism': 1, 'intensifies': 1, 'shocks': 1, 'kung': 1, 'fu': 1, 'rubbish': 1, 'guards': 1, 'dempsey': 1, 'dunford': 1, 'export': 1, 'colin': 1, 'kaepernick': 1, 'rightful': 1, 'belonging': 1, 'refuge': 1, '54': 1, 'applications': 1, 'appointments': 1, 'lowest': 1, 'matt': 1, 'mouths': 1, 'limelight': 1, 'sad': 1, 'shashwat': 1, 'khanna': 1, 'chants': 1, 'chant': 1, 'abusers': 1, 'reminder': 1, 'submission': 1, 'somewhere': 1, 'vulnerability': 1, 'plain': 1, 'locking': 1, 'fondled': 1, 'worships': 1, 'babbling': 1, 'coons': 1, 'spine': 1, 'yelling': 1, 'sings': 1, 'merlin': 1, 'whoever': 1, 'attributed': 1, 'talmud': 1, 'added': 1, 'exceptions': 1, 'moderating': 1, 'shenanigans': 1, 'quickest': 1, 'shampoo': 1, 'nba': 1, 'basketball': 1, 'beneath': 1, 'mines': 1, 'cripple': 1, 'provinces': 1, 'winston': 1, 'bulldog': 1, 'angela': 1, 'merkel': 1, 'service': 1, 'illinois': 1, 'opt': 1, 'overreach': 1, 'obligation': 1, 'grooming': 1, 'furthermore': 1, 'assumptions': 1, 'stern': 1, 'neighborhoods': 1, 'venus': 1, 'confront': 1, 'elephant': 1, 'marching': 1, 'pressed': 1, 'porky': 1, 'pig': 1, 'observation': 1, 'limb': 1, 'predominates': 1, 'mewani': 1, 'hip': 1, 'hop': 1, 'lily': 1, 'discredited': 1, 'tories': 1, 'pms': 1, 'kicked': 1, 'uncool': 1, '99th': 1, 'sura': 1, 'colbert': 1, 'shepard': 1, 'pages': 1, 'msnbc': 1, 'criticizing': 1, 'tariffs': 1, 'ripped': 1, 'martin': 1, 'luther': 1, 'posthumously': 1, 'dissertation': 1, 'plagiarized': 1, 'anticipated': 1, 'assert': 1, 'dominance': 1, 'balkans': 1, 'ogle': 1, 'provocative': 1, 'draw': 1, 'conclusions': 1, 'adderall': 1, 'disgust': 1, 'influenced': 1, 'stereo': 1, 'julia': 1, 'roberts': 1, 'tape': 1, 'masturbates': 1, 'triple': 1, 'talak': 1, 'devastate': 1, 'capitalize': 1, 'aligning': 1, 'scorn': 1, 'reputation': 1, 'incapable': 1, 'disturbance': 1, 'hypocrits': 1, 'corduta': 1, 'sounding': 1, 'awdhesh': 1, 'justified': 1, 'incels': 1, 'celibate': 1, 'shall': 1, 'destroyers': 1, 'marital': 1, 'prevalent': 1, 'daniel': 1, 'saga': 1, 'plenty': 1, 'polar': 1, 'bears': 1, 'viciously': 1, 'maul': 1, 'tear': 1, 'icee': 1, 'permission': 1, 'cartoony': 1, 'martha': 1, 'pretentious': 1, 'screen': 1, 'loses': 1, 'popcorn': 1, 'uncontrollably': 1, 'columbian': 1, 'congratulate': 1, 'pulitzer': 1, 'violated': 1, 'discomfort': 1, 'aspects': 1, 'bodes': 1, 'longevity': 1, 'mayhem': 1, 'sanctions': 1, 'drafted': 1, 'dc': 1, 'semitist': 1, 'israelites': 1, 'characters': 1, 'atoms': 1, 'tennessee': 1, 'odisha': 1, 'asinine': 1, 'bake': 1, 'bumblebees': 1, 'edible': 1, 'barbecue': 1, 'cherubs': 1, 'crowded': 1, 'misconduct': 1, 'discover': 1, 'khatris': 1, 'aroras': 1, 'respectable': 1, 'holoucast': 1, 'santa': 1, 'claus': 1, 'questioning': 1, 'ar15': 1, 'unite': 1, 'berbers': 1, 'moors': 1, 'pointless': 1, 'neutrality': 1, 'gutted': 1, 'aligarh': 1, 'starve': 1, 'ramadan': 1, 'starving': 1, 'abu': 1, 'bakr': 1, 'baghdadi': 1, 'frontier': 1, 'cartoons': 1, 'predominately': 1, 'withheld': 1, 'motorists': 1, 'motorist': 1, 'winger': 1, 'drivers': 1, 'slim': 1, 'jerk': 1, 'snoke': 1, 'kylo': 1, 'ren': 1, 'orgasms': 1, 'vibrator': 1, 'predicts': 1, 'vibrate': 1, 'increases': 1, 'cables': 1, 'pays': 1, 'employee': 1, 'oust': 1, 'expansivewho': 1, 'ugliest': 1, 'unaware': 1, 'councilman': 1, 'salcido': 1, 'rant': 1, 'classroom': 1, 'rails': 1, 'simp': 1, 'percy': 1, 'olympians': 1, 'tolerating': 1, 'disadvantages': 1, 'whales': 1, 'cheap': 1, 'labour': 1, 'purses': 1, 'clutch': 1, 'satisfying': 1, 'praise': 1, 'laughing': 1, 'prophecies': 1, 'antichrist': 1, 'thanking': 1, 'lucky': 1, 'lawrence': 1, 'treasury': 1, 'permit': 1, 'denied': 1, 'arrogantly': 1, 'thy': 1, 'omega': 1, 'girlfriends': 1, 'alpha': 1, 'homeschooling': 1, 'familymembers': 1, 'overreact': 1, 'shamed': 1, 'profaned': 1, 'convict': 1, 'zaira': 1, 'wasim': 1, 'afterall': 1, 'sellouts': 1, 'dry': 1, 'filth': 1, 'atrocious': 1, 'font': 1, 'quick': 1, 'nuked': 1, 'uncles': 1, 'coordination': 1, 'kremlin': 1, 'query': 1, 'citing': 1, 'howto': 1, 'transsexualism': 1, 'wrapped': 1, 'bolivia': 1, 'brazil': 1, 'sum': 1, 'brainy': 1, 'injustice': 1, 'breeding': 1, 'faking': 1, 'remark': 1, 'yowls': 1, 'asserted': 1, 'outnumber': 1, 'mongolia': 1, 'exodus': 1, 'shivaji': 1, 'maharaj': 1, 'vatican': 1, 'stereotypes': 1, 'ideological': 1, 'purpouses': 1, 'virginity': 1, 'carrot': 1, 'mongolian': 1, 'gypsy': 1, 'allied': 1, 'distinguish': 1, 'beards': 1, 'hijabs': 1, 'suspicious': 1, 'undeclared': 1, 'pets': 1, 'innocents': 1, 'fearless': 1, 'harmless': 1, 'attic': 1, 'violently': 1, 'manager': 1, 'firefighter': 1, 'scored': 1, '1570': 1, 'domme': 1, 'strap': 1, 'phallus': 1, 'orally': 1, 'analy': 1, 'deed': 1, 'outlawed': 1, 'spoiling': 1, 'speculation': 1, 'reports': 1, 'sterilizes': 1, 'ethiopian': 1, 'scumbag': 1, '34': 1, 'dehumanization': 1, 'splitting': 1, 'inflate': 1, 'leads': 1, 'ohio': 1, 'poly': 1, 'hookups': 1, 'threesomes': 1, 'cheater': 1, 'manipulating': 1, 'bidding': 1, 'organisation': 1, 'colonise': 1, 'swamped': 1, 'usurped': 1, 'pc': 1, 'freshman': 1, 'timid': 1, 'boxers': 1, 'trumpet': 1, 'saviour': 1, 'deliberate': 1, 'risky': 1, 'belgium': 1, 'tn': 1, 'hyperloop': 1, 'pathological': 1, 'fiancés': 1, 'witnessed': 1, 'bourdain': 1, 'oprah': 1, 'exploding': 1, 'tinder': 1, 'path': 1, 'priests': 1, 'molested': 1, 'turk': 1, 'baker': 1, 'maker': 1, 'verse': 1, 'quoted': 1, 'ac': 1, '130': 1, 'gunship': 1, 'circling': 1, 'niger': 1, 'athletes': 1, 'idiocy': 1, 'designation': 1, 'downgraded': 1, 'corporate': 1, 'entity': 1, 'washed': 1, 'civilised': 1, 'catlyn': 1, 'stark': 1, 'threatened': 1, 'possibility': 1, 'jon': 1, 'superseding': 1, 'inclined': 1, 'boogers': 1, 'introvert': 1, 'hutt': 1, '246': 1, 'pounds': 1, '210': 1, 'fillipinos': 1, 'cambodians': 1, 'scapegoats': 1, 'desist': 1, 'pipe': 1, 'bandwagoners': 1, 'afghan': 1, 'absorb': 1, 'cheerfully': 1, 'diaspora': 1, 'canaanite': 1, 'penalty': 1, 'significant': 1, 'manohar': 1, 'parrikar': 1, 'drishyam': 1, 'historic': 1, 'fulfilling': 1, 'prophecy': 1, 'werewolves': 1, 'symbolize': 1, 'alcoholism': 1, 'raging': 1, 'northeast': 1, 'zoroastrians': 1, 'mba': 1, 'completing': 1, 'abruptly': 1, 'severing': 1, 'silenced': 1, 'nominated': 1, 'alawites': 1, 'lebanon': 1, 'harassing': 1, 'equates': 1, 'cannabis': 1, 'lgtbq2': 1, 'rammed': 1, 'boglin': 1})\n"
     ]
    }
   ],
   "execution_count": 10
  },
  {
   "metadata": {},
   "cell_type": "markdown",
   "source": "Surprisingly trump is quite high",
   "id": "24d6c6871db9d328"
  },
  {
   "metadata": {},
   "cell_type": "markdown",
   "source": [
    "## Text Processing Techniques\n",
    "1. Understand BOW\n",
    "2. Tokenization\n",
    "3. Stopword removal\n",
    "4. Stemming"
   ],
   "id": "3627d216bba1b768"
  },
  {
   "metadata": {},
   "cell_type": "markdown",
   "source": [
    "#### BOW \n",
    "1. Create alist of all word in all texts\n",
    "2. Create vector count for each text\n",
    "\n",
    "Limitations:\n",
    "1. Too many words\n",
    "2. Very frequent words \n",
    "3. Very rare words\n",
    "4. Different forms of same word"
   ],
   "id": "949257cc12a321d1"
  },
  {
   "metadata": {
    "ExecuteTime": {
     "end_time": "2024-07-18T07:01:54.162584Z",
     "start_time": "2024-07-18T07:01:53.850777Z"
    }
   },
   "cell_type": "code",
   "source": "from nltk.tokenize import word_tokenize",
   "id": "e98303ca2c8ad53a",
   "outputs": [],
   "execution_count": 1
  },
  {
   "metadata": {
    "ExecuteTime": {
     "end_time": "2024-07-18T07:00:01.518320Z",
     "start_time": "2024-07-18T06:59:55.068579Z"
    }
   },
   "cell_type": "code",
   "source": "train_frame['question_text']=train_frame['question_text'].map(word_tokenize)",
   "id": "ba02ec3ef4d3e5d7",
   "outputs": [],
   "execution_count": 8
  },
  {
   "metadata": {
    "ExecuteTime": {
     "end_time": "2024-07-18T07:02:03.469080Z",
     "start_time": "2024-07-18T07:02:03.464494Z"
    }
   },
   "cell_type": "code",
   "source": [
    "from nltk.corpus import stopwords\n",
    "english_stopwords = stopwords.words('english')\n",
    "\n",
    "def remove_stopwords(tokens):\n",
    "    return [words for words in tokens if words.lower() not in english_stopwords]\n"
   ],
   "id": "e1458e0f61c9eb16",
   "outputs": [],
   "execution_count": 3
  },
  {
   "metadata": {
    "ExecuteTime": {
     "end_time": "2024-07-18T07:00:03.025390Z",
     "start_time": "2024-07-18T07:00:01.525797Z"
    }
   },
   "cell_type": "code",
   "source": "train_frame['question_text'] = train_frame['question_text'].map(remove_stopwords)",
   "id": "ba226aac904b2cc9",
   "outputs": [],
   "execution_count": 10
  },
  {
   "metadata": {
    "ExecuteTime": {
     "end_time": "2024-07-18T07:00:03.034281Z",
     "start_time": "2024-07-18T07:00:03.026664Z"
    }
   },
   "cell_type": "code",
   "source": "train_frame",
   "id": "bf7f6d6021edac77",
   "outputs": [
    {
     "data": {
      "text/plain": [
       "                          qid  \\\n",
       "677319   84a4f7330c8c4d25c658   \n",
       "802133   9d2d218a2089665a6865   \n",
       "357211   4603f825d33f12072cc2   \n",
       "165764   20642d7de9e049df5ae7   \n",
       "441097   5673897ea5e990e5acb5   \n",
       "...                       ...   \n",
       "334291   4182c88c9c70b5b9396c   \n",
       "912073   b2bab5a376f860e43c9b   \n",
       "1235543  f221becf9370b407b3db   \n",
       "1274539  f9c6d4563af140a6a1b2   \n",
       "104720   148211b83d9ea4b99ce8   \n",
       "\n",
       "                                             question_text  target  \n",
       "677319       [people, tend, answer, question, question, ?]       0  \n",
       "802133   [add, excess, magnesium, aqueous, potassium, s...       0  \n",
       "357211   [least, max, possible, sentence, warrant, cutt...       0  \n",
       "165764   [job, options, intellectuals, ,, physicists, ,...       0  \n",
       "441097   [make, St., Stephens, College, DU, BA, (, hons...       0  \n",
       "...                                                    ...     ...  \n",
       "334291            [makes, country, interesting, unique, ?]       0  \n",
       "912073                                    [use, base64, ?]       0  \n",
       "1235543  [Marvel, DC, Villain, actually, successful, de...       0  \n",
       "1274539                               [weed, make, gay, ?]       1  \n",
       "104720   [get, job, trading, firm, without, college, de...       0  \n",
       "\n",
       "[130612 rows x 3 columns]"
      ],
      "text/html": [
       "<div>\n",
       "<style scoped>\n",
       "    .dataframe tbody tr th:only-of-type {\n",
       "        vertical-align: middle;\n",
       "    }\n",
       "\n",
       "    .dataframe tbody tr th {\n",
       "        vertical-align: top;\n",
       "    }\n",
       "\n",
       "    .dataframe thead th {\n",
       "        text-align: right;\n",
       "    }\n",
       "</style>\n",
       "<table border=\"1\" class=\"dataframe\">\n",
       "  <thead>\n",
       "    <tr style=\"text-align: right;\">\n",
       "      <th></th>\n",
       "      <th>qid</th>\n",
       "      <th>question_text</th>\n",
       "      <th>target</th>\n",
       "    </tr>\n",
       "  </thead>\n",
       "  <tbody>\n",
       "    <tr>\n",
       "      <th>677319</th>\n",
       "      <td>84a4f7330c8c4d25c658</td>\n",
       "      <td>[people, tend, answer, question, question, ?]</td>\n",
       "      <td>0</td>\n",
       "    </tr>\n",
       "    <tr>\n",
       "      <th>802133</th>\n",
       "      <td>9d2d218a2089665a6865</td>\n",
       "      <td>[add, excess, magnesium, aqueous, potassium, s...</td>\n",
       "      <td>0</td>\n",
       "    </tr>\n",
       "    <tr>\n",
       "      <th>357211</th>\n",
       "      <td>4603f825d33f12072cc2</td>\n",
       "      <td>[least, max, possible, sentence, warrant, cutt...</td>\n",
       "      <td>0</td>\n",
       "    </tr>\n",
       "    <tr>\n",
       "      <th>165764</th>\n",
       "      <td>20642d7de9e049df5ae7</td>\n",
       "      <td>[job, options, intellectuals, ,, physicists, ,...</td>\n",
       "      <td>0</td>\n",
       "    </tr>\n",
       "    <tr>\n",
       "      <th>441097</th>\n",
       "      <td>5673897ea5e990e5acb5</td>\n",
       "      <td>[make, St., Stephens, College, DU, BA, (, hons...</td>\n",
       "      <td>0</td>\n",
       "    </tr>\n",
       "    <tr>\n",
       "      <th>...</th>\n",
       "      <td>...</td>\n",
       "      <td>...</td>\n",
       "      <td>...</td>\n",
       "    </tr>\n",
       "    <tr>\n",
       "      <th>334291</th>\n",
       "      <td>4182c88c9c70b5b9396c</td>\n",
       "      <td>[makes, country, interesting, unique, ?]</td>\n",
       "      <td>0</td>\n",
       "    </tr>\n",
       "    <tr>\n",
       "      <th>912073</th>\n",
       "      <td>b2bab5a376f860e43c9b</td>\n",
       "      <td>[use, base64, ?]</td>\n",
       "      <td>0</td>\n",
       "    </tr>\n",
       "    <tr>\n",
       "      <th>1235543</th>\n",
       "      <td>f221becf9370b407b3db</td>\n",
       "      <td>[Marvel, DC, Villain, actually, successful, de...</td>\n",
       "      <td>0</td>\n",
       "    </tr>\n",
       "    <tr>\n",
       "      <th>1274539</th>\n",
       "      <td>f9c6d4563af140a6a1b2</td>\n",
       "      <td>[weed, make, gay, ?]</td>\n",
       "      <td>1</td>\n",
       "    </tr>\n",
       "    <tr>\n",
       "      <th>104720</th>\n",
       "      <td>148211b83d9ea4b99ce8</td>\n",
       "      <td>[get, job, trading, firm, without, college, de...</td>\n",
       "      <td>0</td>\n",
       "    </tr>\n",
       "  </tbody>\n",
       "</table>\n",
       "<p>130612 rows × 3 columns</p>\n",
       "</div>"
      ]
     },
     "execution_count": 11,
     "metadata": {},
     "output_type": "execute_result"
    }
   ],
   "execution_count": 11
  },
  {
   "metadata": {},
   "cell_type": "markdown",
   "source": " ## Implement Bag of Words ",
   "id": "996457a9ae84d8c7"
  },
  {
   "metadata": {
    "ExecuteTime": {
     "end_time": "2024-07-18T07:10:12.326829Z",
     "start_time": "2024-07-18T07:10:12.316912Z"
    }
   },
   "cell_type": "code",
   "source": [
    "from nltk.stem import PorterStemmer\n",
    "def stemmer(tokens):\n",
    "    ps = PorterStemmer()\n",
    "    return [ps.stem(words) for words in tokens]\n",
    "# train_frame['question_text'] = train_frame['question_text'].map(stemmer)"
   ],
   "id": "69bd438f7854a809",
   "outputs": [],
   "execution_count": 19
  },
  {
   "metadata": {
    "ExecuteTime": {
     "end_time": "2024-07-18T07:00:10.331346Z",
     "start_time": "2024-07-18T07:00:10.325015Z"
    }
   },
   "cell_type": "code",
   "source": "train_frame",
   "id": "f5cd0cf5f03743a4",
   "outputs": [
    {
     "data": {
      "text/plain": [
       "                          qid  \\\n",
       "677319   84a4f7330c8c4d25c658   \n",
       "802133   9d2d218a2089665a6865   \n",
       "357211   4603f825d33f12072cc2   \n",
       "165764   20642d7de9e049df5ae7   \n",
       "441097   5673897ea5e990e5acb5   \n",
       "...                       ...   \n",
       "334291   4182c88c9c70b5b9396c   \n",
       "912073   b2bab5a376f860e43c9b   \n",
       "1235543  f221becf9370b407b3db   \n",
       "1274539  f9c6d4563af140a6a1b2   \n",
       "104720   148211b83d9ea4b99ce8   \n",
       "\n",
       "                                             question_text  target  \n",
       "677319        [peopl, tend, answer, question, question, ?]       0  \n",
       "802133   [add, excess, magnesium, aqueou, potassium, su...       0  \n",
       "357211   [least, max, possibl, sentenc, warrant, cut, a...       0  \n",
       "165764   [job, option, intellectu, ,, physicist, ,, sci...       0  \n",
       "441097   [make, st., stephen, colleg, du, ba, (, hon, )...       0  \n",
       "...                                                    ...     ...  \n",
       "334291                 [make, countri, interest, uniqu, ?]       0  \n",
       "912073                                    [use, base64, ?]       0  \n",
       "1235543  [marvel, dc, villain, actual, success, destroy...       0  \n",
       "1274539                               [weed, make, gay, ?]       1  \n",
       "104720   [get, job, trade, firm, without, colleg, degre...       0  \n",
       "\n",
       "[130612 rows x 3 columns]"
      ],
      "text/html": [
       "<div>\n",
       "<style scoped>\n",
       "    .dataframe tbody tr th:only-of-type {\n",
       "        vertical-align: middle;\n",
       "    }\n",
       "\n",
       "    .dataframe tbody tr th {\n",
       "        vertical-align: top;\n",
       "    }\n",
       "\n",
       "    .dataframe thead th {\n",
       "        text-align: right;\n",
       "    }\n",
       "</style>\n",
       "<table border=\"1\" class=\"dataframe\">\n",
       "  <thead>\n",
       "    <tr style=\"text-align: right;\">\n",
       "      <th></th>\n",
       "      <th>qid</th>\n",
       "      <th>question_text</th>\n",
       "      <th>target</th>\n",
       "    </tr>\n",
       "  </thead>\n",
       "  <tbody>\n",
       "    <tr>\n",
       "      <th>677319</th>\n",
       "      <td>84a4f7330c8c4d25c658</td>\n",
       "      <td>[peopl, tend, answer, question, question, ?]</td>\n",
       "      <td>0</td>\n",
       "    </tr>\n",
       "    <tr>\n",
       "      <th>802133</th>\n",
       "      <td>9d2d218a2089665a6865</td>\n",
       "      <td>[add, excess, magnesium, aqueou, potassium, su...</td>\n",
       "      <td>0</td>\n",
       "    </tr>\n",
       "    <tr>\n",
       "      <th>357211</th>\n",
       "      <td>4603f825d33f12072cc2</td>\n",
       "      <td>[least, max, possibl, sentenc, warrant, cut, a...</td>\n",
       "      <td>0</td>\n",
       "    </tr>\n",
       "    <tr>\n",
       "      <th>165764</th>\n",
       "      <td>20642d7de9e049df5ae7</td>\n",
       "      <td>[job, option, intellectu, ,, physicist, ,, sci...</td>\n",
       "      <td>0</td>\n",
       "    </tr>\n",
       "    <tr>\n",
       "      <th>441097</th>\n",
       "      <td>5673897ea5e990e5acb5</td>\n",
       "      <td>[make, st., stephen, colleg, du, ba, (, hon, )...</td>\n",
       "      <td>0</td>\n",
       "    </tr>\n",
       "    <tr>\n",
       "      <th>...</th>\n",
       "      <td>...</td>\n",
       "      <td>...</td>\n",
       "      <td>...</td>\n",
       "    </tr>\n",
       "    <tr>\n",
       "      <th>334291</th>\n",
       "      <td>4182c88c9c70b5b9396c</td>\n",
       "      <td>[make, countri, interest, uniqu, ?]</td>\n",
       "      <td>0</td>\n",
       "    </tr>\n",
       "    <tr>\n",
       "      <th>912073</th>\n",
       "      <td>b2bab5a376f860e43c9b</td>\n",
       "      <td>[use, base64, ?]</td>\n",
       "      <td>0</td>\n",
       "    </tr>\n",
       "    <tr>\n",
       "      <th>1235543</th>\n",
       "      <td>f221becf9370b407b3db</td>\n",
       "      <td>[marvel, dc, villain, actual, success, destroy...</td>\n",
       "      <td>0</td>\n",
       "    </tr>\n",
       "    <tr>\n",
       "      <th>1274539</th>\n",
       "      <td>f9c6d4563af140a6a1b2</td>\n",
       "      <td>[weed, make, gay, ?]</td>\n",
       "      <td>1</td>\n",
       "    </tr>\n",
       "    <tr>\n",
       "      <th>104720</th>\n",
       "      <td>148211b83d9ea4b99ce8</td>\n",
       "      <td>[get, job, trade, firm, without, colleg, degre...</td>\n",
       "      <td>0</td>\n",
       "    </tr>\n",
       "  </tbody>\n",
       "</table>\n",
       "<p>130612 rows × 3 columns</p>\n",
       "</div>"
      ]
     },
     "execution_count": 13,
     "metadata": {},
     "output_type": "execute_result"
    }
   ],
   "execution_count": 13
  },
  {
   "metadata": {},
   "cell_type": "markdown",
   "source": [
    "\n",
    "## ML models/ Classification"
   ],
   "id": "e1be02b0e3a93640"
  },
  {
   "metadata": {
    "ExecuteTime": {
     "end_time": "2024-07-18T07:40:17.743473Z",
     "start_time": "2024-07-18T07:40:17.733706Z"
    }
   },
   "cell_type": "code",
   "source": [
    "%%time\n",
    "ps = PorterStemmer()\n",
    "\n",
    "def word_tokenizer(text):\n",
    "    return [ps.stem(word) for word in word_tokenize(text)]\n",
    "\n",
    "word_tokenizer(\"whay is rhe time noe , please\")"
   ],
   "id": "cd817703c1d40007",
   "outputs": [
    {
     "name": "stdout",
     "output_type": "stream",
     "text": [
      "CPU times: user 362 µs, sys: 742 µs, total: 1.1 ms\n",
      "Wall time: 1.12 ms\n"
     ]
    },
    {
     "data": {
      "text/plain": [
       "['whay', 'is', 'rhe', 'time', 'noe', ',', 'pleas']"
      ]
     },
     "execution_count": 79,
     "metadata": {},
     "output_type": "execute_result"
    }
   ],
   "execution_count": 79
  },
  {
   "metadata": {
    "ExecuteTime": {
     "end_time": "2024-07-18T07:40:17.984259Z",
     "start_time": "2024-07-18T07:40:17.981489Z"
    }
   },
   "cell_type": "code",
   "source": [
    "from sklearn.feature_extraction.text import CountVectorizer\n",
    "\n",
    "    \n",
    "vectorizer = CountVectorizer(\n",
    "    lowercase=True,\n",
    "    tokenizer=word_tokenizer,\n",
    "    stop_words=english_stopwords,\n",
    "    max_features=1000,\n",
    "    input='content'\n",
    ")"
   ],
   "id": "1949d3eaed4b4468",
   "outputs": [],
   "execution_count": 80
  },
  {
   "metadata": {
    "ExecuteTime": {
     "end_time": "2024-07-18T07:40:19.228774Z",
     "start_time": "2024-07-18T07:40:19.207041Z"
    }
   },
   "cell_type": "code",
   "source": [
    "test_text = ['this is test text']\n",
    "vectorizer.fit(test_text)"
   ],
   "id": "2391fab6492278c2",
   "outputs": [
    {
     "name": "stderr",
     "output_type": "stream",
     "text": [
      "/Users/anshujoshi/anaconda3/envs/cancer/lib/python3.8/site-packages/sklearn/feature_extraction/text.py:525: UserWarning: The parameter 'token_pattern' will not be used since 'tokenizer' is not None'\n",
      "  warnings.warn(\n",
      "/Users/anshujoshi/anaconda3/envs/cancer/lib/python3.8/site-packages/sklearn/feature_extraction/text.py:408: UserWarning: Your stop_words may be inconsistent with your preprocessing. Tokenizing the stop words generated tokens [\"'d\", \"'ll\", \"'re\", \"'s\", \"'ve\", 'abov', 'ani', 'becaus', 'befor', 'could', 'doe', 'dure', 'ha', 'hi', 'might', 'must', \"n't\", 'need', 'onc', 'onli', 'ourselv', 'sha', 'themselv', 'thi', 'veri', 'wa', 'whi', 'wo', 'would', 'yourselv'] not in stop_words.\n",
      "  warnings.warn(\n"
     ]
    },
    {
     "data": {
      "text/plain": [
       "CountVectorizer(max_features=1000,\n",
       "                stop_words=['i', 'me', 'my', 'myself', 'we', 'our', 'ours',\n",
       "                            'ourselves', 'you', \"you're\", \"you've\", \"you'll\",\n",
       "                            \"you'd\", 'your', 'yours', 'yourself', 'yourselves',\n",
       "                            'he', 'him', 'his', 'himself', 'she', \"she's\",\n",
       "                            'her', 'hers', 'herself', 'it', \"it's\", 'its',\n",
       "                            'itself', ...],\n",
       "                tokenizer=<function word_tokenizer at 0x1632f88b0>)"
      ],
      "text/html": [
       "<style>#sk-container-id-7 {color: black;}#sk-container-id-7 pre{padding: 0;}#sk-container-id-7 div.sk-toggleable {background-color: white;}#sk-container-id-7 label.sk-toggleable__label {cursor: pointer;display: block;width: 100%;margin-bottom: 0;padding: 0.3em;box-sizing: border-box;text-align: center;}#sk-container-id-7 label.sk-toggleable__label-arrow:before {content: \"▸\";float: left;margin-right: 0.25em;color: #696969;}#sk-container-id-7 label.sk-toggleable__label-arrow:hover:before {color: black;}#sk-container-id-7 div.sk-estimator:hover label.sk-toggleable__label-arrow:before {color: black;}#sk-container-id-7 div.sk-toggleable__content {max-height: 0;max-width: 0;overflow: hidden;text-align: left;background-color: #f0f8ff;}#sk-container-id-7 div.sk-toggleable__content pre {margin: 0.2em;color: black;border-radius: 0.25em;background-color: #f0f8ff;}#sk-container-id-7 input.sk-toggleable__control:checked~div.sk-toggleable__content {max-height: 200px;max-width: 100%;overflow: auto;}#sk-container-id-7 input.sk-toggleable__control:checked~label.sk-toggleable__label-arrow:before {content: \"▾\";}#sk-container-id-7 div.sk-estimator input.sk-toggleable__control:checked~label.sk-toggleable__label {background-color: #d4ebff;}#sk-container-id-7 div.sk-label input.sk-toggleable__control:checked~label.sk-toggleable__label {background-color: #d4ebff;}#sk-container-id-7 input.sk-hidden--visually {border: 0;clip: rect(1px 1px 1px 1px);clip: rect(1px, 1px, 1px, 1px);height: 1px;margin: -1px;overflow: hidden;padding: 0;position: absolute;width: 1px;}#sk-container-id-7 div.sk-estimator {font-family: monospace;background-color: #f0f8ff;border: 1px dotted black;border-radius: 0.25em;box-sizing: border-box;margin-bottom: 0.5em;}#sk-container-id-7 div.sk-estimator:hover {background-color: #d4ebff;}#sk-container-id-7 div.sk-parallel-item::after {content: \"\";width: 100%;border-bottom: 1px solid gray;flex-grow: 1;}#sk-container-id-7 div.sk-label:hover label.sk-toggleable__label {background-color: #d4ebff;}#sk-container-id-7 div.sk-serial::before {content: \"\";position: absolute;border-left: 1px solid gray;box-sizing: border-box;top: 0;bottom: 0;left: 50%;z-index: 0;}#sk-container-id-7 div.sk-serial {display: flex;flex-direction: column;align-items: center;background-color: white;padding-right: 0.2em;padding-left: 0.2em;position: relative;}#sk-container-id-7 div.sk-item {position: relative;z-index: 1;}#sk-container-id-7 div.sk-parallel {display: flex;align-items: stretch;justify-content: center;background-color: white;position: relative;}#sk-container-id-7 div.sk-item::before, #sk-container-id-7 div.sk-parallel-item::before {content: \"\";position: absolute;border-left: 1px solid gray;box-sizing: border-box;top: 0;bottom: 0;left: 50%;z-index: -1;}#sk-container-id-7 div.sk-parallel-item {display: flex;flex-direction: column;z-index: 1;position: relative;background-color: white;}#sk-container-id-7 div.sk-parallel-item:first-child::after {align-self: flex-end;width: 50%;}#sk-container-id-7 div.sk-parallel-item:last-child::after {align-self: flex-start;width: 50%;}#sk-container-id-7 div.sk-parallel-item:only-child::after {width: 0;}#sk-container-id-7 div.sk-dashed-wrapped {border: 1px dashed gray;margin: 0 0.4em 0.5em 0.4em;box-sizing: border-box;padding-bottom: 0.4em;background-color: white;}#sk-container-id-7 div.sk-label label {font-family: monospace;font-weight: bold;display: inline-block;line-height: 1.2em;}#sk-container-id-7 div.sk-label-container {text-align: center;}#sk-container-id-7 div.sk-container {/* jupyter's `normalize.less` sets `[hidden] { display: none; }` but bootstrap.min.css set `[hidden] { display: none !important; }` so we also need the `!important` here to be able to override the default hidden behavior on the sphinx rendered scikit-learn.org. See: https://github.com/scikit-learn/scikit-learn/issues/21755 */display: inline-block !important;position: relative;}#sk-container-id-7 div.sk-text-repr-fallback {display: none;}</style><div id=\"sk-container-id-7\" class=\"sk-top-container\"><div class=\"sk-text-repr-fallback\"><pre>CountVectorizer(max_features=1000,\n",
       "                stop_words=[&#x27;i&#x27;, &#x27;me&#x27;, &#x27;my&#x27;, &#x27;myself&#x27;, &#x27;we&#x27;, &#x27;our&#x27;, &#x27;ours&#x27;,\n",
       "                            &#x27;ourselves&#x27;, &#x27;you&#x27;, &quot;you&#x27;re&quot;, &quot;you&#x27;ve&quot;, &quot;you&#x27;ll&quot;,\n",
       "                            &quot;you&#x27;d&quot;, &#x27;your&#x27;, &#x27;yours&#x27;, &#x27;yourself&#x27;, &#x27;yourselves&#x27;,\n",
       "                            &#x27;he&#x27;, &#x27;him&#x27;, &#x27;his&#x27;, &#x27;himself&#x27;, &#x27;she&#x27;, &quot;she&#x27;s&quot;,\n",
       "                            &#x27;her&#x27;, &#x27;hers&#x27;, &#x27;herself&#x27;, &#x27;it&#x27;, &quot;it&#x27;s&quot;, &#x27;its&#x27;,\n",
       "                            &#x27;itself&#x27;, ...],\n",
       "                tokenizer=&lt;function word_tokenizer at 0x1632f88b0&gt;)</pre><b>In a Jupyter environment, please rerun this cell to show the HTML representation or trust the notebook. <br />On GitHub, the HTML representation is unable to render, please try loading this page with nbviewer.org.</b></div><div class=\"sk-container\" hidden><div class=\"sk-item\"><div class=\"sk-estimator sk-toggleable\"><input class=\"sk-toggleable__control sk-hidden--visually\" id=\"sk-estimator-id-7\" type=\"checkbox\" checked><label for=\"sk-estimator-id-7\" class=\"sk-toggleable__label sk-toggleable__label-arrow\">CountVectorizer</label><div class=\"sk-toggleable__content\"><pre>CountVectorizer(max_features=1000,\n",
       "                stop_words=[&#x27;i&#x27;, &#x27;me&#x27;, &#x27;my&#x27;, &#x27;myself&#x27;, &#x27;we&#x27;, &#x27;our&#x27;, &#x27;ours&#x27;,\n",
       "                            &#x27;ourselves&#x27;, &#x27;you&#x27;, &quot;you&#x27;re&quot;, &quot;you&#x27;ve&quot;, &quot;you&#x27;ll&quot;,\n",
       "                            &quot;you&#x27;d&quot;, &#x27;your&#x27;, &#x27;yours&#x27;, &#x27;yourself&#x27;, &#x27;yourselves&#x27;,\n",
       "                            &#x27;he&#x27;, &#x27;him&#x27;, &#x27;his&#x27;, &#x27;himself&#x27;, &#x27;she&#x27;, &quot;she&#x27;s&quot;,\n",
       "                            &#x27;her&#x27;, &#x27;hers&#x27;, &#x27;herself&#x27;, &#x27;it&#x27;, &quot;it&#x27;s&quot;, &#x27;its&#x27;,\n",
       "                            &#x27;itself&#x27;, ...],\n",
       "                tokenizer=&lt;function word_tokenizer at 0x1632f88b0&gt;)</pre></div></div></div></div></div>"
      ]
     },
     "execution_count": 81,
     "metadata": {},
     "output_type": "execute_result"
    }
   ],
   "execution_count": 81
  },
  {
   "metadata": {
    "ExecuteTime": {
     "end_time": "2024-07-18T07:40:41.376907Z",
     "start_time": "2024-07-18T07:40:23.226668Z"
    }
   },
   "cell_type": "code",
   "source": [
    "%%time\n",
    "vectorizer.fit(train_frame.question_text)"
   ],
   "id": "994e43dda50c16cf",
   "outputs": [
    {
     "name": "stderr",
     "output_type": "stream",
     "text": [
      "/Users/anshujoshi/anaconda3/envs/cancer/lib/python3.8/site-packages/sklearn/feature_extraction/text.py:525: UserWarning: The parameter 'token_pattern' will not be used since 'tokenizer' is not None'\n",
      "  warnings.warn(\n"
     ]
    },
    {
     "name": "stdout",
     "output_type": "stream",
     "text": [
      "CPU times: user 17.8 s, sys: 218 ms, total: 18 s\n",
      "Wall time: 18.1 s\n"
     ]
    },
    {
     "data": {
      "text/plain": [
       "CountVectorizer(max_features=1000,\n",
       "                stop_words=['i', 'me', 'my', 'myself', 'we', 'our', 'ours',\n",
       "                            'ourselves', 'you', \"you're\", \"you've\", \"you'll\",\n",
       "                            \"you'd\", 'your', 'yours', 'yourself', 'yourselves',\n",
       "                            'he', 'him', 'his', 'himself', 'she', \"she's\",\n",
       "                            'her', 'hers', 'herself', 'it', \"it's\", 'its',\n",
       "                            'itself', ...],\n",
       "                tokenizer=<function word_tokenizer at 0x1632f88b0>)"
      ],
      "text/html": [
       "<style>#sk-container-id-8 {color: black;}#sk-container-id-8 pre{padding: 0;}#sk-container-id-8 div.sk-toggleable {background-color: white;}#sk-container-id-8 label.sk-toggleable__label {cursor: pointer;display: block;width: 100%;margin-bottom: 0;padding: 0.3em;box-sizing: border-box;text-align: center;}#sk-container-id-8 label.sk-toggleable__label-arrow:before {content: \"▸\";float: left;margin-right: 0.25em;color: #696969;}#sk-container-id-8 label.sk-toggleable__label-arrow:hover:before {color: black;}#sk-container-id-8 div.sk-estimator:hover label.sk-toggleable__label-arrow:before {color: black;}#sk-container-id-8 div.sk-toggleable__content {max-height: 0;max-width: 0;overflow: hidden;text-align: left;background-color: #f0f8ff;}#sk-container-id-8 div.sk-toggleable__content pre {margin: 0.2em;color: black;border-radius: 0.25em;background-color: #f0f8ff;}#sk-container-id-8 input.sk-toggleable__control:checked~div.sk-toggleable__content {max-height: 200px;max-width: 100%;overflow: auto;}#sk-container-id-8 input.sk-toggleable__control:checked~label.sk-toggleable__label-arrow:before {content: \"▾\";}#sk-container-id-8 div.sk-estimator input.sk-toggleable__control:checked~label.sk-toggleable__label {background-color: #d4ebff;}#sk-container-id-8 div.sk-label input.sk-toggleable__control:checked~label.sk-toggleable__label {background-color: #d4ebff;}#sk-container-id-8 input.sk-hidden--visually {border: 0;clip: rect(1px 1px 1px 1px);clip: rect(1px, 1px, 1px, 1px);height: 1px;margin: -1px;overflow: hidden;padding: 0;position: absolute;width: 1px;}#sk-container-id-8 div.sk-estimator {font-family: monospace;background-color: #f0f8ff;border: 1px dotted black;border-radius: 0.25em;box-sizing: border-box;margin-bottom: 0.5em;}#sk-container-id-8 div.sk-estimator:hover {background-color: #d4ebff;}#sk-container-id-8 div.sk-parallel-item::after {content: \"\";width: 100%;border-bottom: 1px solid gray;flex-grow: 1;}#sk-container-id-8 div.sk-label:hover label.sk-toggleable__label {background-color: #d4ebff;}#sk-container-id-8 div.sk-serial::before {content: \"\";position: absolute;border-left: 1px solid gray;box-sizing: border-box;top: 0;bottom: 0;left: 50%;z-index: 0;}#sk-container-id-8 div.sk-serial {display: flex;flex-direction: column;align-items: center;background-color: white;padding-right: 0.2em;padding-left: 0.2em;position: relative;}#sk-container-id-8 div.sk-item {position: relative;z-index: 1;}#sk-container-id-8 div.sk-parallel {display: flex;align-items: stretch;justify-content: center;background-color: white;position: relative;}#sk-container-id-8 div.sk-item::before, #sk-container-id-8 div.sk-parallel-item::before {content: \"\";position: absolute;border-left: 1px solid gray;box-sizing: border-box;top: 0;bottom: 0;left: 50%;z-index: -1;}#sk-container-id-8 div.sk-parallel-item {display: flex;flex-direction: column;z-index: 1;position: relative;background-color: white;}#sk-container-id-8 div.sk-parallel-item:first-child::after {align-self: flex-end;width: 50%;}#sk-container-id-8 div.sk-parallel-item:last-child::after {align-self: flex-start;width: 50%;}#sk-container-id-8 div.sk-parallel-item:only-child::after {width: 0;}#sk-container-id-8 div.sk-dashed-wrapped {border: 1px dashed gray;margin: 0 0.4em 0.5em 0.4em;box-sizing: border-box;padding-bottom: 0.4em;background-color: white;}#sk-container-id-8 div.sk-label label {font-family: monospace;font-weight: bold;display: inline-block;line-height: 1.2em;}#sk-container-id-8 div.sk-label-container {text-align: center;}#sk-container-id-8 div.sk-container {/* jupyter's `normalize.less` sets `[hidden] { display: none; }` but bootstrap.min.css set `[hidden] { display: none !important; }` so we also need the `!important` here to be able to override the default hidden behavior on the sphinx rendered scikit-learn.org. See: https://github.com/scikit-learn/scikit-learn/issues/21755 */display: inline-block !important;position: relative;}#sk-container-id-8 div.sk-text-repr-fallback {display: none;}</style><div id=\"sk-container-id-8\" class=\"sk-top-container\"><div class=\"sk-text-repr-fallback\"><pre>CountVectorizer(max_features=1000,\n",
       "                stop_words=[&#x27;i&#x27;, &#x27;me&#x27;, &#x27;my&#x27;, &#x27;myself&#x27;, &#x27;we&#x27;, &#x27;our&#x27;, &#x27;ours&#x27;,\n",
       "                            &#x27;ourselves&#x27;, &#x27;you&#x27;, &quot;you&#x27;re&quot;, &quot;you&#x27;ve&quot;, &quot;you&#x27;ll&quot;,\n",
       "                            &quot;you&#x27;d&quot;, &#x27;your&#x27;, &#x27;yours&#x27;, &#x27;yourself&#x27;, &#x27;yourselves&#x27;,\n",
       "                            &#x27;he&#x27;, &#x27;him&#x27;, &#x27;his&#x27;, &#x27;himself&#x27;, &#x27;she&#x27;, &quot;she&#x27;s&quot;,\n",
       "                            &#x27;her&#x27;, &#x27;hers&#x27;, &#x27;herself&#x27;, &#x27;it&#x27;, &quot;it&#x27;s&quot;, &#x27;its&#x27;,\n",
       "                            &#x27;itself&#x27;, ...],\n",
       "                tokenizer=&lt;function word_tokenizer at 0x1632f88b0&gt;)</pre><b>In a Jupyter environment, please rerun this cell to show the HTML representation or trust the notebook. <br />On GitHub, the HTML representation is unable to render, please try loading this page with nbviewer.org.</b></div><div class=\"sk-container\" hidden><div class=\"sk-item\"><div class=\"sk-estimator sk-toggleable\"><input class=\"sk-toggleable__control sk-hidden--visually\" id=\"sk-estimator-id-8\" type=\"checkbox\" checked><label for=\"sk-estimator-id-8\" class=\"sk-toggleable__label sk-toggleable__label-arrow\">CountVectorizer</label><div class=\"sk-toggleable__content\"><pre>CountVectorizer(max_features=1000,\n",
       "                stop_words=[&#x27;i&#x27;, &#x27;me&#x27;, &#x27;my&#x27;, &#x27;myself&#x27;, &#x27;we&#x27;, &#x27;our&#x27;, &#x27;ours&#x27;,\n",
       "                            &#x27;ourselves&#x27;, &#x27;you&#x27;, &quot;you&#x27;re&quot;, &quot;you&#x27;ve&quot;, &quot;you&#x27;ll&quot;,\n",
       "                            &quot;you&#x27;d&quot;, &#x27;your&#x27;, &#x27;yours&#x27;, &#x27;yourself&#x27;, &#x27;yourselves&#x27;,\n",
       "                            &#x27;he&#x27;, &#x27;him&#x27;, &#x27;his&#x27;, &#x27;himself&#x27;, &#x27;she&#x27;, &quot;she&#x27;s&quot;,\n",
       "                            &#x27;her&#x27;, &#x27;hers&#x27;, &#x27;herself&#x27;, &#x27;it&#x27;, &quot;it&#x27;s&quot;, &#x27;its&#x27;,\n",
       "                            &#x27;itself&#x27;, ...],\n",
       "                tokenizer=&lt;function word_tokenizer at 0x1632f88b0&gt;)</pre></div></div></div></div></div>"
      ]
     },
     "execution_count": 82,
     "metadata": {},
     "output_type": "execute_result"
    }
   ],
   "execution_count": 82
  },
  {
   "metadata": {
    "ExecuteTime": {
     "end_time": "2024-07-18T07:40:41.386470Z",
     "start_time": "2024-07-18T07:40:41.378594Z"
    }
   },
   "cell_type": "code",
   "source": "len(vectorizer.vocabulary_)",
   "id": "4880b0dfc8bedc1a",
   "outputs": [
    {
     "data": {
      "text/plain": [
       "1000"
      ]
     },
     "execution_count": 83,
     "metadata": {},
     "output_type": "execute_result"
    }
   ],
   "execution_count": 83
  },
  {
   "metadata": {
    "ExecuteTime": {
     "end_time": "2024-07-18T07:40:41.392380Z",
     "start_time": "2024-07-18T07:40:41.387787Z"
    }
   },
   "cell_type": "code",
   "source": "vectorizer.get_feature_names_out()[:100]",
   "id": "eaa5d85f816cbb",
   "outputs": [
    {
     "data": {
      "text/plain": [
       "array(['!', '$', '%', '&', \"'\", \"''\", \"'m\", \"'re\", \"'s\", \"'ve\", '(', ')',\n",
       "       ',', '-', '.', '1', '10', '100', '12', '12th', '15', '2', '20',\n",
       "       '2017', '2018', '3', '30', '4', '5', '6', '7', '8', ':', '?', '[',\n",
       "       ']', '``', 'abl', 'abus', 'accept', 'accomplish', 'accord',\n",
       "       'account', 'achiev', 'act', 'action', 'activ', 'actor', 'actual',\n",
       "       'ad', 'add', 'address', 'admiss', 'adult', 'advanc', 'advantag',\n",
       "       'advic', 'affect', 'africa', 'african', 'age', 'ago', 'air',\n",
       "       'alcohol', 'allow', 'alon', 'along', 'alreadi', 'also', 'altern',\n",
       "       'alway', 'amazon', 'america', 'american', 'among', 'amount',\n",
       "       'analysi', 'android', 'ani', 'anim', 'anoth', 'answer', 'anxieti',\n",
       "       'anyon', 'anyth', 'apart', 'app', 'appear', 'appl', 'appli',\n",
       "       'applic', 'approach', 'arab', 'area', 'armi', 'around', 'art',\n",
       "       'asian', 'ask', 'atheist'], dtype=object)"
      ]
     },
     "execution_count": 84,
     "metadata": {},
     "output_type": "execute_result"
    }
   ],
   "execution_count": 84
  },
  {
   "metadata": {
    "ExecuteTime": {
     "end_time": "2024-07-18T07:41:06.895203Z",
     "start_time": "2024-07-18T07:40:48.752353Z"
    }
   },
   "cell_type": "code",
   "source": [
    "%%time\n",
    "inputs = vectorizer.transform(train_frame.question_text)"
   ],
   "id": "885cd1615ea08db3",
   "outputs": [
    {
     "name": "stdout",
     "output_type": "stream",
     "text": [
      "CPU times: user 17.9 s, sys: 128 ms, total: 18.1 s\n",
      "Wall time: 18.1 s\n"
     ]
    }
   ],
   "execution_count": 85
  },
  {
   "metadata": {
    "ExecuteTime": {
     "end_time": "2024-07-18T07:42:00.087001Z",
     "start_time": "2024-07-18T07:41:08.530048Z"
    }
   },
   "cell_type": "code",
   "source": [
    "%%time\n",
    "test_inputs = vectorizer.transform(test_frame.question_text)"
   ],
   "id": "736ba7d06f674af1",
   "outputs": [
    {
     "name": "stdout",
     "output_type": "stream",
     "text": [
      "CPU times: user 51 s, sys: 303 ms, total: 51.3 s\n",
      "Wall time: 51.6 s\n"
     ]
    }
   ],
   "execution_count": 86
  },
  {
   "metadata": {},
   "cell_type": "markdown",
   "source": [
    "## ML modeling\n",
    "1. Divide data to train and validate\n",
    "2. Train a logistic regression\n",
    "3. Train a bunch of other models\n",
    "4. Make prediction on train,validation and test data"
   ],
   "id": "16b96eac2158c20f"
  },
  {
   "metadata": {
    "ExecuteTime": {
     "end_time": "2024-07-18T07:42:00.120907Z",
     "start_time": "2024-07-18T07:42:00.088996Z"
    }
   },
   "cell_type": "code",
   "source": [
    "from sklearn.model_selection import train_test_split\n",
    "train_input,val_input,train_output,val_output = train_test_split(\n",
    "    inputs,train_frame.target,\n",
    "    test_size=0.2,\n",
    "    random_state=123\n",
    ")"
   ],
   "id": "3d025c1ac7f87286",
   "outputs": [],
   "execution_count": 87
  },
  {
   "metadata": {
    "ExecuteTime": {
     "end_time": "2024-07-18T07:42:00.125407Z",
     "start_time": "2024-07-18T07:42:00.121921Z"
    }
   },
   "cell_type": "code",
   "source": "print(train_input.shape,train_output.shape)",
   "id": "8021dc0848ae30b4",
   "outputs": [
    {
     "name": "stdout",
     "output_type": "stream",
     "text": [
      "(104489, 1000) (104489,)\n"
     ]
    }
   ],
   "execution_count": 88
  },
  {
   "metadata": {
    "ExecuteTime": {
     "end_time": "2024-07-18T07:42:04.361773Z",
     "start_time": "2024-07-18T07:42:04.358579Z"
    }
   },
   "cell_type": "code",
   "source": [
    "from sklearn.linear_model import LogisticRegression\n",
    "from sklearn.ensemble import RandomForestClassifier"
   ],
   "id": "28cba7e822e48f6b",
   "outputs": [],
   "execution_count": 89
  },
  {
   "metadata": {
    "ExecuteTime": {
     "end_time": "2024-07-18T07:42:04.904590Z",
     "start_time": "2024-07-18T07:42:04.901131Z"
    }
   },
   "cell_type": "code",
   "source": [
    "%%time\n",
    "def train_model(model):\n",
    "    model = model\n",
    "    model.fit(\n",
    "        train_input,\n",
    "        train_output)\n",
    "    return model"
   ],
   "id": "63a96652d9bce699",
   "outputs": [
    {
     "name": "stdout",
     "output_type": "stream",
     "text": [
      "CPU times: user 4 µs, sys: 14 µs, total: 18 µs\n",
      "Wall time: 20 µs\n"
     ]
    }
   ],
   "execution_count": 90
  },
  {
   "metadata": {
    "ExecuteTime": {
     "end_time": "2024-07-18T07:43:39.228014Z",
     "start_time": "2024-07-18T07:43:09.694846Z"
    }
   },
   "cell_type": "code",
   "source": [
    "%%time\n",
    "model = train_model(RandomForestClassifier())"
   ],
   "id": "efedc7631fa06f81",
   "outputs": [
    {
     "name": "stdout",
     "output_type": "stream",
     "text": [
      "CPU times: user 29.3 s, sys: 176 ms, total: 29.5 s\n",
      "Wall time: 29.5 s\n"
     ]
    }
   ],
   "execution_count": 94
  },
  {
   "metadata": {
    "ExecuteTime": {
     "end_time": "2024-07-18T07:43:39.233629Z",
     "start_time": "2024-07-18T07:43:39.229823Z"
    }
   },
   "cell_type": "code",
   "source": [
    "from sklearn.metrics import f1_score\n",
    "\n",
    "def get_scores(true,preds):\n",
    "    return f1_score(true,preds)"
   ],
   "id": "7074191b2732852",
   "outputs": [],
   "execution_count": 95
  },
  {
   "metadata": {
    "ExecuteTime": {
     "end_time": "2024-07-18T07:43:40.785379Z",
     "start_time": "2024-07-18T07:43:39.234378Z"
    }
   },
   "cell_type": "code",
   "source": [
    "preds = model.predict(val_input)\n",
    "get_scores(val_output,preds)"
   ],
   "id": "f71b47294a35103",
   "outputs": [
    {
     "data": {
      "text/plain": [
       "0.3703703703703704"
      ]
     },
     "execution_count": 96,
     "metadata": {},
     "output_type": "execute_result"
    }
   ],
   "execution_count": 96
  },
  {
   "metadata": {},
   "cell_type": "code",
   "outputs": [],
   "execution_count": null,
   "source": "",
   "id": "4a899bb735265b2d"
  }
 ],
 "metadata": {
  "kernelspec": {
   "display_name": "Python 3",
   "language": "python",
   "name": "python3"
  },
  "language_info": {
   "codemirror_mode": {
    "name": "ipython",
    "version": 2
   },
   "file_extension": ".py",
   "mimetype": "text/x-python",
   "name": "python",
   "nbconvert_exporter": "python",
   "pygments_lexer": "ipython2",
   "version": "2.7.6"
  }
 },
 "nbformat": 4,
 "nbformat_minor": 5
}
