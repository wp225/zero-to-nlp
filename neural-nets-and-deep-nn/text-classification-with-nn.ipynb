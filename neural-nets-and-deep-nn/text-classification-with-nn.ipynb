{
 "cells": [
  {
   "cell_type": "code",
   "id": "initial_id",
   "metadata": {
    "collapsed": true,
    "ExecuteTime": {
     "end_time": "2024-07-20T03:37:23.623156Z",
     "start_time": "2024-07-20T03:37:23.621602Z"
    }
   },
   "source": "import pandas as pd",
   "outputs": [],
   "execution_count": 1
  },
  {
   "metadata": {
    "ExecuteTime": {
     "end_time": "2024-07-20T03:37:48.275158Z",
     "start_time": "2024-07-20T03:37:46.151472Z"
    }
   },
   "cell_type": "code",
   "source": [
    "train_frame = pd.read_csv('../train.csv')\n",
    "test_frame = pd.read_csv('../test.csv')"
   ],
   "id": "2ca5561b769224c4",
   "outputs": [],
   "execution_count": 4
  },
  {
   "metadata": {
    "ExecuteTime": {
     "end_time": "2024-07-20T03:37:53.061249Z",
     "start_time": "2024-07-20T03:37:52.881224Z"
    }
   },
   "cell_type": "code",
   "source": [
    "train_frame = train_frame.sample(frac=0.1, random_state=123)\n",
    "train_frame.shape"
   ],
   "id": "bd9b551ac64382fc",
   "outputs": [
    {
     "data": {
      "text/plain": [
       "(130612, 3)"
      ]
     },
     "execution_count": 5,
     "metadata": {},
     "output_type": "execute_result"
    }
   ],
   "execution_count": 5
  },
  {
   "metadata": {
    "ExecuteTime": {
     "end_time": "2024-07-20T03:39:15.777450Z",
     "start_time": "2024-07-20T03:39:15.771248Z"
    }
   },
   "cell_type": "code",
   "source": "train_frame['target'].value_counts(normalize=True)",
   "id": "5d0dcc737548bb8",
   "outputs": [
    {
     "data": {
      "text/plain": [
       "target\n",
       "0    0.939117\n",
       "1    0.060883\n",
       "Name: proportion, dtype: float64"
      ]
     },
     "execution_count": 9,
     "metadata": {},
     "output_type": "execute_result"
    }
   ],
   "execution_count": 9
  },
  {
   "metadata": {},
   "cell_type": "markdown",
   "source": [
    "## Prepare data for training\n",
    "1. Convert to TF-IDF vectors\n",
    "2. Convert vectors to PyTorch tensors\n",
    "3. Create PyTorch dataloaders"
   ],
   "id": "213d4ee6aee3bb"
  },
  {
   "metadata": {},
   "cell_type": "markdown",
   "source": "### Convert to TF-IDF vectors ",
   "id": "37b333cb8457eb57"
  },
  {
   "metadata": {
    "ExecuteTime": {
     "end_time": "2024-07-20T04:46:18.726650Z",
     "start_time": "2024-07-20T04:46:18.722127Z"
    }
   },
   "cell_type": "code",
   "source": [
    "from sklearn.feature_extraction.text import TfidfVectorizer\n",
    "from nltk.tokenize import word_tokenize\n",
    "from nltk.stem import SnowballStemmer\n",
    "from nltk.corpus import stopwords"
   ],
   "id": "b969d73ba79188e3",
   "outputs": [],
   "execution_count": 33
  },
  {
   "metadata": {},
   "cell_type": "markdown",
   "source": [
    "w = tf * log(N/df) <br>\n",
    "w = frequency of x in doc y <br>\n",
    "N = total doc <br>\n",
    "df = total doc where x is present\n"
   ],
   "id": "43aa0c577b1bd124"
  },
  {
   "metadata": {
    "ExecuteTime": {
     "end_time": "2024-07-20T04:46:19.441514Z",
     "start_time": "2024-07-20T04:46:19.435857Z"
    }
   },
   "cell_type": "code",
   "source": [
    "stemmer = SnowballStemmer(language='english')\n",
    "english_stopword = stopwords.words('english')"
   ],
   "id": "d5391d5f8042b238",
   "outputs": [],
   "execution_count": 34
  },
  {
   "metadata": {
    "ExecuteTime": {
     "end_time": "2024-07-20T04:43:41.447410Z",
     "start_time": "2024-07-20T04:43:41.438558Z"
    }
   },
   "cell_type": "code",
   "source": [
    "def tokenize(text):\n",
    "    return [stemmer.stem(word) for word in word_tokenize(text)]"
   ],
   "id": "e10fc5306a90f01a",
   "outputs": [
    {
     "data": {
      "text/plain": [
       "['go', ',', 'gone', ',', 'goe']"
      ]
     },
     "execution_count": 31,
     "metadata": {},
     "output_type": "execute_result"
    }
   ],
   "execution_count": 31
  },
  {
   "metadata": {
    "ExecuteTime": {
     "end_time": "2024-07-20T04:47:15.246126Z",
     "start_time": "2024-07-20T04:47:15.240109Z"
    }
   },
   "cell_type": "code",
   "source": [
    "vectorizer = TfidfVectorizer(\n",
    "    tokenizer=tokenize,\n",
    "    stop_words=english_stopword,\n",
    "    max_features=1000,\n",
    "\n",
    ")"
   ],
   "id": "192425179145579",
   "outputs": [],
   "execution_count": 35
  },
  {
   "metadata": {
    "ExecuteTime": {
     "end_time": "2024-07-20T04:48:17.129277Z",
     "start_time": "2024-07-20T04:48:03.070449Z"
    }
   },
   "cell_type": "code",
   "source": [
    "%%time\n",
    "vectorizer.fit(train_frame.question_text)"
   ],
   "id": "d1b7bffcae19c68c",
   "outputs": [
    {
     "name": "stderr",
     "output_type": "stream",
     "text": [
      "/Users/anshujoshi/anaconda3/envs/cancer/lib/python3.8/site-packages/sklearn/feature_extraction/text.py:525: UserWarning: The parameter 'token_pattern' will not be used since 'tokenizer' is not None'\n",
      "  warnings.warn(\n",
      "/Users/anshujoshi/anaconda3/envs/cancer/lib/python3.8/site-packages/sklearn/feature_extraction/text.py:408: UserWarning: Your stop_words may be inconsistent with your preprocessing. Tokenizing the stop words generated tokens [\"'d\", \"'s\", 'abov', 'ani', 'becaus', 'befor', 'could', 'doe', 'dure', 'might', 'must', \"n't\", 'need', 'onc', 'onli', 'ourselv', 'sha', 'themselv', 'veri', 'whi', 'wo', 'would', 'yourselv'] not in stop_words.\n",
      "  warnings.warn(\n"
     ]
    },
    {
     "name": "stdout",
     "output_type": "stream",
     "text": [
      "CPU times: user 13.8 s, sys: 165 ms, total: 14 s\n",
      "Wall time: 14.1 s\n"
     ]
    },
    {
     "data": {
      "text/plain": [
       "TfidfVectorizer(max_features=1000,\n",
       "                stop_words=['i', 'me', 'my', 'myself', 'we', 'our', 'ours',\n",
       "                            'ourselves', 'you', \"you're\", \"you've\", \"you'll\",\n",
       "                            \"you'd\", 'your', 'yours', 'yourself', 'yourselves',\n",
       "                            'he', 'him', 'his', 'himself', 'she', \"she's\",\n",
       "                            'her', 'hers', 'herself', 'it', \"it's\", 'its',\n",
       "                            'itself', ...],\n",
       "                tokenizer=<function tokenize at 0x2914f8f70>)"
      ],
      "text/html": [
       "<style>#sk-container-id-1 {color: black;}#sk-container-id-1 pre{padding: 0;}#sk-container-id-1 div.sk-toggleable {background-color: white;}#sk-container-id-1 label.sk-toggleable__label {cursor: pointer;display: block;width: 100%;margin-bottom: 0;padding: 0.3em;box-sizing: border-box;text-align: center;}#sk-container-id-1 label.sk-toggleable__label-arrow:before {content: \"▸\";float: left;margin-right: 0.25em;color: #696969;}#sk-container-id-1 label.sk-toggleable__label-arrow:hover:before {color: black;}#sk-container-id-1 div.sk-estimator:hover label.sk-toggleable__label-arrow:before {color: black;}#sk-container-id-1 div.sk-toggleable__content {max-height: 0;max-width: 0;overflow: hidden;text-align: left;background-color: #f0f8ff;}#sk-container-id-1 div.sk-toggleable__content pre {margin: 0.2em;color: black;border-radius: 0.25em;background-color: #f0f8ff;}#sk-container-id-1 input.sk-toggleable__control:checked~div.sk-toggleable__content {max-height: 200px;max-width: 100%;overflow: auto;}#sk-container-id-1 input.sk-toggleable__control:checked~label.sk-toggleable__label-arrow:before {content: \"▾\";}#sk-container-id-1 div.sk-estimator input.sk-toggleable__control:checked~label.sk-toggleable__label {background-color: #d4ebff;}#sk-container-id-1 div.sk-label input.sk-toggleable__control:checked~label.sk-toggleable__label {background-color: #d4ebff;}#sk-container-id-1 input.sk-hidden--visually {border: 0;clip: rect(1px 1px 1px 1px);clip: rect(1px, 1px, 1px, 1px);height: 1px;margin: -1px;overflow: hidden;padding: 0;position: absolute;width: 1px;}#sk-container-id-1 div.sk-estimator {font-family: monospace;background-color: #f0f8ff;border: 1px dotted black;border-radius: 0.25em;box-sizing: border-box;margin-bottom: 0.5em;}#sk-container-id-1 div.sk-estimator:hover {background-color: #d4ebff;}#sk-container-id-1 div.sk-parallel-item::after {content: \"\";width: 100%;border-bottom: 1px solid gray;flex-grow: 1;}#sk-container-id-1 div.sk-label:hover label.sk-toggleable__label {background-color: #d4ebff;}#sk-container-id-1 div.sk-serial::before {content: \"\";position: absolute;border-left: 1px solid gray;box-sizing: border-box;top: 0;bottom: 0;left: 50%;z-index: 0;}#sk-container-id-1 div.sk-serial {display: flex;flex-direction: column;align-items: center;background-color: white;padding-right: 0.2em;padding-left: 0.2em;position: relative;}#sk-container-id-1 div.sk-item {position: relative;z-index: 1;}#sk-container-id-1 div.sk-parallel {display: flex;align-items: stretch;justify-content: center;background-color: white;position: relative;}#sk-container-id-1 div.sk-item::before, #sk-container-id-1 div.sk-parallel-item::before {content: \"\";position: absolute;border-left: 1px solid gray;box-sizing: border-box;top: 0;bottom: 0;left: 50%;z-index: -1;}#sk-container-id-1 div.sk-parallel-item {display: flex;flex-direction: column;z-index: 1;position: relative;background-color: white;}#sk-container-id-1 div.sk-parallel-item:first-child::after {align-self: flex-end;width: 50%;}#sk-container-id-1 div.sk-parallel-item:last-child::after {align-self: flex-start;width: 50%;}#sk-container-id-1 div.sk-parallel-item:only-child::after {width: 0;}#sk-container-id-1 div.sk-dashed-wrapped {border: 1px dashed gray;margin: 0 0.4em 0.5em 0.4em;box-sizing: border-box;padding-bottom: 0.4em;background-color: white;}#sk-container-id-1 div.sk-label label {font-family: monospace;font-weight: bold;display: inline-block;line-height: 1.2em;}#sk-container-id-1 div.sk-label-container {text-align: center;}#sk-container-id-1 div.sk-container {/* jupyter's `normalize.less` sets `[hidden] { display: none; }` but bootstrap.min.css set `[hidden] { display: none !important; }` so we also need the `!important` here to be able to override the default hidden behavior on the sphinx rendered scikit-learn.org. See: https://github.com/scikit-learn/scikit-learn/issues/21755 */display: inline-block !important;position: relative;}#sk-container-id-1 div.sk-text-repr-fallback {display: none;}</style><div id=\"sk-container-id-1\" class=\"sk-top-container\"><div class=\"sk-text-repr-fallback\"><pre>TfidfVectorizer(max_features=1000,\n",
       "                stop_words=[&#x27;i&#x27;, &#x27;me&#x27;, &#x27;my&#x27;, &#x27;myself&#x27;, &#x27;we&#x27;, &#x27;our&#x27;, &#x27;ours&#x27;,\n",
       "                            &#x27;ourselves&#x27;, &#x27;you&#x27;, &quot;you&#x27;re&quot;, &quot;you&#x27;ve&quot;, &quot;you&#x27;ll&quot;,\n",
       "                            &quot;you&#x27;d&quot;, &#x27;your&#x27;, &#x27;yours&#x27;, &#x27;yourself&#x27;, &#x27;yourselves&#x27;,\n",
       "                            &#x27;he&#x27;, &#x27;him&#x27;, &#x27;his&#x27;, &#x27;himself&#x27;, &#x27;she&#x27;, &quot;she&#x27;s&quot;,\n",
       "                            &#x27;her&#x27;, &#x27;hers&#x27;, &#x27;herself&#x27;, &#x27;it&#x27;, &quot;it&#x27;s&quot;, &#x27;its&#x27;,\n",
       "                            &#x27;itself&#x27;, ...],\n",
       "                tokenizer=&lt;function tokenize at 0x2914f8f70&gt;)</pre><b>In a Jupyter environment, please rerun this cell to show the HTML representation or trust the notebook. <br />On GitHub, the HTML representation is unable to render, please try loading this page with nbviewer.org.</b></div><div class=\"sk-container\" hidden><div class=\"sk-item\"><div class=\"sk-estimator sk-toggleable\"><input class=\"sk-toggleable__control sk-hidden--visually\" id=\"sk-estimator-id-1\" type=\"checkbox\" checked><label for=\"sk-estimator-id-1\" class=\"sk-toggleable__label sk-toggleable__label-arrow\">TfidfVectorizer</label><div class=\"sk-toggleable__content\"><pre>TfidfVectorizer(max_features=1000,\n",
       "                stop_words=[&#x27;i&#x27;, &#x27;me&#x27;, &#x27;my&#x27;, &#x27;myself&#x27;, &#x27;we&#x27;, &#x27;our&#x27;, &#x27;ours&#x27;,\n",
       "                            &#x27;ourselves&#x27;, &#x27;you&#x27;, &quot;you&#x27;re&quot;, &quot;you&#x27;ve&quot;, &quot;you&#x27;ll&quot;,\n",
       "                            &quot;you&#x27;d&quot;, &#x27;your&#x27;, &#x27;yours&#x27;, &#x27;yourself&#x27;, &#x27;yourselves&#x27;,\n",
       "                            &#x27;he&#x27;, &#x27;him&#x27;, &#x27;his&#x27;, &#x27;himself&#x27;, &#x27;she&#x27;, &quot;she&#x27;s&quot;,\n",
       "                            &#x27;her&#x27;, &#x27;hers&#x27;, &#x27;herself&#x27;, &#x27;it&#x27;, &quot;it&#x27;s&quot;, &#x27;its&#x27;,\n",
       "                            &#x27;itself&#x27;, ...],\n",
       "                tokenizer=&lt;function tokenize at 0x2914f8f70&gt;)</pre></div></div></div></div></div>"
      ]
     },
     "execution_count": 36,
     "metadata": {},
     "output_type": "execute_result"
    }
   ],
   "execution_count": 36
  },
  {
   "metadata": {
    "ExecuteTime": {
     "end_time": "2024-07-20T04:49:11.312521Z",
     "start_time": "2024-07-20T04:49:11.299644Z"
    }
   },
   "cell_type": "code",
   "source": "vectorizer.get_feature_names_out()[:100]",
   "id": "bf979aac12ccf680",
   "outputs": [
    {
     "data": {
      "text/plain": [
       "array(['!', '$', '%', '&', \"'\", \"''\", \"'m\", \"'s\", '(', ')', ',', '-', '.',\n",
       "       '1', '10', '100', '12', '12th', '15', '2', '20', '2017', '2018',\n",
       "       '3', '4', '5', '6', '7', '8', ':', '?', '[', ']', '``', 'abl',\n",
       "       'abus', 'accept', 'accomplish', 'accord', 'account', 'achiev',\n",
       "       'act', 'action', 'activ', 'actor', 'actual', 'ad', 'add',\n",
       "       'address', 'admiss', 'adult', 'advanc', 'advantag', 'advic',\n",
       "       'affect', 'africa', 'african', 'age', 'ago', 'air', 'alcohol',\n",
       "       'allow', 'alon', 'along', 'alreadi', 'also', 'altern', 'alway',\n",
       "       'amazon', 'america', 'american', 'among', 'amount', 'analysi',\n",
       "       'android', 'ani', 'anim', 'anoth', 'answer', 'anxieti', 'anyon',\n",
       "       'anyth', 'apart', 'app', 'appear', 'appl', 'appli', 'applic',\n",
       "       'approach', 'arab', 'area', 'armi', 'around', 'art', 'asian',\n",
       "       'ask', 'atheist', 'attack', 'attend', 'attract'], dtype=object)"
      ]
     },
     "execution_count": 38,
     "metadata": {},
     "output_type": "execute_result"
    }
   ],
   "execution_count": 38
  },
  {
   "metadata": {
    "ExecuteTime": {
     "end_time": "2024-07-20T04:49:57.326508Z",
     "start_time": "2024-07-20T04:49:43.276359Z"
    }
   },
   "cell_type": "code",
   "source": [
    "%%time\n",
    "inputs = vectorizer.transform(train_frame.question_text)"
   ],
   "id": "f1bb0c1cc08107f8",
   "outputs": [
    {
     "name": "stdout",
     "output_type": "stream",
     "text": [
      "CPU times: user 13.9 s, sys: 123 ms, total: 14 s\n",
      "Wall time: 14 s\n"
     ]
    }
   ],
   "execution_count": 39
  },
  {
   "metadata": {
    "ExecuteTime": {
     "end_time": "2024-07-20T04:51:48.979104Z",
     "start_time": "2024-07-20T04:51:08.930194Z"
    }
   },
   "cell_type": "code",
   "source": [
    "%%time\n",
    "test_input = vectorizer.transform(test_frame.question_text)"
   ],
   "id": "ae624c43efc4bfde",
   "outputs": [
    {
     "name": "stdout",
     "output_type": "stream",
     "text": [
      "CPU times: user 39.7 s, sys: 264 ms, total: 40 s\n",
      "Wall time: 40 s\n"
     ]
    }
   ],
   "execution_count": 40
  },
  {
   "metadata": {
    "ExecuteTime": {
     "end_time": "2024-07-20T04:52:59.417573Z",
     "start_time": "2024-07-20T04:52:59.415140Z"
    }
   },
   "cell_type": "code",
   "source": [
    "print(inputs.shape)\n",
    "print(test_input.shape)"
   ],
   "id": "d90c51c98c3c8900",
   "outputs": [
    {
     "name": "stdout",
     "output_type": "stream",
     "text": [
      "(130612, 1000)\n",
      "(375806, 1000)\n"
     ]
    }
   ],
   "execution_count": 42
  },
  {
   "metadata": {},
   "cell_type": "markdown",
   "source": "#### Spliting data",
   "id": "d81008d5b9217141"
  },
  {
   "metadata": {
    "ExecuteTime": {
     "end_time": "2024-07-20T04:54:54.312971Z",
     "start_time": "2024-07-20T04:54:54.292265Z"
    }
   },
   "cell_type": "code",
   "source": [
    "from sklearn.model_selection import train_test_split\n",
    "train_inputs, val_inputs, train_targets, val_targets = train_test_split(\n",
    "    inputs,\n",
    "    train_frame.target,\n",
    "    random_state=124,\n",
    "    test_size=0.3\n",
    ")"
   ],
   "id": "4d667505c5ee792",
   "outputs": [],
   "execution_count": 44
  },
  {
   "metadata": {
    "ExecuteTime": {
     "end_time": "2024-07-20T04:55:17.292937Z",
     "start_time": "2024-07-20T04:55:17.290179Z"
    }
   },
   "cell_type": "code",
   "source": [
    "print(train_inputs.shape)\n",
    "print(train_targets.shape)"
   ],
   "id": "97a83322a3322ff2",
   "outputs": [
    {
     "name": "stdout",
     "output_type": "stream",
     "text": [
      "(91428, 1000)\n",
      "(91428,)\n"
     ]
    }
   ],
   "execution_count": 45
  },
  {
   "metadata": {},
   "cell_type": "markdown",
   "source": " ### Convert to pytorch tensors",
   "id": "e77433d3bab1d0ad"
  },
  {
   "metadata": {
    "ExecuteTime": {
     "end_time": "2024-07-20T04:56:34.821831Z",
     "start_time": "2024-07-20T04:56:31.412197Z"
    }
   },
   "cell_type": "code",
   "source": "import torch\n",
   "id": "10392bef80b6be3b",
   "outputs": [],
   "execution_count": 46
  },
  {
   "metadata": {
    "ExecuteTime": {
     "end_time": "2024-07-20T05:01:28.918113Z",
     "start_time": "2024-07-20T05:01:28.233469Z"
    }
   },
   "cell_type": "code",
   "source": [
    "train_inputs_tensors = torch.tensor(train_inputs.toarray()).float()\n",
    "val_inputs_tensors = torch.tensor(val_inputs.toarray()).float()\n",
    "train_inputs_tensors.shape\n"
   ],
   "id": "621135b217b2f01b",
   "outputs": [
    {
     "data": {
      "text/plain": [
       "torch.Size([91428, 1000])"
      ]
     },
     "execution_count": 58,
     "metadata": {},
     "output_type": "execute_result"
    }
   ],
   "execution_count": 58
  },
  {
   "metadata": {
    "ExecuteTime": {
     "end_time": "2024-07-20T05:02:00.473406Z",
     "start_time": "2024-07-20T05:02:00.468385Z"
    }
   },
   "cell_type": "code",
   "source": [
    "train_target_tensors = torch.tensor(train_targets.values)\n",
    "val_target_tensors = torch.tensor(val_targets.values)\n",
    "print(train_target_tensors.shape)"
   ],
   "id": "ca1bbdfdfdd6da6e",
   "outputs": [
    {
     "name": "stdout",
     "output_type": "stream",
     "text": [
      "torch.Size([91428])\n"
     ]
    }
   ],
   "execution_count": 60
  },
  {
   "metadata": {
    "ExecuteTime": {
     "end_time": "2024-07-20T05:30:32.292477Z",
     "start_time": "2024-07-20T05:30:32.284769Z"
    }
   },
   "cell_type": "code",
   "source": [
    "from torch.utils.data import TensorDataset, DataLoader\n",
    "train_dataset = TensorDataset(train_inputs_tensors,train_target_tensors)\n",
    "val_dataset = TensorDataset(val_inputs_tensors,val_target_tensors)"
   ],
   "id": "c4aa389ed0e1bb61",
   "outputs": [],
   "execution_count": 68
  },
  {
   "metadata": {
    "ExecuteTime": {
     "end_time": "2024-07-20T05:32:09.852096Z",
     "start_time": "2024-07-20T05:32:09.812765Z"
    }
   },
   "cell_type": "code",
   "source": [
    "train_dataloader = DataLoader(train_dataset,batch_size=128,shuffle=True)\n",
    "val_dataloader = DataLoader(val_dataset,batch_size=128)"
   ],
   "id": "7903bece671a497b",
   "outputs": [],
   "execution_count": 69
  },
  {
   "metadata": {},
   "cell_type": "markdown",
   "source": "#### NN network ",
   "id": "6bafd1e5522f90c5"
  },
  {
   "metadata": {},
   "cell_type": "code",
   "outputs": [],
   "execution_count": null,
   "source": [
    "class classifier(torch.nn):\n",
    "    def __init__(self):\n",
    "        self.layer = True"
   ],
   "id": "3e5ed18e193c85cc"
  },
  {
   "metadata": {},
   "cell_type": "code",
   "outputs": [],
   "execution_count": null,
   "source": "",
   "id": "8400f3d57a54423d"
  },
  {
   "metadata": {},
   "cell_type": "code",
   "outputs": [],
   "execution_count": null,
   "source": "",
   "id": "54836bdc98457b55"
  }
 ],
 "metadata": {
  "kernelspec": {
   "display_name": "Python 3",
   "language": "python",
   "name": "python3"
  },
  "language_info": {
   "codemirror_mode": {
    "name": "ipython",
    "version": 2
   },
   "file_extension": ".py",
   "mimetype": "text/x-python",
   "name": "python",
   "nbconvert_exporter": "python",
   "pygments_lexer": "ipython2",
   "version": "2.7.6"
  }
 },
 "nbformat": 4,
 "nbformat_minor": 5
}
