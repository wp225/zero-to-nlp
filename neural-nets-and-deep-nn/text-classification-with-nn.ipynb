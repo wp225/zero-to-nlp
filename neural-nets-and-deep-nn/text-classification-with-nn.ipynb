{
 "cells": [
  {
   "cell_type": "code",
   "id": "initial_id",
   "metadata": {
    "collapsed": true,
    "ExecuteTime": {
     "end_time": "2024-07-24T03:02:07.682753Z",
     "start_time": "2024-07-24T03:02:07.678370Z"
    }
   },
   "source": "import pandas as pd",
   "outputs": [],
   "execution_count": 16
  },
  {
   "metadata": {
    "ExecuteTime": {
     "end_time": "2024-07-24T08:43:15.634627Z",
     "start_time": "2024-07-24T08:43:13.400378Z"
    }
   },
   "cell_type": "code",
   "source": [
    "train_frame = pd.read_csv('../train.csv')\n",
    "test_frame = pd.read_csv('../test.csv')"
   ],
   "id": "2ca5561b769224c4",
   "outputs": [],
   "execution_count": 86
  },
  {
   "metadata": {
    "ExecuteTime": {
     "end_time": "2024-07-24T08:43:15.670422Z",
     "start_time": "2024-07-24T08:43:15.635669Z"
    }
   },
   "cell_type": "code",
   "source": [
    "sample_df = train_frame.sample(frac=0.1, random_state=123)\n",
    "sample_df.shape"
   ],
   "id": "73c629c6f5a9023a",
   "outputs": [
    {
     "data": {
      "text/plain": [
       "(130612, 3)"
      ]
     },
     "execution_count": 87,
     "metadata": {},
     "output_type": "execute_result"
    }
   ],
   "execution_count": 87
  },
  {
   "metadata": {
    "ExecuteTime": {
     "end_time": "2024-07-24T08:42:13.529390Z",
     "start_time": "2024-07-24T08:42:13.522022Z"
    }
   },
   "cell_type": "code",
   "source": [
    "import nltk\n",
    "from nltk.tokenize import word_tokenize\n",
    "from nltk.stem import SnowballStemmer\n",
    "from nltk.corpus import stopwords\n",
    "from sklearn.feature_extraction.text import TfidfVectorizer"
   ],
   "id": "97d85166919c49ae",
   "outputs": [],
   "execution_count": 80
  },
  {
   "metadata": {
    "ExecuteTime": {
     "end_time": "2024-07-24T08:42:15.498498Z",
     "start_time": "2024-07-24T08:42:15.495088Z"
    }
   },
   "cell_type": "code",
   "source": [
    "stemmer = SnowballStemmer(language='english')\n",
    "\n",
    "def tokenize(text):\n",
    "    return [stemmer.stem(token) for token in word_tokenize(text)]"
   ],
   "id": "3de1235e2fdbea43",
   "outputs": [],
   "execution_count": 81
  },
  {
   "metadata": {
    "ExecuteTime": {
     "end_time": "2024-07-24T08:42:15.937459Z",
     "start_time": "2024-07-24T08:42:15.932780Z"
    }
   },
   "cell_type": "code",
   "source": "english_stopwords = stopwords.words('english')",
   "id": "e34ffe592ef3ad77",
   "outputs": [],
   "execution_count": 82
  },
  {
   "metadata": {
    "ExecuteTime": {
     "end_time": "2024-07-24T08:42:19.013135Z",
     "start_time": "2024-07-24T08:42:19.009941Z"
    }
   },
   "cell_type": "code",
   "source": [
    "vectorizer = TfidfVectorizer(lowercase=True, \n",
    "                             tokenizer=tokenize,\n",
    "                             stop_words=english_stopwords,\n",
    "                             max_features=1000)"
   ],
   "id": "3474a26c1c19c491",
   "outputs": [],
   "execution_count": 83
  },
  {
   "metadata": {
    "ExecuteTime": {
     "end_time": "2024-07-24T08:43:36.239192Z",
     "start_time": "2024-07-24T08:43:21.386286Z"
    }
   },
   "cell_type": "code",
   "source": [
    "%%time\n",
    "vectorizer.fit(sample_df.question_text)"
   ],
   "id": "bd9b551ac64382fc",
   "outputs": [
    {
     "name": "stderr",
     "output_type": "stream",
     "text": [
      "/Users/anshujoshi/anaconda3/envs/cancer/lib/python3.8/site-packages/sklearn/feature_extraction/text.py:525: UserWarning: The parameter 'token_pattern' will not be used since 'tokenizer' is not None'\n",
      "  warnings.warn(\n",
      "/Users/anshujoshi/anaconda3/envs/cancer/lib/python3.8/site-packages/sklearn/feature_extraction/text.py:408: UserWarning: Your stop_words may be inconsistent with your preprocessing. Tokenizing the stop words generated tokens [\"'d\", \"'s\", 'abov', 'ani', 'becaus', 'befor', 'could', 'doe', 'dure', 'might', 'must', \"n't\", 'need', 'onc', 'onli', 'ourselv', 'sha', 'themselv', 'veri', 'whi', 'wo', 'would', 'yourselv'] not in stop_words.\n",
      "  warnings.warn(\n"
     ]
    },
    {
     "name": "stdout",
     "output_type": "stream",
     "text": [
      "CPU times: user 14.5 s, sys: 171 ms, total: 14.7 s\n",
      "Wall time: 14.8 s\n"
     ]
    },
    {
     "data": {
      "text/plain": [
       "TfidfVectorizer(max_features=1000,\n",
       "                stop_words=['i', 'me', 'my', 'myself', 'we', 'our', 'ours',\n",
       "                            'ourselves', 'you', \"you're\", \"you've\", \"you'll\",\n",
       "                            \"you'd\", 'your', 'yours', 'yourself', 'yourselves',\n",
       "                            'he', 'him', 'his', 'himself', 'she', \"she's\",\n",
       "                            'her', 'hers', 'herself', 'it', \"it's\", 'its',\n",
       "                            'itself', ...],\n",
       "                tokenizer=<function tokenize at 0x28d322d30>)"
      ],
      "text/html": [
       "<style>#sk-container-id-2 {color: black;}#sk-container-id-2 pre{padding: 0;}#sk-container-id-2 div.sk-toggleable {background-color: white;}#sk-container-id-2 label.sk-toggleable__label {cursor: pointer;display: block;width: 100%;margin-bottom: 0;padding: 0.3em;box-sizing: border-box;text-align: center;}#sk-container-id-2 label.sk-toggleable__label-arrow:before {content: \"▸\";float: left;margin-right: 0.25em;color: #696969;}#sk-container-id-2 label.sk-toggleable__label-arrow:hover:before {color: black;}#sk-container-id-2 div.sk-estimator:hover label.sk-toggleable__label-arrow:before {color: black;}#sk-container-id-2 div.sk-toggleable__content {max-height: 0;max-width: 0;overflow: hidden;text-align: left;background-color: #f0f8ff;}#sk-container-id-2 div.sk-toggleable__content pre {margin: 0.2em;color: black;border-radius: 0.25em;background-color: #f0f8ff;}#sk-container-id-2 input.sk-toggleable__control:checked~div.sk-toggleable__content {max-height: 200px;max-width: 100%;overflow: auto;}#sk-container-id-2 input.sk-toggleable__control:checked~label.sk-toggleable__label-arrow:before {content: \"▾\";}#sk-container-id-2 div.sk-estimator input.sk-toggleable__control:checked~label.sk-toggleable__label {background-color: #d4ebff;}#sk-container-id-2 div.sk-label input.sk-toggleable__control:checked~label.sk-toggleable__label {background-color: #d4ebff;}#sk-container-id-2 input.sk-hidden--visually {border: 0;clip: rect(1px 1px 1px 1px);clip: rect(1px, 1px, 1px, 1px);height: 1px;margin: -1px;overflow: hidden;padding: 0;position: absolute;width: 1px;}#sk-container-id-2 div.sk-estimator {font-family: monospace;background-color: #f0f8ff;border: 1px dotted black;border-radius: 0.25em;box-sizing: border-box;margin-bottom: 0.5em;}#sk-container-id-2 div.sk-estimator:hover {background-color: #d4ebff;}#sk-container-id-2 div.sk-parallel-item::after {content: \"\";width: 100%;border-bottom: 1px solid gray;flex-grow: 1;}#sk-container-id-2 div.sk-label:hover label.sk-toggleable__label {background-color: #d4ebff;}#sk-container-id-2 div.sk-serial::before {content: \"\";position: absolute;border-left: 1px solid gray;box-sizing: border-box;top: 0;bottom: 0;left: 50%;z-index: 0;}#sk-container-id-2 div.sk-serial {display: flex;flex-direction: column;align-items: center;background-color: white;padding-right: 0.2em;padding-left: 0.2em;position: relative;}#sk-container-id-2 div.sk-item {position: relative;z-index: 1;}#sk-container-id-2 div.sk-parallel {display: flex;align-items: stretch;justify-content: center;background-color: white;position: relative;}#sk-container-id-2 div.sk-item::before, #sk-container-id-2 div.sk-parallel-item::before {content: \"\";position: absolute;border-left: 1px solid gray;box-sizing: border-box;top: 0;bottom: 0;left: 50%;z-index: -1;}#sk-container-id-2 div.sk-parallel-item {display: flex;flex-direction: column;z-index: 1;position: relative;background-color: white;}#sk-container-id-2 div.sk-parallel-item:first-child::after {align-self: flex-end;width: 50%;}#sk-container-id-2 div.sk-parallel-item:last-child::after {align-self: flex-start;width: 50%;}#sk-container-id-2 div.sk-parallel-item:only-child::after {width: 0;}#sk-container-id-2 div.sk-dashed-wrapped {border: 1px dashed gray;margin: 0 0.4em 0.5em 0.4em;box-sizing: border-box;padding-bottom: 0.4em;background-color: white;}#sk-container-id-2 div.sk-label label {font-family: monospace;font-weight: bold;display: inline-block;line-height: 1.2em;}#sk-container-id-2 div.sk-label-container {text-align: center;}#sk-container-id-2 div.sk-container {/* jupyter's `normalize.less` sets `[hidden] { display: none; }` but bootstrap.min.css set `[hidden] { display: none !important; }` so we also need the `!important` here to be able to override the default hidden behavior on the sphinx rendered scikit-learn.org. See: https://github.com/scikit-learn/scikit-learn/issues/21755 */display: inline-block !important;position: relative;}#sk-container-id-2 div.sk-text-repr-fallback {display: none;}</style><div id=\"sk-container-id-2\" class=\"sk-top-container\"><div class=\"sk-text-repr-fallback\"><pre>TfidfVectorizer(max_features=1000,\n",
       "                stop_words=[&#x27;i&#x27;, &#x27;me&#x27;, &#x27;my&#x27;, &#x27;myself&#x27;, &#x27;we&#x27;, &#x27;our&#x27;, &#x27;ours&#x27;,\n",
       "                            &#x27;ourselves&#x27;, &#x27;you&#x27;, &quot;you&#x27;re&quot;, &quot;you&#x27;ve&quot;, &quot;you&#x27;ll&quot;,\n",
       "                            &quot;you&#x27;d&quot;, &#x27;your&#x27;, &#x27;yours&#x27;, &#x27;yourself&#x27;, &#x27;yourselves&#x27;,\n",
       "                            &#x27;he&#x27;, &#x27;him&#x27;, &#x27;his&#x27;, &#x27;himself&#x27;, &#x27;she&#x27;, &quot;she&#x27;s&quot;,\n",
       "                            &#x27;her&#x27;, &#x27;hers&#x27;, &#x27;herself&#x27;, &#x27;it&#x27;, &quot;it&#x27;s&quot;, &#x27;its&#x27;,\n",
       "                            &#x27;itself&#x27;, ...],\n",
       "                tokenizer=&lt;function tokenize at 0x28d322d30&gt;)</pre><b>In a Jupyter environment, please rerun this cell to show the HTML representation or trust the notebook. <br />On GitHub, the HTML representation is unable to render, please try loading this page with nbviewer.org.</b></div><div class=\"sk-container\" hidden><div class=\"sk-item\"><div class=\"sk-estimator sk-toggleable\"><input class=\"sk-toggleable__control sk-hidden--visually\" id=\"sk-estimator-id-2\" type=\"checkbox\" checked><label for=\"sk-estimator-id-2\" class=\"sk-toggleable__label sk-toggleable__label-arrow\">TfidfVectorizer</label><div class=\"sk-toggleable__content\"><pre>TfidfVectorizer(max_features=1000,\n",
       "                stop_words=[&#x27;i&#x27;, &#x27;me&#x27;, &#x27;my&#x27;, &#x27;myself&#x27;, &#x27;we&#x27;, &#x27;our&#x27;, &#x27;ours&#x27;,\n",
       "                            &#x27;ourselves&#x27;, &#x27;you&#x27;, &quot;you&#x27;re&quot;, &quot;you&#x27;ve&quot;, &quot;you&#x27;ll&quot;,\n",
       "                            &quot;you&#x27;d&quot;, &#x27;your&#x27;, &#x27;yours&#x27;, &#x27;yourself&#x27;, &#x27;yourselves&#x27;,\n",
       "                            &#x27;he&#x27;, &#x27;him&#x27;, &#x27;his&#x27;, &#x27;himself&#x27;, &#x27;she&#x27;, &quot;she&#x27;s&quot;,\n",
       "                            &#x27;her&#x27;, &#x27;hers&#x27;, &#x27;herself&#x27;, &#x27;it&#x27;, &quot;it&#x27;s&quot;, &#x27;its&#x27;,\n",
       "                            &#x27;itself&#x27;, ...],\n",
       "                tokenizer=&lt;function tokenize at 0x28d322d30&gt;)</pre></div></div></div></div></div>"
      ]
     },
     "execution_count": 88,
     "metadata": {},
     "output_type": "execute_result"
    }
   ],
   "execution_count": 88
  },
  {
   "metadata": {
    "ExecuteTime": {
     "end_time": "2024-07-24T08:43:50.574088Z",
     "start_time": "2024-07-24T08:43:36.240531Z"
    }
   },
   "cell_type": "code",
   "source": [
    "%%time\n",
    "inputs = vectorizer.transform(sample_df.question_text)"
   ],
   "id": "6e5f5fbdf4a58a24",
   "outputs": [
    {
     "name": "stdout",
     "output_type": "stream",
     "text": [
      "CPU times: user 14.1 s, sys: 158 ms, total: 14.2 s\n",
      "Wall time: 14.3 s\n"
     ]
    }
   ],
   "execution_count": 89
  },
  {
   "metadata": {
    "ExecuteTime": {
     "end_time": "2024-07-24T08:44:31.681245Z",
     "start_time": "2024-07-24T08:44:31.674415Z"
    }
   },
   "cell_type": "code",
   "source": "targets = sample_df.target.values",
   "id": "a338451b64eedc",
   "outputs": [],
   "execution_count": 90
  },
  {
   "metadata": {
    "ExecuteTime": {
     "end_time": "2024-07-24T08:45:12.495803Z",
     "start_time": "2024-07-24T08:45:12.467184Z"
    }
   },
   "cell_type": "code",
   "source": [
    "from sklearn.model_selection import train_test_split\n",
    "train_inputs, val_inputs, train_targets, val_targets = train_test_split(inputs, targets, test_size=0.3, random_state=42)"
   ],
   "id": "5d0dcc737548bb8",
   "outputs": [],
   "execution_count": 91
  },
  {
   "metadata": {},
   "cell_type": "markdown",
   "source": [
    "## Prepare data for training\n",
    "1. Convert to TF-IDF vectors\n",
    "2. Convert vectors to PyTorch tensors\n",
    "3. Create PyTorch dataloaders"
   ],
   "id": "213d4ee6aee3bb"
  },
  {
   "metadata": {},
   "cell_type": "markdown",
   "source": "### Convert to TF-IDF vectors ",
   "id": "37b333cb8457eb57"
  },
  {
   "metadata": {
    "ExecuteTime": {
     "end_time": "2024-07-24T08:45:30.422694Z",
     "start_time": "2024-07-24T08:45:30.419802Z"
    }
   },
   "cell_type": "code",
   "source": [
    "import torch\n",
    "from torch.utils.data import TensorDataset, DataLoader\n",
    "import torch.nn.functional as F"
   ],
   "id": "b969d73ba79188e3",
   "outputs": [],
   "execution_count": 92
  },
  {
   "metadata": {},
   "cell_type": "markdown",
   "source": [
    "w = tf * log(N/df) <br>\n",
    "w = frequency of x in doc y <br>\n",
    "N = total doc <br>\n",
    "df = total doc where x is present\n"
   ],
   "id": "43aa0c577b1bd124"
  },
  {
   "metadata": {
    "ExecuteTime": {
     "end_time": "2024-07-24T08:45:48.052200Z",
     "start_time": "2024-07-24T08:45:46.832866Z"
    }
   },
   "cell_type": "code",
   "source": [
    "train_tensors = F.normalize(torch.tensor(train_inputs.toarray()).float(), dim=0)\n",
    "val_tensors = F.normalize(torch.tensor(val_inputs.toarray()).float(), dim=0)"
   ],
   "id": "d5391d5f8042b238",
   "outputs": [],
   "execution_count": 93
  },
  {
   "metadata": {
    "ExecuteTime": {
     "end_time": "2024-07-24T08:45:55.695846Z",
     "start_time": "2024-07-24T08:45:55.689543Z"
    }
   },
   "cell_type": "code",
   "source": "train_tensors.shape, val_tensors.shape",
   "id": "e10fc5306a90f01a",
   "outputs": [
    {
     "data": {
      "text/plain": [
       "(torch.Size([91428, 1000]), torch.Size([39184, 1000]))"
      ]
     },
     "execution_count": 94,
     "metadata": {},
     "output_type": "execute_result"
    }
   ],
   "execution_count": 94
  },
  {
   "metadata": {
    "ExecuteTime": {
     "end_time": "2024-07-24T08:46:03.891298Z",
     "start_time": "2024-07-24T08:46:03.884808Z"
    }
   },
   "cell_type": "code",
   "source": [
    "train_ds = TensorDataset(train_tensors, torch.tensor(train_targets))\n",
    "val_ds = TensorDataset(val_tensors, torch.tensor(val_targets))"
   ],
   "id": "192425179145579",
   "outputs": [],
   "execution_count": 95
  },
  {
   "metadata": {
    "ExecuteTime": {
     "end_time": "2024-07-24T08:46:14.187850Z",
     "start_time": "2024-07-24T08:46:14.180105Z"
    }
   },
   "cell_type": "code",
   "source": [
    "batch_size = 128\n",
    "train_dl = DataLoader(train_ds, batch_size, shuffle=True)\n",
    "val_dl = DataLoader(val_ds, batch_size)"
   ],
   "id": "d1b7bffcae19c68c",
   "outputs": [],
   "execution_count": 96
  },
  {
   "metadata": {},
   "cell_type": "markdown",
   "source": "#### NN network ",
   "id": "6bafd1e5522f90c5"
  },
  {
   "metadata": {
    "ExecuteTime": {
     "end_time": "2024-07-24T08:48:05.334785Z",
     "start_time": "2024-07-24T08:48:05.326703Z"
    }
   },
   "cell_type": "code",
   "source": "from sklearn.metrics import accuracy_score, f1_score",
   "id": "632b58f7711f38e7",
   "outputs": [],
   "execution_count": 99
  },
  {
   "metadata": {
    "ExecuteTime": {
     "end_time": "2024-07-24T08:51:36.548538Z",
     "start_time": "2024-07-24T08:51:36.543078Z"
    }
   },
   "cell_type": "code",
   "source": [
    "import torch.nn as nn\n",
    "import torch.nn.functional as F\n",
    "\n",
    "\n",
    "class classifier(nn.Module):\n",
    "    def __init__(self):\n",
    "        super().__init__()\n",
    "        self.layer1 = nn.Linear(1000, 512)\n",
    "        self.layer2 = nn.Linear(512, 256)\n",
    "        self.layer3 = nn.Linear(256, 128)\n",
    "        self.layer4 = nn.Linear(128, 1)\n",
    "\n",
    "    def forward(self, inputs):\n",
    "        out = self.layer1(inputs)\n",
    "        out = F.relu(out)\n",
    "        out = self.layer2(out)\n",
    "        out = F.relu(out)\n",
    "        out = self.layer3(out)\n",
    "        out = F.relu(out)\n",
    "        out = self.layer4(out)\n",
    "        return out"
   ],
   "id": "3e5ed18e193c85cc",
   "outputs": [],
   "execution_count": 112
  },
  {
   "metadata": {
    "ExecuteTime": {
     "end_time": "2024-07-24T08:51:37.360295Z",
     "start_time": "2024-07-24T08:51:37.351235Z"
    }
   },
   "cell_type": "code",
   "source": "model = classifier()",
   "id": "8400f3d57a54423d",
   "outputs": [],
   "execution_count": 113
  },
  {
   "metadata": {
    "ExecuteTime": {
     "end_time": "2024-07-24T08:48:07.571918Z",
     "start_time": "2024-07-24T08:48:07.550279Z"
    }
   },
   "cell_type": "code",
   "source": [
    "for batch in train_dl:\n",
    "    bi, bt = batch\n",
    "    # print(bi.shape)\n",
    "    # print(bt.shape)\n",
    "    bo = model(bi)\n",
    "    #convert to prob\n",
    "    probs = torch.sigmoid(bo)\n",
    "    #convert to preds\n",
    "\n",
    "    preds = (probs > 0.5).int()\n",
    "\n",
    "    break"
   ],
   "id": "54836bdc98457b55",
   "outputs": [],
   "execution_count": 102
  },
  {
   "metadata": {
    "ExecuteTime": {
     "end_time": "2024-07-24T08:54:58.388512Z",
     "start_time": "2024-07-24T08:54:58.377394Z"
    }
   },
   "cell_type": "code",
   "source": [
    "def evaluate(model, dl):\n",
    "    losses, accs, f1s = [], [], []\n",
    "    for batch in dl:\n",
    "        inputs, targets = batch\n",
    "        out = model(inputs)\n",
    "        #convert to probs\n",
    "\n",
    "        probs = torch.sigmoid(out)[:, 0]\n",
    "        loss = F.binary_cross_entropy(probs, targets.float(),weight=torch.tensor(20))\n",
    "        preds = (probs > 0.5).int()\n",
    "        acc = accuracy_score(targets, preds)\n",
    "        f1 = f1_score(targets, preds)\n",
    "\n",
    "        losses.append(loss)\n",
    "        accs.append(acc)\n",
    "        f1s.append(f1)\n",
    "\n",
    "        return torch.mean(torch.tensor(losses)), torch.mean(torch.tensor(accs)), torch.mean(torch.tensor(f1s))\n",
    "\n"
   ],
   "id": "2309857083739513",
   "outputs": [],
   "execution_count": 116
  },
  {
   "metadata": {
    "ExecuteTime": {
     "end_time": "2024-07-24T08:48:25.147255Z",
     "start_time": "2024-07-24T08:48:25.131300Z"
    }
   },
   "cell_type": "code",
   "source": "evaluate(model, train_dl)",
   "id": "28de4d1d03bec262",
   "outputs": [
    {
     "data": {
      "text/plain": [
       "(tensor(0.7074),\n",
       " tensor(0.0703, dtype=torch.float64),\n",
       " tensor(0.1314, dtype=torch.float64))"
      ]
     },
     "execution_count": 106,
     "metadata": {},
     "output_type": "execute_result"
    }
   ],
   "execution_count": 106
  },
  {
   "metadata": {
    "ExecuteTime": {
     "end_time": "2024-07-24T08:58:23.971820Z",
     "start_time": "2024-07-24T08:58:23.963379Z"
    }
   },
   "cell_type": "code",
   "source": [
    "def fit(epochs, lr, model, train_dl, val_dl):\n",
    "    optimizer = torch.optim.Adam(model.parameters(),lr,weight_decay=1e-5)\n",
    "    history = [] # for recording epoch-wise results\n",
    "\n",
    "    #traininig\n",
    "    for epoch in range(epochs):\n",
    "        for batch in train_dl:\n",
    "            input,target = batch\n",
    "            out = model(input)\n",
    "            probs = torch.sigmoid(out[:,0])\n",
    "            \n",
    "            loss = F.binary_cross_entropy(probs,target.float(),weight=torch.tensor(20))\n",
    "            \n",
    "            #opitmization\n",
    "            loss.backward()\n",
    "            optimizer.step()\n",
    "            optimizer.zero_grad()\n",
    "            \n",
    "    #Evaluation \n",
    "    \n",
    "        result = evaluate(model,val_dl)\n",
    "        loss,accuracy,f1 = result\n",
    "        print(\"epoch {:.4f} , loss {:.4f}, accuracy {:.4f}, f1_score {:.4f}\".format(epoch+1,loss,accuracy,f1))\n",
    "        \n",
    "        history.append(result)\n",
    "        \n",
    "    return history\n",
    "            "
   ],
   "id": "4ca223b8df114780",
   "outputs": [],
   "execution_count": 121
  },
  {
   "metadata": {
    "ExecuteTime": {
     "end_time": "2024-07-24T09:03:16.989247Z",
     "start_time": "2024-07-24T09:03:16.980881Z"
    }
   },
   "cell_type": "code",
   "source": [
    "class FeedForwardModel(nn.Module):\n",
    "    def __init__(self):\n",
    "        super().__init__()\n",
    "        self.linear1 = nn.Linear(1000, 512)\n",
    "        self.linear2 = nn.Linear(512, 256)\n",
    "        self.linear3 = nn.Linear(256, 128)\n",
    "        self.linear4 = nn.Linear(128, 1)\n",
    "        \n",
    "    def forward(self, xb):\n",
    "        out = F.relu(self.linear1(xb))\n",
    "        out = F.relu(self.linear2(out))\n",
    "        out = F.relu(self.linear3(out))\n",
    "        out = self.linear4(out)\n",
    "        return out"
   ],
   "id": "98ee11b519219767",
   "outputs": [],
   "execution_count": 130
  },
  {
   "metadata": {
    "ExecuteTime": {
     "end_time": "2024-07-24T09:05:03.569028Z",
     "start_time": "2024-07-24T09:04:52.275321Z"
    }
   },
   "cell_type": "code",
   "source": [
    "%%time\n",
    "history = []\n",
    "model = FeedForwardModel()\n",
    "history += fit(5,0.001,model,train_dl,val_dl)"
   ],
   "id": "1425b601f1c243ea",
   "outputs": [
    {
     "name": "stdout",
     "output_type": "stream",
     "text": [
      "epoch 1.0000 , loss 2.9923, accuracy 0.9297, f1_score 0.6087\n",
      "epoch 2.0000 , loss 2.6184, accuracy 0.9219, f1_score 0.4444\n",
      "epoch 3.0000 , loss 2.4858, accuracy 0.9453, f1_score 0.6957\n",
      "epoch 4.0000 , loss 2.6632, accuracy 0.9453, f1_score 0.6957\n",
      "epoch 5.0000 , loss 2.9326, accuracy 0.9375, f1_score 0.6364\n",
      "CPU times: user 13.5 s, sys: 3.87 s, total: 17.4 s\n",
      "Wall time: 11.3 s\n"
     ]
    }
   ],
   "execution_count": 139
  },
  {
   "metadata": {
    "ExecuteTime": {
     "end_time": "2024-07-24T09:05:19.935361Z",
     "start_time": "2024-07-24T09:05:08.573440Z"
    }
   },
   "cell_type": "code",
   "source": [
    "%%time\n",
    "history += fit(5,0.0001,model,train_dl,val_dl)\n"
   ],
   "id": "b35660137e5c728a",
   "outputs": [
    {
     "name": "stdout",
     "output_type": "stream",
     "text": [
      "epoch 1.0000 , loss 2.7693, accuracy 0.9375, f1_score 0.6923\n",
      "epoch 2.0000 , loss 2.8443, accuracy 0.9375, f1_score 0.7143\n",
      "epoch 3.0000 , loss 2.7768, accuracy 0.9375, f1_score 0.6923\n",
      "epoch 4.0000 , loss 2.8565, accuracy 0.9375, f1_score 0.6923\n",
      "epoch 5.0000 , loss 2.8966, accuracy 0.9297, f1_score 0.6400\n",
      "CPU times: user 13.5 s, sys: 4.03 s, total: 17.5 s\n",
      "Wall time: 11.4 s\n"
     ]
    }
   ],
   "execution_count": 140
  },
  {
   "metadata": {
    "ExecuteTime": {
     "end_time": "2024-07-24T09:06:28.538609Z",
     "start_time": "2024-07-24T09:06:17.183920Z"
    }
   },
   "cell_type": "code",
   "source": [
    "%%time\n",
    "history += fit(5,0.00001,model,train_dl,val_dl)\n"
   ],
   "id": "44df102f64ddf6ed",
   "outputs": [
    {
     "name": "stdout",
     "output_type": "stream",
     "text": [
      "epoch 1.0000 , loss 2.9584, accuracy 0.9375, f1_score 0.7143\n",
      "epoch 2.0000 , loss 2.9603, accuracy 0.9375, f1_score 0.7143\n",
      "epoch 3.0000 , loss 2.9734, accuracy 0.9375, f1_score 0.7143\n",
      "epoch 4.0000 , loss 2.9909, accuracy 0.9375, f1_score 0.7143\n",
      "epoch 5.0000 , loss 2.9760, accuracy 0.9375, f1_score 0.7143\n",
      "CPU times: user 13.5 s, sys: 4.03 s, total: 17.6 s\n",
      "Wall time: 11.4 s\n"
     ]
    }
   ],
   "execution_count": 149
  },
  {
   "metadata": {
    "ExecuteTime": {
     "end_time": "2024-07-24T09:06:29.531274Z",
     "start_time": "2024-07-24T09:06:29.454542Z"
    }
   },
   "cell_type": "code",
   "source": [
    "import matplotlib.pyplot as plt\n",
    "f1s = [item[2] for item in history]\n",
    "plt.plot(f1s)\n",
    "plt.show()\n"
   ],
   "id": "950dbd42801857eb",
   "outputs": [
    {
     "data": {
      "text/plain": [
       "<Figure size 640x480 with 1 Axes>"
      ],
      "image/png": "[encoded data removed]"
     },
     "metadata": {},
     "output_type": "display_data"
    }
   ],
   "execution_count": 150
  },
  {
   "metadata": {},
   "cell_type": "code",
   "outputs": [],
   "execution_count": null,
   "source": "",
   "id": "ab68382882e158ef"
  }
 ],
 "metadata": {
  "kernelspec": {
   "display_name": "Python 3",
   "language": "python",
   "name": "python3"
  },
  "language_info": {
   "codemirror_mode": {
    "name": "ipython",
    "version": 2
   },
   "file_extension": ".py",
   "mimetype": "text/x-python",
   "name": "python",
   "nbconvert_exporter": "python",
   "pygments_lexer": "ipython2",
   "version": "2.7.6"
  }
 },
 "nbformat": 4,
 "nbformat_minor": 5
}
